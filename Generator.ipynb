{
 "cells": [
  {
   "cell_type": "code",
   "execution_count": 60,
   "id": "8d7c48ad",
   "metadata": {},
   "outputs": [],
   "source": [
    "import tensorflow as tf\n",
    "import numpy as np\n",
    "import pandas as pd\n",
    "from PIL import Image\n",
    "from collections import OrderedDict\n",
    "from functools import partial\n",
    "from random import shuffle\n",
    "import matplotlib.pyplot as plt\n",
    "import os\n",
    "import re\n",
    "from keras.models import Model, load_model\n",
    "from tensorflow.keras import Model, Input, regularizers, utils\n",
    "from tensorflow.keras.layers import Dense, Conv2D, MaxPool2D, UpSampling2D"
   ]
  },
  {
   "cell_type": "code",
   "execution_count": 61,
   "id": "4cc0b983",
   "metadata": {},
   "outputs": [],
   "source": [
    "import pandas as pd\n",
    "import numpy as np\n",
    "import matplotlib.pyplot as plt\n",
    "import keras\n",
    "import re\n",
    "import string\n",
    "import json\n",
    "from time import time\n",
    "import pickle\n",
    "from keras.applications.vgg16 import VGG16\n",
    "from keras.preprocessing import image\n",
    "from keras.models import Model, load_model\n",
    "from keras.utils import to_categorical\n",
    "from keras.layers import Input, Dense, Dropout, Embedding, LSTM\n",
    "from tqdm import tqdm"
   ]
  },
  {
   "cell_type": "code",
   "execution_count": 62,
   "id": "8127d699",
   "metadata": {},
   "outputs": [
    {
     "name": "stdout",
     "output_type": "stream",
     "text": [
      "Model: \"vgg19\"\n",
      "_________________________________________________________________\n",
      " Layer (type)                Output Shape              Param #   \n",
      "=================================================================\n",
      " input_3 (InputLayer)        [(None, 224, 224, 3)]     0         \n",
      "                                                                 \n",
      " block1_conv1 (Conv2D)       (None, 224, 224, 64)      1792      \n",
      "                                                                 \n",
      " block1_conv2 (Conv2D)       (None, 224, 224, 64)      36928     \n",
      "                                                                 \n",
      " block1_pool (MaxPooling2D)  (None, 112, 112, 64)      0         \n",
      "                                                                 \n",
      " block2_conv1 (Conv2D)       (None, 112, 112, 128)     73856     \n",
      "                                                                 \n",
      " block2_conv2 (Conv2D)       (None, 112, 112, 128)     147584    \n",
      "                                                                 \n",
      " block2_pool (MaxPooling2D)  (None, 56, 56, 128)       0         \n",
      "                                                                 \n",
      " block3_conv1 (Conv2D)       (None, 56, 56, 256)       295168    \n",
      "                                                                 \n",
      " block3_conv2 (Conv2D)       (None, 56, 56, 256)       590080    \n",
      "                                                                 \n",
      " block3_conv3 (Conv2D)       (None, 56, 56, 256)       590080    \n",
      "                                                                 \n",
      " block3_conv4 (Conv2D)       (None, 56, 56, 256)       590080    \n",
      "                                                                 \n",
      " block3_pool (MaxPooling2D)  (None, 28, 28, 256)       0         \n",
      "                                                                 \n",
      " block4_conv1 (Conv2D)       (None, 28, 28, 512)       1180160   \n",
      "                                                                 \n",
      " block4_conv2 (Conv2D)       (None, 28, 28, 512)       2359808   \n",
      "                                                                 \n",
      " block4_conv3 (Conv2D)       (None, 28, 28, 512)       2359808   \n",
      "                                                                 \n",
      " block4_conv4 (Conv2D)       (None, 28, 28, 512)       2359808   \n",
      "                                                                 \n",
      " block4_pool (MaxPooling2D)  (None, 14, 14, 512)       0         \n",
      "                                                                 \n",
      " block5_conv1 (Conv2D)       (None, 14, 14, 512)       2359808   \n",
      "                                                                 \n",
      " block5_conv2 (Conv2D)       (None, 14, 14, 512)       2359808   \n",
      "                                                                 \n",
      " block5_conv3 (Conv2D)       (None, 14, 14, 512)       2359808   \n",
      "                                                                 \n",
      " block5_conv4 (Conv2D)       (None, 14, 14, 512)       2359808   \n",
      "                                                                 \n",
      " block5_pool (MaxPooling2D)  (None, 7, 7, 512)         0         \n",
      "                                                                 \n",
      " flatten (Flatten)           (None, 25088)             0         \n",
      "                                                                 \n",
      " fc1 (Dense)                 (None, 4096)              102764544 \n",
      "                                                                 \n",
      " fc2 (Dense)                 (None, 4096)              16781312  \n",
      "                                                                 \n",
      " predictions (Dense)         (None, 1000)              4097000   \n",
      "                                                                 \n",
      "=================================================================\n",
      "Total params: 143,667,240\n",
      "Trainable params: 143,667,240\n",
      "Non-trainable params: 0\n",
      "_________________________________________________________________\n",
      "None\n"
     ]
    }
   ],
   "source": [
    "from keras.applications.vgg19 import VGG19\n",
    "# model = VGG19()\n",
    "model = VGG19(weights=\"imagenet\",input_shape=(224,224,3))\n",
    "print(model.summary())"
   ]
  },
  {
   "cell_type": "code",
   "execution_count": 63,
   "id": "7ec63f6c",
   "metadata": {},
   "outputs": [
    {
     "data": {
      "text/plain": [
       "<KerasTensor: shape=(None, 28, 28, 512) dtype=float32 (created by layer 'block4_conv1')>"
      ]
     },
     "execution_count": 63,
     "metadata": {},
     "output_type": "execute_result"
    }
   ],
   "source": [
    "model.layers[12].output"
   ]
  },
  {
   "cell_type": "code",
   "execution_count": 64,
   "id": "cfebcbd5",
   "metadata": {},
   "outputs": [],
   "source": [
    "model_new = Model(model.input, model.layers[12].output)"
   ]
  },
  {
   "cell_type": "code",
   "execution_count": 65,
   "id": "3dc70b1c",
   "metadata": {},
   "outputs": [
    {
     "name": "stdout",
     "output_type": "stream",
     "text": [
      "Model: \"model_2\"\n",
      "_________________________________________________________________\n",
      " Layer (type)                Output Shape              Param #   \n",
      "=================================================================\n",
      " input_3 (InputLayer)        [(None, 224, 224, 3)]     0         \n",
      "                                                                 \n",
      " block1_conv1 (Conv2D)       (None, 224, 224, 64)      1792      \n",
      "                                                                 \n",
      " block1_conv2 (Conv2D)       (None, 224, 224, 64)      36928     \n",
      "                                                                 \n",
      " block1_pool (MaxPooling2D)  (None, 112, 112, 64)      0         \n",
      "                                                                 \n",
      " block2_conv1 (Conv2D)       (None, 112, 112, 128)     73856     \n",
      "                                                                 \n",
      " block2_conv2 (Conv2D)       (None, 112, 112, 128)     147584    \n",
      "                                                                 \n",
      " block2_pool (MaxPooling2D)  (None, 56, 56, 128)       0         \n",
      "                                                                 \n",
      " block3_conv1 (Conv2D)       (None, 56, 56, 256)       295168    \n",
      "                                                                 \n",
      " block3_conv2 (Conv2D)       (None, 56, 56, 256)       590080    \n",
      "                                                                 \n",
      " block3_conv3 (Conv2D)       (None, 56, 56, 256)       590080    \n",
      "                                                                 \n",
      " block3_conv4 (Conv2D)       (None, 56, 56, 256)       590080    \n",
      "                                                                 \n",
      " block3_pool (MaxPooling2D)  (None, 28, 28, 256)       0         \n",
      "                                                                 \n",
      " block4_conv1 (Conv2D)       (None, 28, 28, 512)       1180160   \n",
      "                                                                 \n",
      "=================================================================\n",
      "Total params: 3,505,728\n",
      "Trainable params: 3,505,728\n",
      "Non-trainable params: 0\n",
      "_________________________________________________________________\n"
     ]
    }
   ],
   "source": [
    "model_new.summary()"
   ]
  },
  {
   "cell_type": "code",
   "execution_count": 66,
   "id": "f673fce0",
   "metadata": {},
   "outputs": [],
   "source": [
    "import glob\n",
    "face_images = glob.glob('E:/Download/AniGAN-main/face2anime/human-faces/' + \"*.*\")\n",
    "anime_images = glob.glob('E:/Download/AniGAN-main/face2anime/anime-faces/' + \"*.*\")"
   ]
  },
  {
   "cell_type": "code",
   "execution_count": 67,
   "id": "76248cbb",
   "metadata": {},
   "outputs": [
    {
     "data": {
      "image/png": "[encoded data removed]",
      "text/plain": [
       "<PIL.PngImagePlugin.PngImageFile image mode=RGB size=256x256>"
      ]
     },
     "execution_count": 67,
     "metadata": {},
     "output_type": "execute_result"
    }
   ],
   "source": [
    "from tensorflow.keras import Model, Input, regularizers, utils\n",
    "img_human = utils.load_img(face_images[0])\n",
    "img_human"
   ]
  },
  {
   "cell_type": "code",
   "execution_count": 68,
   "id": "868e6648",
   "metadata": {},
   "outputs": [
    {
     "data": {
      "image/png": "[encoded data removed]",
      "text/plain": [
       "<PIL.JpegImagePlugin.JpegImageFile image mode=RGB size=256x256>"
      ]
     },
     "execution_count": 68,
     "metadata": {},
     "output_type": "execute_result"
    }
   ],
   "source": [
    "img_anime = utils.load_img(anime_images[0])\n",
    "img_anime"
   ]
  },
  {
   "cell_type": "code",
   "execution_count": 69,
   "id": "244e477f",
   "metadata": {},
   "outputs": [
    {
     "name": "stderr",
     "output_type": "stream",
     "text": [
      "100%|████████████████████████████████████████████████████████████████████████████████| 100/100 [00:01<00:00, 95.72it/s]\n"
     ]
    }
   ],
   "source": [
    "all_images_anime = []\n",
    "all_images_human = []\n",
    "\n",
    "for i in tqdm(face_images):\n",
    "    img = utils.load_img(i, target_size=(224,224,3))\n",
    "    img = utils.img_to_array(img)\n",
    "    \n",
    "#     print(\"Before - \", img.shape)\n",
    "    img = np.expand_dims(img,axis=0)\n",
    "#     print(\"After - \", img.shape)\n",
    "    \n",
    "    all_images_human.append(img)"
   ]
  },
  {
   "cell_type": "code",
   "execution_count": 70,
   "id": "35813087",
   "metadata": {},
   "outputs": [
    {
     "name": "stderr",
     "output_type": "stream",
     "text": [
      "100%|███████████████████████████████████████████████████████████████████████████████| 100/100 [00:00<00:00, 209.15it/s]\n"
     ]
    }
   ],
   "source": [
    "for i in tqdm(anime_images):\n",
    "    img = utils.load_img(i, target_size=(224,224,3))\n",
    "    img = utils.img_to_array(img)\n",
    "    \n",
    "#     print(\"Before - \", img.shape)\n",
    "    img = np.expand_dims(img,axis=0)\n",
    "#     print(\"After - \", img.shape)\n",
    "    all_images_anime.append(img)"
   ]
  },
  {
   "cell_type": "code",
   "execution_count": null,
   "id": "08de0c18",
   "metadata": {},
   "outputs": [],
   "source": []
  },
  {
   "cell_type": "code",
   "execution_count": null,
   "id": "cf060956",
   "metadata": {},
   "outputs": [],
   "source": []
  },
  {
   "cell_type": "code",
   "execution_count": 71,
   "id": "e09c5b47",
   "metadata": {},
   "outputs": [],
   "source": [
    "def encode_image(img):\n",
    "    feature_vector = model_new.predict(img)\n",
    "    \n",
    "#     feature_vector = feature_vector.reshape((-1,))\n",
    "    print(feature_vector.shape)\n",
    "    return feature_vector"
   ]
  },
  {
   "cell_type": "code",
   "execution_count": 72,
   "id": "b026c47d",
   "metadata": {},
   "outputs": [
    {
     "name": "stdout",
     "output_type": "stream",
     "text": [
      "1/1 [==============================] - 0s 132ms/step\n",
      "(1, 28, 28, 512)\n",
      "Encoding in Progress Time step 0 \n",
      "1/1 [==============================] - 0s 83ms/step\n",
      "(1, 28, 28, 512)\n",
      "Encoding in Progress Time step 1 \n",
      "1/1 [==============================] - 0s 81ms/step\n",
      "(1, 28, 28, 512)\n",
      "Encoding in Progress Time step 2 \n",
      "1/1 [==============================] - 0s 85ms/step\n",
      "(1, 28, 28, 512)\n",
      "Encoding in Progress Time step 3 \n",
      "1/1 [==============================] - 0s 86ms/step\n",
      "(1, 28, 28, 512)\n",
      "Encoding in Progress Time step 4 \n",
      "1/1 [==============================] - 0s 86ms/step\n",
      "(1, 28, 28, 512)\n",
      "Encoding in Progress Time step 5 \n",
      "1/1 [==============================] - 0s 87ms/step\n",
      "(1, 28, 28, 512)\n",
      "Encoding in Progress Time step 6 \n",
      "1/1 [==============================] - 0s 86ms/step\n",
      "(1, 28, 28, 512)\n",
      "Encoding in Progress Time step 7 \n",
      "1/1 [==============================] - 0s 89ms/step\n",
      "(1, 28, 28, 512)\n",
      "Encoding in Progress Time step 8 \n",
      "1/1 [==============================] - 0s 88ms/step\n",
      "(1, 28, 28, 512)\n",
      "Encoding in Progress Time step 9 \n",
      "1/1 [==============================] - 0s 93ms/step\n",
      "(1, 28, 28, 512)\n",
      "Encoding in Progress Time step 10 \n",
      "1/1 [==============================] - 0s 87ms/step\n",
      "(1, 28, 28, 512)\n",
      "Encoding in Progress Time step 11 \n",
      "1/1 [==============================] - 0s 85ms/step\n",
      "(1, 28, 28, 512)\n",
      "Encoding in Progress Time step 12 \n",
      "1/1 [==============================] - 0s 87ms/step\n",
      "(1, 28, 28, 512)\n",
      "Encoding in Progress Time step 13 \n",
      "1/1 [==============================] - 0s 86ms/step\n",
      "(1, 28, 28, 512)\n",
      "Encoding in Progress Time step 14 \n",
      "1/1 [==============================] - 0s 83ms/step\n",
      "(1, 28, 28, 512)\n",
      "Encoding in Progress Time step 15 \n",
      "1/1 [==============================] - 0s 84ms/step\n",
      "(1, 28, 28, 512)\n",
      "Encoding in Progress Time step 16 \n",
      "1/1 [==============================] - 0s 86ms/step\n",
      "(1, 28, 28, 512)\n",
      "Encoding in Progress Time step 17 \n",
      "1/1 [==============================] - 0s 86ms/step\n",
      "(1, 28, 28, 512)\n",
      "Encoding in Progress Time step 18 \n",
      "1/1 [==============================] - 0s 85ms/step\n",
      "(1, 28, 28, 512)\n",
      "Encoding in Progress Time step 19 \n",
      "1/1 [==============================] - 0s 85ms/step\n",
      "(1, 28, 28, 512)\n",
      "Encoding in Progress Time step 20 \n",
      "1/1 [==============================] - 0s 88ms/step\n",
      "(1, 28, 28, 512)\n",
      "Encoding in Progress Time step 21 \n",
      "1/1 [==============================] - 0s 108ms/step\n",
      "(1, 28, 28, 512)\n",
      "Encoding in Progress Time step 22 \n",
      "1/1 [==============================] - 0s 97ms/step\n",
      "(1, 28, 28, 512)\n",
      "Encoding in Progress Time step 23 \n",
      "1/1 [==============================] - 0s 89ms/step\n",
      "(1, 28, 28, 512)\n",
      "Encoding in Progress Time step 24 \n",
      "1/1 [==============================] - 0s 87ms/step\n",
      "(1, 28, 28, 512)\n",
      "Encoding in Progress Time step 25 \n",
      "1/1 [==============================] - 0s 99ms/step\n",
      "(1, 28, 28, 512)\n",
      "Encoding in Progress Time step 26 \n",
      "1/1 [==============================] - 0s 94ms/step\n",
      "(1, 28, 28, 512)\n",
      "Encoding in Progress Time step 27 \n",
      "1/1 [==============================] - 0s 89ms/step\n",
      "(1, 28, 28, 512)\n",
      "Encoding in Progress Time step 28 \n",
      "1/1 [==============================] - 0s 104ms/step\n",
      "(1, 28, 28, 512)\n",
      "Encoding in Progress Time step 29 \n",
      "1/1 [==============================] - 0s 97ms/step\n",
      "(1, 28, 28, 512)\n",
      "Encoding in Progress Time step 30 \n",
      "1/1 [==============================] - 0s 88ms/step\n",
      "(1, 28, 28, 512)\n",
      "Encoding in Progress Time step 31 \n",
      "1/1 [==============================] - 0s 98ms/step\n",
      "(1, 28, 28, 512)\n",
      "Encoding in Progress Time step 32 \n",
      "1/1 [==============================] - 0s 96ms/step\n",
      "(1, 28, 28, 512)\n",
      "Encoding in Progress Time step 33 \n",
      "1/1 [==============================] - 0s 89ms/step\n",
      "(1, 28, 28, 512)\n",
      "Encoding in Progress Time step 34 \n",
      "1/1 [==============================] - 0s 101ms/step\n",
      "(1, 28, 28, 512)\n",
      "Encoding in Progress Time step 35 \n",
      "1/1 [==============================] - 0s 99ms/step\n",
      "(1, 28, 28, 512)\n",
      "Encoding in Progress Time step 36 \n",
      "1/1 [==============================] - 0s 112ms/step\n",
      "(1, 28, 28, 512)\n",
      "Encoding in Progress Time step 37 \n",
      "1/1 [==============================] - 0s 96ms/step\n",
      "(1, 28, 28, 512)\n",
      "Encoding in Progress Time step 38 \n",
      "1/1 [==============================] - 0s 88ms/step\n",
      "(1, 28, 28, 512)\n",
      "Encoding in Progress Time step 39 \n",
      "1/1 [==============================] - 0s 102ms/step\n",
      "(1, 28, 28, 512)\n",
      "Encoding in Progress Time step 40 \n",
      "1/1 [==============================] - 0s 97ms/step\n",
      "(1, 28, 28, 512)\n",
      "Encoding in Progress Time step 41 \n",
      "1/1 [==============================] - 0s 100ms/step\n",
      "(1, 28, 28, 512)\n",
      "Encoding in Progress Time step 42 \n",
      "1/1 [==============================] - 0s 94ms/step\n",
      "(1, 28, 28, 512)\n",
      "Encoding in Progress Time step 43 \n",
      "1/1 [==============================] - 0s 86ms/step\n",
      "(1, 28, 28, 512)\n",
      "Encoding in Progress Time step 44 \n",
      "1/1 [==============================] - 0s 86ms/step\n",
      "(1, 28, 28, 512)\n",
      "Encoding in Progress Time step 45 \n",
      "1/1 [==============================] - 0s 85ms/step\n",
      "(1, 28, 28, 512)\n",
      "Encoding in Progress Time step 46 \n",
      "1/1 [==============================] - 0s 87ms/step\n",
      "(1, 28, 28, 512)\n",
      "Encoding in Progress Time step 47 \n",
      "1/1 [==============================] - 0s 85ms/step\n",
      "(1, 28, 28, 512)\n",
      "Encoding in Progress Time step 48 \n",
      "1/1 [==============================] - 0s 85ms/step\n",
      "(1, 28, 28, 512)\n",
      "Encoding in Progress Time step 49 \n",
      "1/1 [==============================] - 0s 84ms/step\n",
      "(1, 28, 28, 512)\n",
      "Encoding in Progress Time step 50 \n",
      "1/1 [==============================] - 0s 86ms/step\n",
      "(1, 28, 28, 512)\n",
      "Encoding in Progress Time step 51 \n",
      "1/1 [==============================] - 0s 84ms/step\n",
      "(1, 28, 28, 512)\n",
      "Encoding in Progress Time step 52 \n",
      "1/1 [==============================] - 0s 86ms/step\n",
      "(1, 28, 28, 512)\n",
      "Encoding in Progress Time step 53 \n",
      "1/1 [==============================] - 0s 87ms/step\n",
      "(1, 28, 28, 512)\n",
      "Encoding in Progress Time step 54 \n",
      "1/1 [==============================] - 0s 85ms/step\n",
      "(1, 28, 28, 512)\n",
      "Encoding in Progress Time step 55 \n",
      "1/1 [==============================] - 0s 86ms/step\n",
      "(1, 28, 28, 512)\n",
      "Encoding in Progress Time step 56 \n",
      "1/1 [==============================] - 0s 84ms/step\n",
      "(1, 28, 28, 512)\n",
      "Encoding in Progress Time step 57 \n",
      "1/1 [==============================] - 0s 89ms/step\n",
      "(1, 28, 28, 512)\n",
      "Encoding in Progress Time step 58 \n",
      "1/1 [==============================] - 0s 86ms/step\n",
      "(1, 28, 28, 512)\n",
      "Encoding in Progress Time step 59 \n",
      "1/1 [==============================] - 0s 85ms/step\n",
      "(1, 28, 28, 512)\n",
      "Encoding in Progress Time step 60 \n",
      "1/1 [==============================] - 0s 83ms/step\n",
      "(1, 28, 28, 512)\n",
      "Encoding in Progress Time step 61 \n",
      "1/1 [==============================] - 0s 84ms/step\n",
      "(1, 28, 28, 512)\n",
      "Encoding in Progress Time step 62 \n",
      "1/1 [==============================] - 0s 87ms/step\n",
      "(1, 28, 28, 512)\n",
      "Encoding in Progress Time step 63 \n",
      "1/1 [==============================] - 0s 86ms/step\n",
      "(1, 28, 28, 512)\n",
      "Encoding in Progress Time step 64 \n",
      "1/1 [==============================] - 0s 86ms/step\n",
      "(1, 28, 28, 512)\n",
      "Encoding in Progress Time step 65 \n",
      "1/1 [==============================] - 0s 84ms/step\n",
      "(1, 28, 28, 512)\n",
      "Encoding in Progress Time step 66 \n",
      "1/1 [==============================] - 0s 84ms/step\n",
      "(1, 28, 28, 512)\n",
      "Encoding in Progress Time step 67 \n",
      "1/1 [==============================] - 0s 85ms/step\n",
      "(1, 28, 28, 512)\n",
      "Encoding in Progress Time step 68 \n",
      "1/1 [==============================] - 0s 85ms/step\n",
      "(1, 28, 28, 512)\n",
      "Encoding in Progress Time step 69 \n",
      "1/1 [==============================] - 0s 87ms/step\n",
      "(1, 28, 28, 512)\n",
      "Encoding in Progress Time step 70 \n",
      "1/1 [==============================] - 0s 84ms/step\n",
      "(1, 28, 28, 512)\n",
      "Encoding in Progress Time step 71 \n",
      "1/1 [==============================] - 0s 83ms/step\n",
      "(1, 28, 28, 512)\n",
      "Encoding in Progress Time step 72 \n",
      "1/1 [==============================] - 0s 86ms/step\n",
      "(1, 28, 28, 512)\n",
      "Encoding in Progress Time step 73 \n",
      "1/1 [==============================] - 0s 84ms/step\n",
      "(1, 28, 28, 512)\n",
      "Encoding in Progress Time step 74 \n",
      "1/1 [==============================] - 0s 90ms/step\n",
      "(1, 28, 28, 512)\n",
      "Encoding in Progress Time step 75 \n",
      "1/1 [==============================] - 0s 84ms/step\n",
      "(1, 28, 28, 512)\n",
      "Encoding in Progress Time step 76 \n",
      "1/1 [==============================] - 0s 86ms/step\n",
      "(1, 28, 28, 512)\n",
      "Encoding in Progress Time step 77 \n",
      "1/1 [==============================] - 0s 95ms/step\n",
      "(1, 28, 28, 512)\n",
      "Encoding in Progress Time step 78 \n"
     ]
    },
    {
     "name": "stdout",
     "output_type": "stream",
     "text": [
      "1/1 [==============================] - 0s 86ms/step\n",
      "(1, 28, 28, 512)\n",
      "Encoding in Progress Time step 79 \n",
      "1/1 [==============================] - 0s 85ms/step\n",
      "(1, 28, 28, 512)\n",
      "Encoding in Progress Time step 80 \n",
      "1/1 [==============================] - 0s 107ms/step\n",
      "(1, 28, 28, 512)\n",
      "Encoding in Progress Time step 81 \n",
      "1/1 [==============================] - 0s 93ms/step\n",
      "(1, 28, 28, 512)\n",
      "Encoding in Progress Time step 82 \n",
      "1/1 [==============================] - 0s 91ms/step\n",
      "(1, 28, 28, 512)\n",
      "Encoding in Progress Time step 83 \n",
      "1/1 [==============================] - 0s 97ms/step\n",
      "(1, 28, 28, 512)\n",
      "Encoding in Progress Time step 84 \n",
      "1/1 [==============================] - 0s 89ms/step\n",
      "(1, 28, 28, 512)\n",
      "Encoding in Progress Time step 85 \n",
      "1/1 [==============================] - 0s 86ms/step\n",
      "(1, 28, 28, 512)\n",
      "Encoding in Progress Time step 86 \n",
      "1/1 [==============================] - 0s 87ms/step\n",
      "(1, 28, 28, 512)\n",
      "Encoding in Progress Time step 87 \n",
      "1/1 [==============================] - 0s 84ms/step\n",
      "(1, 28, 28, 512)\n",
      "Encoding in Progress Time step 88 \n",
      "1/1 [==============================] - 0s 84ms/step\n",
      "(1, 28, 28, 512)\n",
      "Encoding in Progress Time step 89 \n",
      "1/1 [==============================] - 0s 87ms/step\n",
      "(1, 28, 28, 512)\n",
      "Encoding in Progress Time step 90 \n",
      "1/1 [==============================] - 0s 87ms/step\n",
      "(1, 28, 28, 512)\n",
      "Encoding in Progress Time step 91 \n",
      "1/1 [==============================] - 0s 86ms/step\n",
      "(1, 28, 28, 512)\n",
      "Encoding in Progress Time step 92 \n",
      "1/1 [==============================] - 0s 92ms/step\n",
      "(1, 28, 28, 512)\n",
      "Encoding in Progress Time step 93 \n",
      "1/1 [==============================] - 0s 89ms/step\n",
      "(1, 28, 28, 512)\n",
      "Encoding in Progress Time step 94 \n",
      "1/1 [==============================] - 0s 84ms/step\n",
      "(1, 28, 28, 512)\n",
      "Encoding in Progress Time step 95 \n",
      "1/1 [==============================] - 0s 87ms/step\n",
      "(1, 28, 28, 512)\n",
      "Encoding in Progress Time step 96 \n",
      "1/1 [==============================] - 0s 91ms/step\n",
      "(1, 28, 28, 512)\n",
      "Encoding in Progress Time step 97 \n",
      "1/1 [==============================] - 0s 90ms/step\n",
      "(1, 28, 28, 512)\n",
      "Encoding in Progress Time step 98 \n",
      "1/1 [==============================] - 0s 87ms/step\n",
      "(1, 28, 28, 512)\n",
      "Encoding in Progress Time step 99 \n",
      "Total Time Taken : 11.356531381607056\n"
     ]
    }
   ],
   "source": [
    "start_time = time()\n",
    "encoding_human =[]\n",
    "\n",
    "for ix,img in enumerate(all_images_human):\n",
    "    encoding_human.append(encode_image(img))\n",
    "    print(\"Encoding in Progress Time step %d \"%ix)\n",
    "\n",
    "# encoding_human = model_new.predict(all_images_human)\n",
    "\n",
    "end_time = time()\n",
    "print(\"Total Time Taken :\",end_time-start_time)"
   ]
  },
  {
   "cell_type": "code",
   "execution_count": 73,
   "id": "f2e28c73",
   "metadata": {},
   "outputs": [
    {
     "name": "stderr",
     "output_type": "stream",
     "text": [
      "A subdirectory or file saved already exists.\n"
     ]
    }
   ],
   "source": [
    "!mkdir saved"
   ]
  },
  {
   "cell_type": "code",
   "execution_count": 74,
   "id": "9a31d86f",
   "metadata": {},
   "outputs": [],
   "source": [
    "with open(\"saved/encoded_human_features.pkl\",\"wb\") as f:\n",
    "    pickle.dump(encoding_human,f)"
   ]
  },
  {
   "cell_type": "code",
   "execution_count": 75,
   "id": "436f7e38",
   "metadata": {},
   "outputs": [
    {
     "name": "stdout",
     "output_type": "stream",
     "text": [
      "1/1 [==============================] - 0s 82ms/step\n",
      "(1, 28, 28, 512)\n",
      "Encoding in Progress Time step 0 \n",
      "1/1 [==============================] - 0s 82ms/step\n",
      "(1, 28, 28, 512)\n",
      "Encoding in Progress Time step 1 \n",
      "1/1 [==============================] - 0s 84ms/step\n",
      "(1, 28, 28, 512)\n",
      "Encoding in Progress Time step 2 \n",
      "1/1 [==============================] - 0s 92ms/step\n",
      "(1, 28, 28, 512)\n",
      "Encoding in Progress Time step 3 \n",
      "1/1 [==============================] - 0s 89ms/step\n",
      "(1, 28, 28, 512)\n",
      "Encoding in Progress Time step 4 \n",
      "1/1 [==============================] - 0s 89ms/step\n",
      "(1, 28, 28, 512)\n",
      "Encoding in Progress Time step 5 \n",
      "1/1 [==============================] - 0s 87ms/step\n",
      "(1, 28, 28, 512)\n",
      "Encoding in Progress Time step 6 \n",
      "1/1 [==============================] - 0s 90ms/step\n",
      "(1, 28, 28, 512)\n",
      "Encoding in Progress Time step 7 \n",
      "1/1 [==============================] - 0s 88ms/step\n",
      "(1, 28, 28, 512)\n",
      "Encoding in Progress Time step 8 \n",
      "1/1 [==============================] - 0s 90ms/step\n",
      "(1, 28, 28, 512)\n",
      "Encoding in Progress Time step 9 \n",
      "1/1 [==============================] - 0s 86ms/step\n",
      "(1, 28, 28, 512)\n",
      "Encoding in Progress Time step 10 \n",
      "1/1 [==============================] - 0s 92ms/step\n",
      "(1, 28, 28, 512)\n",
      "Encoding in Progress Time step 11 \n",
      "1/1 [==============================] - 0s 90ms/step\n",
      "(1, 28, 28, 512)\n",
      "Encoding in Progress Time step 12 \n",
      "1/1 [==============================] - 0s 89ms/step\n",
      "(1, 28, 28, 512)\n",
      "Encoding in Progress Time step 13 \n",
      "1/1 [==============================] - 0s 87ms/step\n",
      "(1, 28, 28, 512)\n",
      "Encoding in Progress Time step 14 \n",
      "1/1 [==============================] - 0s 92ms/step\n",
      "(1, 28, 28, 512)\n",
      "Encoding in Progress Time step 15 \n",
      "1/1 [==============================] - 0s 94ms/step\n",
      "(1, 28, 28, 512)\n",
      "Encoding in Progress Time step 16 \n",
      "1/1 [==============================] - 0s 90ms/step\n",
      "(1, 28, 28, 512)\n",
      "Encoding in Progress Time step 17 \n",
      "1/1 [==============================] - 0s 88ms/step\n",
      "(1, 28, 28, 512)\n",
      "Encoding in Progress Time step 18 \n",
      "1/1 [==============================] - 0s 89ms/step\n",
      "(1, 28, 28, 512)\n",
      "Encoding in Progress Time step 19 \n",
      "1/1 [==============================] - 0s 86ms/step\n",
      "(1, 28, 28, 512)\n",
      "Encoding in Progress Time step 20 \n",
      "1/1 [==============================] - 0s 91ms/step\n",
      "(1, 28, 28, 512)\n",
      "Encoding in Progress Time step 21 \n",
      "1/1 [==============================] - 0s 91ms/step\n",
      "(1, 28, 28, 512)\n",
      "Encoding in Progress Time step 22 \n",
      "1/1 [==============================] - 0s 88ms/step\n",
      "(1, 28, 28, 512)\n",
      "Encoding in Progress Time step 23 \n",
      "1/1 [==============================] - 0s 89ms/step\n",
      "(1, 28, 28, 512)\n",
      "Encoding in Progress Time step 24 \n",
      "1/1 [==============================] - 0s 90ms/step\n",
      "(1, 28, 28, 512)\n",
      "Encoding in Progress Time step 25 \n",
      "1/1 [==============================] - 0s 84ms/step\n",
      "(1, 28, 28, 512)\n",
      "Encoding in Progress Time step 26 \n",
      "1/1 [==============================] - 0s 88ms/step\n",
      "(1, 28, 28, 512)\n",
      "Encoding in Progress Time step 27 \n",
      "1/1 [==============================] - 0s 89ms/step\n",
      "(1, 28, 28, 512)\n",
      "Encoding in Progress Time step 28 \n",
      "1/1 [==============================] - 0s 89ms/step\n",
      "(1, 28, 28, 512)\n",
      "Encoding in Progress Time step 29 \n",
      "1/1 [==============================] - 0s 90ms/step\n",
      "(1, 28, 28, 512)\n",
      "Encoding in Progress Time step 30 \n",
      "1/1 [==============================] - 0s 95ms/step\n",
      "(1, 28, 28, 512)\n",
      "Encoding in Progress Time step 31 \n",
      "1/1 [==============================] - 0s 89ms/step\n",
      "(1, 28, 28, 512)\n",
      "Encoding in Progress Time step 32 \n",
      "1/1 [==============================] - 0s 90ms/step\n",
      "(1, 28, 28, 512)\n",
      "Encoding in Progress Time step 33 \n",
      "1/1 [==============================] - 0s 91ms/step\n",
      "(1, 28, 28, 512)\n",
      "Encoding in Progress Time step 34 \n",
      "1/1 [==============================] - 0s 87ms/step\n",
      "(1, 28, 28, 512)\n",
      "Encoding in Progress Time step 35 \n",
      "1/1 [==============================] - 0s 88ms/step\n",
      "(1, 28, 28, 512)\n",
      "Encoding in Progress Time step 36 \n",
      "1/1 [==============================] - 0s 87ms/step\n",
      "(1, 28, 28, 512)\n",
      "Encoding in Progress Time step 37 \n",
      "1/1 [==============================] - 0s 85ms/step\n",
      "(1, 28, 28, 512)\n",
      "Encoding in Progress Time step 38 \n",
      "1/1 [==============================] - 0s 89ms/step\n",
      "(1, 28, 28, 512)\n",
      "Encoding in Progress Time step 39 \n",
      "1/1 [==============================] - 0s 89ms/step\n",
      "(1, 28, 28, 512)\n",
      "Encoding in Progress Time step 40 \n",
      "1/1 [==============================] - 0s 88ms/step\n",
      "(1, 28, 28, 512)\n",
      "Encoding in Progress Time step 41 \n",
      "1/1 [==============================] - 0s 89ms/step\n",
      "(1, 28, 28, 512)\n",
      "Encoding in Progress Time step 42 \n",
      "1/1 [==============================] - 0s 88ms/step\n",
      "(1, 28, 28, 512)\n",
      "Encoding in Progress Time step 43 \n",
      "1/1 [==============================] - 0s 88ms/step\n",
      "(1, 28, 28, 512)\n",
      "Encoding in Progress Time step 44 \n",
      "1/1 [==============================] - 0s 89ms/step\n",
      "(1, 28, 28, 512)\n",
      "Encoding in Progress Time step 45 \n",
      "1/1 [==============================] - 0s 94ms/step\n",
      "(1, 28, 28, 512)\n",
      "Encoding in Progress Time step 46 \n",
      "1/1 [==============================] - 0s 101ms/step\n",
      "(1, 28, 28, 512)\n",
      "Encoding in Progress Time step 47 \n",
      "1/1 [==============================] - 0s 92ms/step\n",
      "(1, 28, 28, 512)\n",
      "Encoding in Progress Time step 48 \n",
      "1/1 [==============================] - 0s 89ms/step\n",
      "(1, 28, 28, 512)\n",
      "Encoding in Progress Time step 49 \n",
      "1/1 [==============================] - 0s 88ms/step\n",
      "(1, 28, 28, 512)\n",
      "Encoding in Progress Time step 50 \n",
      "1/1 [==============================] - 0s 89ms/step\n",
      "(1, 28, 28, 512)\n",
      "Encoding in Progress Time step 51 \n",
      "1/1 [==============================] - 0s 90ms/step\n",
      "(1, 28, 28, 512)\n",
      "Encoding in Progress Time step 52 \n",
      "1/1 [==============================] - 0s 103ms/step\n",
      "(1, 28, 28, 512)\n",
      "Encoding in Progress Time step 53 \n",
      "1/1 [==============================] - 0s 101ms/step\n",
      "(1, 28, 28, 512)\n",
      "Encoding in Progress Time step 54 \n",
      "1/1 [==============================] - 0s 90ms/step\n",
      "(1, 28, 28, 512)\n",
      "Encoding in Progress Time step 55 \n",
      "1/1 [==============================] - 0s 93ms/step\n",
      "(1, 28, 28, 512)\n",
      "Encoding in Progress Time step 56 \n",
      "1/1 [==============================] - 0s 89ms/step\n",
      "(1, 28, 28, 512)\n",
      "Encoding in Progress Time step 57 \n",
      "1/1 [==============================] - 0s 90ms/step\n",
      "(1, 28, 28, 512)\n",
      "Encoding in Progress Time step 58 \n",
      "1/1 [==============================] - 0s 88ms/step\n",
      "(1, 28, 28, 512)\n",
      "Encoding in Progress Time step 59 \n",
      "1/1 [==============================] - 0s 88ms/step\n",
      "(1, 28, 28, 512)\n",
      "Encoding in Progress Time step 60 \n",
      "1/1 [==============================] - 0s 91ms/step\n",
      "(1, 28, 28, 512)\n",
      "Encoding in Progress Time step 61 \n",
      "1/1 [==============================] - 0s 85ms/step\n",
      "(1, 28, 28, 512)\n",
      "Encoding in Progress Time step 62 \n",
      "1/1 [==============================] - 0s 87ms/step\n",
      "(1, 28, 28, 512)\n",
      "Encoding in Progress Time step 63 \n",
      "1/1 [==============================] - 0s 89ms/step\n",
      "(1, 28, 28, 512)\n",
      "Encoding in Progress Time step 64 \n",
      "1/1 [==============================] - 0s 91ms/step\n",
      "(1, 28, 28, 512)\n",
      "Encoding in Progress Time step 65 \n",
      "1/1 [==============================] - 0s 89ms/step\n",
      "(1, 28, 28, 512)\n",
      "Encoding in Progress Time step 66 \n",
      "1/1 [==============================] - 0s 88ms/step\n",
      "(1, 28, 28, 512)\n",
      "Encoding in Progress Time step 67 \n",
      "1/1 [==============================] - 0s 89ms/step\n",
      "(1, 28, 28, 512)\n",
      "Encoding in Progress Time step 68 \n",
      "1/1 [==============================] - 0s 90ms/step\n",
      "(1, 28, 28, 512)\n",
      "Encoding in Progress Time step 69 \n",
      "1/1 [==============================] - 0s 87ms/step\n",
      "(1, 28, 28, 512)\n",
      "Encoding in Progress Time step 70 \n",
      "1/1 [==============================] - 0s 85ms/step\n",
      "(1, 28, 28, 512)\n",
      "Encoding in Progress Time step 71 \n",
      "1/1 [==============================] - 0s 94ms/step\n",
      "(1, 28, 28, 512)\n",
      "Encoding in Progress Time step 72 \n",
      "1/1 [==============================] - 0s 89ms/step\n",
      "(1, 28, 28, 512)\n",
      "Encoding in Progress Time step 73 \n",
      "1/1 [==============================] - 0s 91ms/step\n",
      "(1, 28, 28, 512)\n",
      "Encoding in Progress Time step 74 \n",
      "1/1 [==============================] - 0s 90ms/step\n",
      "(1, 28, 28, 512)\n",
      "Encoding in Progress Time step 75 \n",
      "1/1 [==============================] - 0s 90ms/step\n",
      "(1, 28, 28, 512)\n",
      "Encoding in Progress Time step 76 \n",
      "1/1 [==============================] - 0s 87ms/step\n",
      "(1, 28, 28, 512)\n",
      "Encoding in Progress Time step 77 \n",
      "1/1 [==============================] - 0s 89ms/step\n",
      "(1, 28, 28, 512)\n",
      "Encoding in Progress Time step 78 \n"
     ]
    },
    {
     "name": "stdout",
     "output_type": "stream",
     "text": [
      "1/1 [==============================] - 0s 97ms/step\n",
      "(1, 28, 28, 512)\n",
      "Encoding in Progress Time step 79 \n",
      "1/1 [==============================] - 0s 105ms/step\n",
      "(1, 28, 28, 512)\n",
      "Encoding in Progress Time step 80 \n",
      "1/1 [==============================] - 0s 95ms/step\n",
      "(1, 28, 28, 512)\n",
      "Encoding in Progress Time step 81 \n",
      "1/1 [==============================] - 0s 89ms/step\n",
      "(1, 28, 28, 512)\n",
      "Encoding in Progress Time step 82 \n",
      "1/1 [==============================] - 0s 93ms/step\n",
      "(1, 28, 28, 512)\n",
      "Encoding in Progress Time step 83 \n",
      "1/1 [==============================] - 0s 90ms/step\n",
      "(1, 28, 28, 512)\n",
      "Encoding in Progress Time step 84 \n",
      "1/1 [==============================] - 0s 92ms/step\n",
      "(1, 28, 28, 512)\n",
      "Encoding in Progress Time step 85 \n",
      "1/1 [==============================] - 0s 99ms/step\n",
      "(1, 28, 28, 512)\n",
      "Encoding in Progress Time step 86 \n",
      "1/1 [==============================] - 0s 104ms/step\n",
      "(1, 28, 28, 512)\n",
      "Encoding in Progress Time step 87 \n",
      "1/1 [==============================] - 0s 98ms/step\n",
      "(1, 28, 28, 512)\n",
      "Encoding in Progress Time step 88 \n",
      "1/1 [==============================] - 0s 89ms/step\n",
      "(1, 28, 28, 512)\n",
      "Encoding in Progress Time step 89 \n",
      "1/1 [==============================] - 0s 88ms/step\n",
      "(1, 28, 28, 512)\n",
      "Encoding in Progress Time step 90 \n",
      "1/1 [==============================] - 0s 89ms/step\n",
      "(1, 28, 28, 512)\n",
      "Encoding in Progress Time step 91 \n",
      "1/1 [==============================] - 0s 86ms/step\n",
      "(1, 28, 28, 512)\n",
      "Encoding in Progress Time step 92 \n",
      "1/1 [==============================] - 0s 97ms/step\n",
      "(1, 28, 28, 512)\n",
      "Encoding in Progress Time step 93 \n",
      "1/1 [==============================] - 0s 102ms/step\n",
      "(1, 28, 28, 512)\n",
      "Encoding in Progress Time step 94 \n",
      "1/1 [==============================] - 0s 103ms/step\n",
      "(1, 28, 28, 512)\n",
      "Encoding in Progress Time step 95 \n",
      "1/1 [==============================] - 0s 101ms/step\n",
      "(1, 28, 28, 512)\n",
      "Encoding in Progress Time step 96 \n",
      "1/1 [==============================] - 0s 93ms/step\n",
      "(1, 28, 28, 512)\n",
      "Encoding in Progress Time step 97 \n",
      "1/1 [==============================] - 0s 108ms/step\n",
      "(1, 28, 28, 512)\n",
      "Encoding in Progress Time step 98 \n",
      "1/1 [==============================] - 0s 96ms/step\n",
      "(1, 28, 28, 512)\n",
      "Encoding in Progress Time step 99 \n",
      "Total Time Taken : 11.558573722839355\n"
     ]
    }
   ],
   "source": [
    "start_time = time()\n",
    "encoding_anime =[]\n",
    "\n",
    "for ix,img in enumerate(all_images_anime):\n",
    "    encoding_anime.append(encode_image(img))\n",
    "    print(\"Encoding in Progress Time step %d \"%ix)\n",
    "\n",
    "end_time = time()\n",
    "print(\"Total Time Taken :\",end_time-start_time)"
   ]
  },
  {
   "cell_type": "code",
   "execution_count": null,
   "id": "7c8511dd",
   "metadata": {},
   "outputs": [],
   "source": []
  },
  {
   "cell_type": "code",
   "execution_count": 76,
   "id": "ca52a835",
   "metadata": {},
   "outputs": [],
   "source": [
    "with open(\"saved/encoded_anime_features.pkl\",\"wb\") as f:\n",
    "    pickle.dump(encoding_anime,f)"
   ]
  },
  {
   "cell_type": "code",
   "execution_count": 77,
   "id": "4d466fdb",
   "metadata": {},
   "outputs": [
    {
     "name": "stdout",
     "output_type": "stream",
     "text": [
      "[[[[   0.       1695.193       0.       ...  859.3678    295.0196\n",
      "       0.      ]\n",
      "   [   0.       2626.6355   1764.6787   ...  649.84973     0.\n",
      "       0.      ]\n",
      "   [1280.5396   2789.6614   1977.011    ...  930.39325     0.\n",
      "       0.      ]\n",
      "   ...\n",
      "   [   0.        133.33232     0.       ...    0.          0.\n",
      "       0.      ]\n",
      "   [   0.        471.6353      0.       ...    0.          0.\n",
      "       0.      ]\n",
      "   [ 543.12744   577.315    1135.5707   ...  289.73505   351.74118\n",
      "       0.      ]]\n",
      "\n",
      "  [[1310.142     847.9838   1135.1982   ... 1037.1882   2285.4944\n",
      "     912.95056 ]\n",
      "   [   0.       1428.5614   4482.9634   ...  258.154    2430.6692\n",
      "     109.33724 ]\n",
      "   [ 630.89185  2251.1238   4873.8354   ...   45.868572 1503.7262\n",
      "     131.62524 ]\n",
      "   ...\n",
      "   [   0.       1393.8186   2470.3298   ...    0.       1348.2482\n",
      "       0.      ]\n",
      "   [   0.       2209.4233   2950.992    ...  834.59094  1539.8208\n",
      "       0.      ]\n",
      "   [2586.1687   2103.6382   4186.8706   ... 1807.6403   2045.1193\n",
      "       0.      ]]\n",
      "\n",
      "  [[1706.3037    610.17096   539.06885  ...  954.5563   1118.1788\n",
      "       0.      ]\n",
      "   [   0.       1033.0878   2129.244    ...   92.023285 1449.0599\n",
      "       0.      ]\n",
      "   [ 230.71904  1280.7345   2482.5498   ...    0.       1431.6838\n",
      "       0.      ]\n",
      "   ...\n",
      "   [   0.        948.41364  1520.9646   ...    0.       1777.5206\n",
      "       0.      ]\n",
      "   [   0.       1993.1714   2919.3247   ...    0.       2015.1783\n",
      "       0.      ]\n",
      "   [4062.8154   1782.1038   4003.26     ... 1563.3943   2232.141\n",
      "       0.      ]]\n",
      "\n",
      "  ...\n",
      "\n",
      "  [[1680.8439    628.4367      0.       ...  810.1922    848.34625\n",
      "       0.      ]\n",
      "   [   0.        902.7666    435.13974  ...    0.        915.1088\n",
      "       0.      ]\n",
      "   [ 706.8251      0.          0.       ...  369.14743     0.\n",
      "       0.      ]\n",
      "   ...\n",
      "   [ 712.9903      0.          0.       ...  719.5074    862.5848\n",
      "       0.      ]\n",
      "   [   0.          0.          0.       ...  327.6197      0.\n",
      "       0.      ]\n",
      "   [   0.          0.          0.       ... 1246.2812    697.4299\n",
      "       0.      ]]\n",
      "\n",
      "  [[ 970.70935     0.          0.       ...  420.34436   275.34067\n",
      "       0.      ]\n",
      "   [   0.          0.          0.       ...  223.73445     0.\n",
      "       0.      ]\n",
      "   [   0.          0.          0.       ... 1202.7565    611.822\n",
      "       0.      ]\n",
      "   ...\n",
      "   [3518.3657      0.          0.       ...   21.290112  966.1797\n",
      "       0.      ]\n",
      "   [   0.          0.          0.       ...    0.          0.\n",
      "       0.      ]\n",
      "   [   0.          0.          0.       ...  630.7366     38.95289\n",
      "       0.      ]]\n",
      "\n",
      "  [[1802.7878   1112.7339      0.       ... 2877.6082   1195.5397\n",
      "       0.      ]\n",
      "   [2742.377    1612.3185      0.       ... 3478.1624   2225.9678\n",
      "       0.      ]\n",
      "   [2559.3271   1048.084       0.       ... 2152.3174   2849.714\n",
      "       0.      ]\n",
      "   ...\n",
      "   [4448.9785      0.          0.       ... 2360.1606   1070.8431\n",
      "     208.00989 ]\n",
      "   [ 680.90137     0.          0.       ... 3074.4539    462.52527\n",
      "       0.      ]\n",
      "   [ 289.22498     0.       2020.8425   ... 2638.8967    942.3211\n",
      "      62.002888]]]]\n",
      "(1, 28, 28, 512)\n"
     ]
    }
   ],
   "source": [
    "print(encoding_anime[0])\n",
    "print(encoding_anime[0].shape)"
   ]
  },
  {
   "cell_type": "code",
   "execution_count": 78,
   "id": "19309a5d",
   "metadata": {},
   "outputs": [],
   "source": [
    "def get_mean_std(x, epsilon=1e-5):\n",
    "\n",
    "    # Compute the mean and standard deviation of a tensor.\n",
    "    mean = np.mean(x)\n",
    "    standard_deviation = np.std(x)\n",
    "    return mean, standard_deviation"
   ]
  },
  {
   "cell_type": "code",
   "execution_count": 79,
   "id": "506472b7",
   "metadata": {},
   "outputs": [],
   "source": [
    "def ada_in(style, content):\n",
    "    \"\"\"Computes the AdaIn feature map.\n",
    "\n",
    "    Args:\n",
    "        style: The style feature map.\n",
    "        content: The content feature map.\n",
    "\n",
    "    Returns:\n",
    "        The AdaIN feature map.\n",
    "    \"\"\"\n",
    "    content_mean, content_std = get_mean_std(content)\n",
    "    style_mean, style_std = get_mean_std(style)\n",
    "    t = style_std * (content - content_mean) / content_std + style_mean\n",
    "    return t"
   ]
  },
  {
   "cell_type": "code",
   "execution_count": 80,
   "id": "3bfd5703",
   "metadata": {},
   "outputs": [
    {
     "name": "stdout",
     "output_type": "stream",
     "text": [
      "(1, 28, 28, 512)\n",
      "(28, 28, 512)\n"
     ]
    }
   ],
   "source": [
    "#example\n",
    "res = ada_in(encoding_anime[0], encoding_human[0])\n",
    "# print(res)\n",
    "print(res.shape)\n",
    "print(res[0].shape)"
   ]
  },
  {
   "cell_type": "code",
   "execution_count": 81,
   "id": "25e4da27",
   "metadata": {},
   "outputs": [],
   "source": [
    "#decoder part"
   ]
  },
  {
   "cell_type": "code",
   "execution_count": 82,
   "id": "a346ea34",
   "metadata": {},
   "outputs": [],
   "source": [
    "x0 = Input(shape = (28, 28, 512))\n",
    "x1 = Conv2D(256, (3, 3), activation='relu', padding='same')(x0)\n",
    "x2 = UpSampling2D((2, 2))(x1)\n",
    "\n",
    "x3 = Conv2D(256, (3, 3), activation='relu', padding='same')(x2)\n",
    "x4 = Conv2D(256, (3, 3), activation='relu', padding='same')(x3)\n",
    "x5 = Conv2D(256, (3, 3), activation='relu', padding='same')(x4)\n",
    "x6 = Conv2D(128, (3, 3), activation='relu', padding='same')(x5)\n",
    "x7 = UpSampling2D((2, 2))(x6)\n",
    "\n",
    "x8 = Conv2D(128, (3, 3), activation='relu', padding='same')(x7)\n",
    "x9 = Conv2D(64, (3, 3), activation='relu', padding='same')(x8)\n",
    "x10 = UpSampling2D((2, 2))(x9)\n",
    "\n",
    "x11 = Conv2D(64, (3, 3), activation='relu', padding='same')(x10)\n",
    "x12 = Conv2D(3, (3, 3), activation='relu', padding='same')(x11)"
   ]
  },
  {
   "cell_type": "code",
   "execution_count": 83,
   "id": "cb83c7fa",
   "metadata": {},
   "outputs": [
    {
     "data": {
      "text/plain": [
       "<keras.engine.functional.Functional at 0x2209a4cf8b0>"
      ]
     },
     "execution_count": 83,
     "metadata": {},
     "output_type": "execute_result"
    }
   ],
   "source": [
    "decoder = Model(x0, x12)\n",
    "decoder.compile(optimizer='adam', loss='mse')\n",
    "decoder"
   ]
  },
  {
   "cell_type": "code",
   "execution_count": 84,
   "id": "7699baa7",
   "metadata": {},
   "outputs": [
    {
     "name": "stdout",
     "output_type": "stream",
     "text": [
      "Model: \"model_3\"\n",
      "_________________________________________________________________\n",
      " Layer (type)                Output Shape              Param #   \n",
      "=================================================================\n",
      " input_4 (InputLayer)        [(None, 28, 28, 512)]     0         \n",
      "                                                                 \n",
      " conv2d_9 (Conv2D)           (None, 28, 28, 256)       1179904   \n",
      "                                                                 \n",
      " up_sampling2d_3 (UpSampling  (None, 56, 56, 256)      0         \n",
      " 2D)                                                             \n",
      "                                                                 \n",
      " conv2d_10 (Conv2D)          (None, 56, 56, 256)       590080    \n",
      "                                                                 \n",
      " conv2d_11 (Conv2D)          (None, 56, 56, 256)       590080    \n",
      "                                                                 \n",
      " conv2d_12 (Conv2D)          (None, 56, 56, 256)       590080    \n",
      "                                                                 \n",
      " conv2d_13 (Conv2D)          (None, 56, 56, 128)       295040    \n",
      "                                                                 \n",
      " up_sampling2d_4 (UpSampling  (None, 112, 112, 128)    0         \n",
      " 2D)                                                             \n",
      "                                                                 \n",
      " conv2d_14 (Conv2D)          (None, 112, 112, 128)     147584    \n",
      "                                                                 \n",
      " conv2d_15 (Conv2D)          (None, 112, 112, 64)      73792     \n",
      "                                                                 \n",
      " up_sampling2d_5 (UpSampling  (None, 224, 224, 64)     0         \n",
      " 2D)                                                             \n",
      "                                                                 \n",
      " conv2d_16 (Conv2D)          (None, 224, 224, 64)      36928     \n",
      "                                                                 \n",
      " conv2d_17 (Conv2D)          (None, 224, 224, 3)       1731      \n",
      "                                                                 \n",
      "=================================================================\n",
      "Total params: 3,505,219\n",
      "Trainable params: 3,505,219\n",
      "Non-trainable params: 0\n",
      "_________________________________________________________________\n",
      "None\n"
     ]
    }
   ],
   "source": [
    "print(decoder.summary())"
   ]
  },
  {
   "cell_type": "code",
   "execution_count": 85,
   "id": "f4e79c93",
   "metadata": {},
   "outputs": [
    {
     "name": "stdout",
     "output_type": "stream",
     "text": [
      "(1, 28, 28, 512)\n",
      "(1, 28, 28, 512)\n",
      "(1, 224, 224, 3)\n",
      "Epoch 1/10\n",
      "1/1 [==============================] - 1s 993ms/step - loss: 10773.4824\n",
      "Epoch 2/10\n",
      "1/1 [==============================] - 1s 523ms/step - loss: 11652894.0000\n",
      "Epoch 3/10\n",
      "1/1 [==============================] - 1s 543ms/step - loss: 15206.5205\n",
      "Epoch 4/10\n",
      "1/1 [==============================] - 1s 502ms/step - loss: 14060.5361\n",
      "Epoch 5/10\n",
      "1/1 [==============================] - 0s 482ms/step - loss: 16664.9727\n",
      "Epoch 6/10\n",
      "1/1 [==============================] - 1s 523ms/step - loss: 12355.1465\n",
      "Epoch 7/10\n",
      "1/1 [==============================] - 1s 508ms/step - loss: 15829.5654\n",
      "Epoch 8/10\n",
      "1/1 [==============================] - 1s 509ms/step - loss: 614373.9375\n",
      "Epoch 9/10\n",
      "1/1 [==============================] - 1s 515ms/step - loss: 12931.9463\n",
      "Epoch 10/10\n",
      "1/1 [==============================] - 1s 531ms/step - loss: 17697.4922\n"
     ]
    },
    {
     "data": {
      "text/plain": [
       "<keras.callbacks.History at 0x2209a4c6650>"
      ]
     },
     "execution_count": 85,
     "metadata": {},
     "output_type": "execute_result"
    }
   ],
   "source": [
    "print(encoding_anime[0].shape)\n",
    "print(res.shape)\n",
    "print(all_images_anime[0].shape)\n",
    "decoder.fit(res, all_images_anime[0], epochs=10)"
   ]
  },
  {
   "cell_type": "code",
   "execution_count": 86,
   "id": "c3d6677c",
   "metadata": {},
   "outputs": [
    {
     "name": "stdout",
     "output_type": "stream",
     "text": [
      "1/1 [==============================] - 0s 144ms/step\n",
      "(1, 224, 224, 3)\n"
     ]
    }
   ],
   "source": [
    "predictions = decoder.predict(res)\n",
    "print(predictions.shape)"
   ]
  },
  {
   "cell_type": "code",
   "execution_count": 88,
   "id": "46131d26",
   "metadata": {},
   "outputs": [],
   "source": [
    "# tmp = predictions[0]\n",
    "# print(tmp.shape)\n",
    "# img = utils.array_to_img(tmp)\n",
    "# plt.imshow(img)\n",
    "# plt.show()"
   ]
  },
  {
   "cell_type": "code",
   "execution_count": 89,
   "id": "6099a46f",
   "metadata": {},
   "outputs": [
    {
     "name": "stdout",
     "output_type": "stream",
     "text": [
      "Encoding in Progress Time step 0 \n",
      "Encoding in Progress Time step 1 \n",
      "Encoding in Progress Time step 2 \n",
      "Encoding in Progress Time step 3 \n",
      "Encoding in Progress Time step 4 \n",
      "Encoding in Progress Time step 5 \n",
      "Encoding in Progress Time step 6 \n",
      "Encoding in Progress Time step 7 \n",
      "Encoding in Progress Time step 8 \n",
      "Encoding in Progress Time step 9 \n",
      "Encoding in Progress Time step 10 \n",
      "Encoding in Progress Time step 11 \n",
      "Encoding in Progress Time step 12 \n",
      "Encoding in Progress Time step 13 \n",
      "Encoding in Progress Time step 14 \n",
      "Encoding in Progress Time step 15 \n",
      "Encoding in Progress Time step 16 \n",
      "Encoding in Progress Time step 17 \n",
      "Encoding in Progress Time step 18 \n",
      "Encoding in Progress Time step 19 \n",
      "Encoding in Progress Time step 20 \n",
      "Encoding in Progress Time step 21 \n",
      "Encoding in Progress Time step 22 \n",
      "Encoding in Progress Time step 23 \n",
      "Encoding in Progress Time step 24 \n",
      "Encoding in Progress Time step 25 \n",
      "Encoding in Progress Time step 26 \n",
      "Encoding in Progress Time step 27 \n",
      "Encoding in Progress Time step 28 \n",
      "Encoding in Progress Time step 29 \n",
      "Encoding in Progress Time step 30 \n",
      "Encoding in Progress Time step 31 \n",
      "Encoding in Progress Time step 32 \n",
      "Encoding in Progress Time step 33 \n",
      "Encoding in Progress Time step 34 \n",
      "Encoding in Progress Time step 35 \n",
      "Encoding in Progress Time step 36 \n",
      "Encoding in Progress Time step 37 \n",
      "Encoding in Progress Time step 38 \n",
      "Encoding in Progress Time step 39 \n",
      "Encoding in Progress Time step 40 \n",
      "Encoding in Progress Time step 41 \n",
      "Encoding in Progress Time step 42 \n",
      "Encoding in Progress Time step 43 \n",
      "Encoding in Progress Time step 44 \n",
      "Encoding in Progress Time step 45 \n",
      "Encoding in Progress Time step 46 \n",
      "Encoding in Progress Time step 47 \n",
      "Encoding in Progress Time step 48 \n",
      "Encoding in Progress Time step 49 \n",
      "Encoding in Progress Time step 50 \n",
      "Encoding in Progress Time step 51 \n",
      "Encoding in Progress Time step 52 \n",
      "Encoding in Progress Time step 53 \n",
      "Encoding in Progress Time step 54 \n",
      "Encoding in Progress Time step 55 \n",
      "Encoding in Progress Time step 56 \n",
      "Encoding in Progress Time step 57 \n",
      "Encoding in Progress Time step 58 \n",
      "Encoding in Progress Time step 59 \n",
      "Encoding in Progress Time step 60 \n",
      "Encoding in Progress Time step 61 \n",
      "Encoding in Progress Time step 62 \n",
      "Encoding in Progress Time step 63 \n",
      "Encoding in Progress Time step 64 \n",
      "Encoding in Progress Time step 65 \n",
      "Encoding in Progress Time step 66 \n",
      "Encoding in Progress Time step 67 \n",
      "Encoding in Progress Time step 68 \n",
      "Encoding in Progress Time step 69 \n",
      "Encoding in Progress Time step 70 \n",
      "Encoding in Progress Time step 71 \n",
      "Encoding in Progress Time step 72 \n",
      "Encoding in Progress Time step 73 \n",
      "Encoding in Progress Time step 74 \n",
      "Encoding in Progress Time step 75 \n",
      "Encoding in Progress Time step 76 \n",
      "Encoding in Progress Time step 77 \n",
      "Encoding in Progress Time step 78 \n",
      "Encoding in Progress Time step 79 \n",
      "Encoding in Progress Time step 80 \n",
      "Encoding in Progress Time step 81 \n",
      "Encoding in Progress Time step 82 \n",
      "Encoding in Progress Time step 83 \n",
      "Encoding in Progress Time step 84 \n",
      "Encoding in Progress Time step 85 \n",
      "Encoding in Progress Time step 86 \n",
      "Encoding in Progress Time step 87 \n",
      "Encoding in Progress Time step 88 \n",
      "Encoding in Progress Time step 89 \n",
      "Encoding in Progress Time step 90 \n",
      "Encoding in Progress Time step 91 \n",
      "Encoding in Progress Time step 92 \n",
      "Encoding in Progress Time step 93 \n",
      "Encoding in Progress Time step 94 \n",
      "Encoding in Progress Time step 95 \n",
      "Encoding in Progress Time step 96 \n",
      "Encoding in Progress Time step 97 \n",
      "Encoding in Progress Time step 98 \n",
      "Encoding in Progress Time step 99 \n",
      "Total Time Taken : 0.46556925773620605\n"
     ]
    }
   ],
   "source": [
    "start_time = time()\n",
    "encoding_combined = []\n",
    "\n",
    "for ix,img in enumerate(encoding_anime):\n",
    "    encoding_combined.append(ada_in(encoding_anime[ix], encoding_human[ix]))\n",
    "    print(\"Encoding in Progress Time step %d \"%ix)\n",
    "\n",
    "end_time = time()\n",
    "print(\"Total Time Taken :\",end_time-start_time)"
   ]
  },
  {
   "cell_type": "code",
   "execution_count": 90,
   "id": "6e9f0d0d",
   "metadata": {},
   "outputs": [
    {
     "name": "stderr",
     "output_type": "stream",
     "text": [
      "100%|████████████████████████████████████████████████████████████████████████████████████████| 100/100 [00:00<?, ?it/s]\n"
     ]
    },
    {
     "data": {
      "text/plain": [
       "(1, 224, 224, 3)"
      ]
     },
     "execution_count": 90,
     "metadata": {},
     "output_type": "execute_result"
    }
   ],
   "source": [
    "# encoding_list = list(encoding_combined.values())\n",
    "desired_ans = []\n",
    "for i in tqdm(all_images_anime):\n",
    "    desired_ans.append(i[0])\n",
    "#     print(i.shape)\n",
    "#     print(i[0].shape)\n",
    "\n",
    "desired_ans[0].shape\n",
    "all_images_anime[0].shape"
   ]
  },
  {
   "cell_type": "code",
   "execution_count": 91,
   "id": "f21e25cd",
   "metadata": {},
   "outputs": [
    {
     "name": "stdout",
     "output_type": "stream",
     "text": [
      "100\n"
     ]
    }
   ],
   "source": [
    "# print(len(encoding_list))\n",
    "print(len(desired_ans))\n",
    "# encoding_list[0].shape"
   ]
  },
  {
   "cell_type": "code",
   "execution_count": 92,
   "id": "0be88a3b",
   "metadata": {},
   "outputs": [
    {
     "name": "stdout",
     "output_type": "stream",
     "text": [
      "Encoding in Progress Time step 0 \n",
      "Epoch 1/10\n",
      "1/1 [==============================] - 1s 520ms/step - loss: 17736.4746\n",
      "Epoch 2/10\n",
      "1/1 [==============================] - 1s 542ms/step - loss: 17745.9160\n",
      "Epoch 3/10\n",
      "1/1 [==============================] - 1s 570ms/step - loss: 17751.0391\n",
      "Epoch 4/10\n",
      "1/1 [==============================] - 1s 524ms/step - loss: 17754.2930\n",
      "Epoch 5/10\n",
      "1/1 [==============================] - 0s 481ms/step - loss: 17755.2344\n",
      "Epoch 6/10\n",
      "1/1 [==============================] - 0s 499ms/step - loss: 17755.3770\n",
      "Epoch 7/10\n",
      "1/1 [==============================] - 0s 474ms/step - loss: 17752.6445\n",
      "Epoch 8/10\n",
      "1/1 [==============================] - 1s 543ms/step - loss: 17746.0312\n",
      "Epoch 9/10\n",
      "1/1 [==============================] - 0s 488ms/step - loss: 17736.0586\n",
      "Epoch 10/10\n",
      "1/1 [==============================] - 0s 481ms/step - loss: 17724.5938\n",
      "Encoding in Progress Time step 1 \n",
      "Epoch 1/10\n",
      "1/1 [==============================] - 1s 520ms/step - loss: 29983.3164\n",
      "Epoch 2/10\n",
      "1/1 [==============================] - 0s 470ms/step - loss: 29978.9219\n",
      "Epoch 3/10\n",
      "1/1 [==============================] - 0s 492ms/step - loss: 29978.4336\n",
      "Epoch 4/10\n",
      "1/1 [==============================] - 0s 470ms/step - loss: 29977.7656\n",
      "Epoch 5/10\n",
      "1/1 [==============================] - 0s 495ms/step - loss: 29971.9141\n",
      "Epoch 6/10\n",
      "1/1 [==============================] - 0s 490ms/step - loss: 29965.3926\n",
      "Epoch 7/10\n",
      "1/1 [==============================] - 1s 529ms/step - loss: 29963.3145\n",
      "Epoch 8/10\n",
      "1/1 [==============================] - 0s 481ms/step - loss: 29965.0098\n",
      "Epoch 9/10\n",
      "1/1 [==============================] - 0s 497ms/step - loss: 29967.3262\n",
      "Epoch 10/10\n",
      "1/1 [==============================] - 0s 489ms/step - loss: 29967.9160\n",
      "Encoding in Progress Time step 2 \n",
      "Epoch 1/10\n",
      "1/1 [==============================] - 0s 463ms/step - loss: 30761.9492\n",
      "Epoch 2/10\n",
      "1/1 [==============================] - 0s 491ms/step - loss: 30740.4746\n",
      "Epoch 3/10\n",
      "1/1 [==============================] - 1s 536ms/step - loss: 30717.4648\n",
      "Epoch 4/10\n",
      "1/1 [==============================] - 1s 550ms/step - loss: 30696.4844\n",
      "Epoch 5/10\n",
      "1/1 [==============================] - 1s 546ms/step - loss: 30688.2168\n",
      "Epoch 6/10\n",
      "1/1 [==============================] - 1s 546ms/step - loss: 30696.7324\n",
      "Epoch 7/10\n",
      "1/1 [==============================] - 0s 490ms/step - loss: 30698.7656\n",
      "Epoch 8/10\n",
      "1/1 [==============================] - 1s 505ms/step - loss: 30694.9395\n",
      "Epoch 9/10\n",
      "1/1 [==============================] - 0s 482ms/step - loss: 30691.2812\n",
      "Epoch 10/10\n",
      "1/1 [==============================] - 0s 477ms/step - loss: 30688.8574\n",
      "Encoding in Progress Time step 3 \n",
      "Epoch 1/10\n",
      "1/1 [==============================] - 0s 471ms/step - loss: 32116.4102\n",
      "Epoch 2/10\n",
      "1/1 [==============================] - 1s 501ms/step - loss: 32111.9805\n",
      "Epoch 3/10\n",
      "1/1 [==============================] - 1s 528ms/step - loss: 32101.9844\n",
      "Epoch 4/10\n",
      "1/1 [==============================] - 0s 498ms/step - loss: 32082.6934\n",
      "Epoch 5/10\n",
      "1/1 [==============================] - 0s 486ms/step - loss: 32071.5312\n",
      "Epoch 6/10\n",
      "1/1 [==============================] - 0s 496ms/step - loss: 32070.2910\n",
      "Epoch 7/10\n",
      "1/1 [==============================] - 1s 514ms/step - loss: 32062.1836\n",
      "Epoch 8/10\n",
      "1/1 [==============================] - 1s 511ms/step - loss: 32055.6738\n",
      "Epoch 9/10\n",
      "1/1 [==============================] - 1s 545ms/step - loss: 32050.9688\n",
      "Epoch 10/10\n",
      "1/1 [==============================] - 1s 502ms/step - loss: 32042.9688\n",
      "Encoding in Progress Time step 4 \n",
      "Epoch 1/10\n",
      "1/1 [==============================] - 1s 562ms/step - loss: 27800.5195\n",
      "Epoch 2/10\n",
      "1/1 [==============================] - 1s 544ms/step - loss: 27728.6406\n",
      "Epoch 3/10\n",
      "1/1 [==============================] - 1s 524ms/step - loss: 27678.9648\n",
      "Epoch 4/10\n",
      "1/1 [==============================] - 1s 511ms/step - loss: 27664.2090\n",
      "Epoch 5/10\n",
      "1/1 [==============================] - 1s 520ms/step - loss: 27663.3398\n",
      "Epoch 6/10\n",
      "1/1 [==============================] - 1s 518ms/step - loss: 27663.6328\n",
      "Epoch 7/10\n",
      "1/1 [==============================] - 1s 532ms/step - loss: 27661.4746\n",
      "Epoch 8/10\n",
      "1/1 [==============================] - 1s 538ms/step - loss: 27657.2246\n",
      "Epoch 9/10\n",
      "1/1 [==============================] - 1s 527ms/step - loss: 27654.9648\n",
      "Epoch 10/10\n",
      "1/1 [==============================] - 1s 511ms/step - loss: 27657.8477\n",
      "Encoding in Progress Time step 5 \n",
      "Epoch 1/10\n",
      "1/1 [==============================] - 1s 509ms/step - loss: 16522.6191\n",
      "Epoch 2/10\n",
      "1/1 [==============================] - 1s 518ms/step - loss: 16505.0273\n",
      "Epoch 3/10\n",
      "1/1 [==============================] - 0s 494ms/step - loss: 16488.5645\n",
      "Epoch 4/10\n",
      "1/1 [==============================] - 1s 514ms/step - loss: 16482.5566\n",
      "Epoch 5/10\n",
      "1/1 [==============================] - 1s 506ms/step - loss: 16482.5566\n",
      "Epoch 6/10\n",
      "1/1 [==============================] - 1s 518ms/step - loss: 16484.0625\n",
      "Epoch 7/10\n",
      "1/1 [==============================] - 0s 492ms/step - loss: 16485.2969\n",
      "Epoch 8/10\n",
      "1/1 [==============================] - 0s 498ms/step - loss: 16485.8379\n",
      "Epoch 9/10\n",
      "1/1 [==============================] - 1s 508ms/step - loss: 16485.9648\n",
      "Epoch 10/10\n",
      "1/1 [==============================] - 0s 496ms/step - loss: 16485.8691\n",
      "Encoding in Progress Time step 6 \n",
      "Epoch 1/10\n",
      "1/1 [==============================] - 0s 487ms/step - loss: 39000.9805\n",
      "Epoch 2/10\n",
      "1/1 [==============================] - 0s 500ms/step - loss: 38986.7188\n",
      "Epoch 3/10\n",
      "1/1 [==============================] - 1s 506ms/step - loss: 38973.6211\n",
      "Epoch 4/10\n",
      "1/1 [==============================] - 1s 518ms/step - loss: 38964.3320\n",
      "Epoch 5/10\n",
      "1/1 [==============================] - 1s 520ms/step - loss: 38958.0820\n",
      "Epoch 6/10\n",
      "1/1 [==============================] - 1s 510ms/step - loss: 38955.0703\n",
      "Epoch 7/10\n",
      "1/1 [==============================] - 1s 502ms/step - loss: 38955.7891\n",
      "Epoch 8/10\n",
      "1/1 [==============================] - 0s 491ms/step - loss: 38957.1602\n",
      "Epoch 9/10\n",
      "1/1 [==============================] - 1s 507ms/step - loss: 38954.2617\n",
      "Epoch 10/10\n",
      "1/1 [==============================] - 1s 507ms/step - loss: 38927.1172\n",
      "Encoding in Progress Time step 7 \n",
      "Epoch 1/10\n",
      "1/1 [==============================] - 0s 483ms/step - loss: 15538.5459\n",
      "Epoch 2/10\n",
      "1/1 [==============================] - 1s 503ms/step - loss: 15527.8262\n",
      "Epoch 3/10\n",
      "1/1 [==============================] - 0s 495ms/step - loss: 15491.2783\n",
      "Epoch 4/10\n",
      "1/1 [==============================] - 1s 510ms/step - loss: 15463.6221\n",
      "Epoch 5/10\n",
      "1/1 [==============================] - 1s 504ms/step - loss: 15442.5693\n",
      "Epoch 6/10\n",
      "1/1 [==============================] - 1s 545ms/step - loss: 15420.0664\n",
      "Epoch 7/10\n",
      "1/1 [==============================] - 1s 519ms/step - loss: 15371.4258\n",
      "Epoch 8/10\n",
      "1/1 [==============================] - 1s 533ms/step - loss: 12673.1875\n",
      "Epoch 9/10\n",
      "1/1 [==============================] - 1s 526ms/step - loss: 20837.3496\n",
      "Epoch 10/10\n",
      "1/1 [==============================] - 1s 528ms/step - loss: 13844.7090\n",
      "Encoding in Progress Time step 8 \n",
      "Epoch 1/10\n",
      "1/1 [==============================] - 1s 518ms/step - loss: 36193.4336\n",
      "Epoch 2/10\n",
      "1/1 [==============================] - 1s 539ms/step - loss: 31915.7637\n",
      "Epoch 3/10\n",
      "1/1 [==============================] - 1s 513ms/step - loss: 29803.3672\n",
      "Epoch 4/10\n",
      "1/1 [==============================] - 1s 504ms/step - loss: 29047.6328\n",
      "Epoch 5/10\n",
      "1/1 [==============================] - 1s 525ms/step - loss: 29314.3242\n",
      "Epoch 6/10\n",
      "1/1 [==============================] - 1s 510ms/step - loss: 32371.1641\n",
      "Epoch 7/10\n",
      "1/1 [==============================] - 0s 488ms/step - loss: 30197.4727\n",
      "Epoch 8/10\n",
      "1/1 [==============================] - 0s 492ms/step - loss: 29593.2930\n",
      "Epoch 9/10\n",
      "1/1 [==============================] - 1s 507ms/step - loss: 29609.9980\n",
      "Epoch 10/10\n",
      "1/1 [==============================] - 1s 501ms/step - loss: 28785.5508\n",
      "Encoding in Progress Time step 9 \n",
      "Epoch 1/10\n",
      "1/1 [==============================] - 1s 505ms/step - loss: 22932.9512\n",
      "Epoch 2/10\n",
      "1/1 [==============================] - 1s 524ms/step - loss: 22836.4824\n",
      "Epoch 3/10\n",
      "1/1 [==============================] - 1s 505ms/step - loss: 22944.7109\n",
      "Epoch 4/10\n",
      "1/1 [==============================] - 1s 507ms/step - loss: 23443.7012\n",
      "Epoch 5/10\n"
     ]
    },
    {
     "name": "stdout",
     "output_type": "stream",
     "text": [
      "1/1 [==============================] - 1s 518ms/step - loss: 22377.0664\n",
      "Epoch 6/10\n",
      "1/1 [==============================] - 1s 564ms/step - loss: 14665.5928\n",
      "Epoch 7/10\n",
      "1/1 [==============================] - 1s 561ms/step - loss: 27410.8477\n",
      "Epoch 8/10\n",
      "1/1 [==============================] - 1s 512ms/step - loss: 17729.6992\n",
      "Epoch 9/10\n",
      "1/1 [==============================] - 1s 507ms/step - loss: 19984.2148\n",
      "Epoch 10/10\n",
      "1/1 [==============================] - 0s 495ms/step - loss: 20562.3184\n",
      "Encoding in Progress Time step 10 \n",
      "Epoch 1/10\n",
      "1/1 [==============================] - 0s 483ms/step - loss: 13040.6572\n",
      "Epoch 2/10\n",
      "1/1 [==============================] - 0s 497ms/step - loss: 15460.9785\n",
      "Epoch 3/10\n",
      "1/1 [==============================] - 1s 545ms/step - loss: 12876.4365\n",
      "Epoch 4/10\n",
      "1/1 [==============================] - 1s 527ms/step - loss: 13559.4619\n",
      "Epoch 5/10\n",
      "1/1 [==============================] - 1s 513ms/step - loss: 13556.6172\n",
      "Epoch 6/10\n",
      "1/1 [==============================] - 1s 513ms/step - loss: 12771.9463\n",
      "Epoch 7/10\n",
      "1/1 [==============================] - 1s 524ms/step - loss: 15057.4824\n",
      "Epoch 8/10\n",
      "1/1 [==============================] - 1s 533ms/step - loss: 12978.5137\n",
      "Epoch 9/10\n",
      "1/1 [==============================] - 1s 524ms/step - loss: 13831.9580\n",
      "Epoch 10/10\n",
      "1/1 [==============================] - 1s 523ms/step - loss: 13509.3164\n",
      "Encoding in Progress Time step 11 \n",
      "Epoch 1/10\n",
      "1/1 [==============================] - 1s 508ms/step - loss: 16857.8105\n",
      "Epoch 2/10\n",
      "1/1 [==============================] - 1s 509ms/step - loss: 17199.5020\n",
      "Epoch 3/10\n",
      "1/1 [==============================] - 0s 498ms/step - loss: 14673.0762\n",
      "Epoch 4/10\n",
      "1/1 [==============================] - 0s 487ms/step - loss: 15234.0303\n",
      "Epoch 5/10\n",
      "1/1 [==============================] - 1s 509ms/step - loss: 15213.4326\n",
      "Epoch 6/10\n",
      "1/1 [==============================] - 1s 510ms/step - loss: 14176.6572\n",
      "Epoch 7/10\n",
      "1/1 [==============================] - 0s 493ms/step - loss: 15271.5615\n",
      "Epoch 8/10\n",
      "1/1 [==============================] - 0s 484ms/step - loss: 13859.6377\n",
      "Epoch 9/10\n",
      "1/1 [==============================] - 1s 536ms/step - loss: 14137.2344\n",
      "Epoch 10/10\n",
      "1/1 [==============================] - 1s 531ms/step - loss: 13455.7832\n",
      "Encoding in Progress Time step 12 \n",
      "Epoch 1/10\n",
      "1/1 [==============================] - 0s 499ms/step - loss: 23089.8184\n",
      "Epoch 2/10\n",
      "1/1 [==============================] - 1s 539ms/step - loss: 17656.7988\n",
      "Epoch 3/10\n",
      "1/1 [==============================] - 1s 542ms/step - loss: 20606.6641\n",
      "Epoch 4/10\n",
      "1/1 [==============================] - 1s 610ms/step - loss: 19820.2188\n",
      "Epoch 5/10\n",
      "1/1 [==============================] - 1s 577ms/step - loss: 16781.1738\n",
      "Epoch 6/10\n",
      "1/1 [==============================] - 1s 557ms/step - loss: 21005.8848\n",
      "Epoch 7/10\n",
      "1/1 [==============================] - 1s 571ms/step - loss: 16393.1738\n",
      "Epoch 8/10\n",
      "1/1 [==============================] - 1s 543ms/step - loss: 18182.4434\n",
      "Epoch 9/10\n",
      "1/1 [==============================] - 1s 531ms/step - loss: 18450.0820\n",
      "Epoch 10/10\n",
      "1/1 [==============================] - 1s 528ms/step - loss: 16821.9941\n",
      "Encoding in Progress Time step 13 \n",
      "Epoch 1/10\n",
      "1/1 [==============================] - 1s 531ms/step - loss: 14005.7930\n",
      "Epoch 2/10\n",
      "1/1 [==============================] - 0s 493ms/step - loss: 17913.1582\n",
      "Epoch 3/10\n",
      "1/1 [==============================] - 1s 504ms/step - loss: 13506.7754\n",
      "Epoch 4/10\n",
      "1/1 [==============================] - 1s 512ms/step - loss: 14822.2666\n",
      "Epoch 5/10\n",
      "1/1 [==============================] - 1s 519ms/step - loss: 15071.5449\n",
      "Epoch 6/10\n",
      "1/1 [==============================] - 1s 507ms/step - loss: 12904.3262\n",
      "Epoch 7/10\n",
      "1/1 [==============================] - 1s 511ms/step - loss: 10402.7432\n",
      "Epoch 8/10\n",
      "1/1 [==============================] - 1s 515ms/step - loss: 7460.2603\n",
      "Epoch 9/10\n",
      "1/1 [==============================] - 1s 553ms/step - loss: 5252.7744\n",
      "Epoch 10/10\n",
      "1/1 [==============================] - 1s 527ms/step - loss: 3980.5166\n",
      "Encoding in Progress Time step 14 \n",
      "Epoch 1/10\n",
      "1/1 [==============================] - 0s 497ms/step - loss: 29399.8770\n",
      "Epoch 2/10\n",
      "1/1 [==============================] - 0s 496ms/step - loss: 14895.1533\n",
      "Epoch 3/10\n",
      "1/1 [==============================] - 0s 494ms/step - loss: 21985.4141\n",
      "Epoch 4/10\n",
      "1/1 [==============================] - 0s 490ms/step - loss: 21650.8770\n",
      "Epoch 5/10\n",
      "1/1 [==============================] - 0s 493ms/step - loss: 14170.5703\n",
      "Epoch 6/10\n",
      "1/1 [==============================] - 1s 507ms/step - loss: 29776.5820\n",
      "Epoch 7/10\n",
      "1/1 [==============================] - 1s 529ms/step - loss: 15854.0586\n",
      "Epoch 8/10\n",
      "1/1 [==============================] - 1s 551ms/step - loss: 22376.6895\n",
      "Epoch 9/10\n",
      "1/1 [==============================] - 1s 553ms/step - loss: 23553.2695\n",
      "Epoch 10/10\n",
      "1/1 [==============================] - 1s 532ms/step - loss: 20862.2168\n",
      "Encoding in Progress Time step 15 \n",
      "Epoch 1/10\n",
      "1/1 [==============================] - 1s 521ms/step - loss: 15343.5869\n",
      "Epoch 2/10\n",
      "1/1 [==============================] - 1s 543ms/step - loss: 28209.7832\n",
      "Epoch 3/10\n",
      "1/1 [==============================] - 1s 546ms/step - loss: 15523.0576\n",
      "Epoch 4/10\n",
      "1/1 [==============================] - 0s 491ms/step - loss: 22751.8809\n",
      "Epoch 5/10\n",
      "1/1 [==============================] - 1s 528ms/step - loss: 22941.7676\n",
      "Epoch 6/10\n",
      "1/1 [==============================] - 1s 519ms/step - loss: 14654.7422\n",
      "Epoch 7/10\n",
      "1/1 [==============================] - 1s 529ms/step - loss: 57303.5352\n",
      "Epoch 8/10\n",
      "1/1 [==============================] - 1s 512ms/step - loss: 19272.9277\n",
      "Epoch 9/10\n",
      "1/1 [==============================] - 1s 515ms/step - loss: 11924.5283\n",
      "Epoch 10/10\n",
      "1/1 [==============================] - 1s 510ms/step - loss: 11530.7754\n",
      "Encoding in Progress Time step 16 \n",
      "Epoch 1/10\n",
      "1/1 [==============================] - 0s 498ms/step - loss: 22209.5156\n",
      "Epoch 2/10\n",
      "1/1 [==============================] - 1s 520ms/step - loss: 13960.1201\n",
      "Epoch 3/10\n",
      "1/1 [==============================] - 1s 508ms/step - loss: 21246.6602\n",
      "Epoch 4/10\n",
      "1/1 [==============================] - 1s 504ms/step - loss: 23049.4590\n",
      "Epoch 5/10\n",
      "1/1 [==============================] - 1s 533ms/step - loss: 22674.3887\n",
      "Epoch 6/10\n",
      "1/1 [==============================] - 1s 529ms/step - loss: 21219.5625\n",
      "Epoch 7/10\n",
      "1/1 [==============================] - 1s 525ms/step - loss: 13668.4922\n",
      "Epoch 8/10\n",
      "1/1 [==============================] - 1s 539ms/step - loss: 47218.2305\n",
      "Epoch 9/10\n",
      "1/1 [==============================] - 1s 570ms/step - loss: 30880.2656\n",
      "Epoch 10/10\n",
      "1/1 [==============================] - 1s 516ms/step - loss: 41025.7891\n",
      "Encoding in Progress Time step 17 \n",
      "Epoch 1/10\n",
      "1/1 [==============================] - 1s 504ms/step - loss: 24934.7188\n",
      "Epoch 2/10\n",
      "1/1 [==============================] - 1s 526ms/step - loss: 21749.8340\n",
      "Epoch 3/10\n",
      "1/1 [==============================] - 1s 547ms/step - loss: 17655.7559\n",
      "Epoch 4/10\n",
      "1/1 [==============================] - 1s 520ms/step - loss: 27324.5137\n",
      "Epoch 5/10\n",
      "1/1 [==============================] - 1s 536ms/step - loss: 17690.8320\n",
      "Epoch 6/10\n",
      "1/1 [==============================] - 1s 524ms/step - loss: 18956.3359\n",
      "Epoch 7/10\n",
      "1/1 [==============================] - 1s 528ms/step - loss: 20437.5352\n",
      "Epoch 8/10\n",
      "1/1 [==============================] - 1s 529ms/step - loss: 19380.8008\n",
      "Epoch 9/10\n",
      "1/1 [==============================] - 1s 537ms/step - loss: 17882.1094\n",
      "Epoch 10/10\n",
      "1/1 [==============================] - 1s 518ms/step - loss: 21281.7012\n",
      "Encoding in Progress Time step 18 \n",
      "Epoch 1/10\n",
      "1/1 [==============================] - 1s 519ms/step - loss: 11325.5371\n",
      "Epoch 2/10\n",
      "1/1 [==============================] - 1s 529ms/step - loss: 11717.7070\n",
      "Epoch 3/10\n",
      "1/1 [==============================] - 1s 514ms/step - loss: 11628.8213\n",
      "Epoch 4/10\n",
      "1/1 [==============================] - 1s 524ms/step - loss: 11087.9238\n",
      "Epoch 5/10\n",
      "1/1 [==============================] - 1s 525ms/step - loss: 11023.3135\n",
      "Epoch 6/10\n",
      "1/1 [==============================] - 1s 530ms/step - loss: 11103.7734\n",
      "Epoch 7/10\n",
      "1/1 [==============================] - 1s 526ms/step - loss: 10858.4844\n",
      "Epoch 8/10\n",
      "1/1 [==============================] - 1s 540ms/step - loss: 10517.9502\n",
      "Epoch 9/10\n",
      "1/1 [==============================] - 1s 520ms/step - loss: 10679.2959\n"
     ]
    },
    {
     "name": "stdout",
     "output_type": "stream",
     "text": [
      "Epoch 10/10\n",
      "1/1 [==============================] - 1s 515ms/step - loss: 10514.0605\n",
      "Encoding in Progress Time step 19 \n",
      "Epoch 1/10\n",
      "1/1 [==============================] - 0s 485ms/step - loss: 10646.7070\n",
      "Epoch 2/10\n",
      "1/1 [==============================] - 1s 521ms/step - loss: 10359.3867\n",
      "Epoch 3/10\n",
      "1/1 [==============================] - 1s 530ms/step - loss: 10045.5889\n",
      "Epoch 4/10\n",
      "1/1 [==============================] - 1s 526ms/step - loss: 11589.5293\n",
      "Epoch 5/10\n",
      "1/1 [==============================] - 1s 530ms/step - loss: 11897.6074\n",
      "Epoch 6/10\n",
      "1/1 [==============================] - 1s 528ms/step - loss: 12495.8213\n",
      "Epoch 7/10\n",
      "1/1 [==============================] - 1s 535ms/step - loss: 11467.4160\n",
      "Epoch 8/10\n",
      "1/1 [==============================] - 1s 521ms/step - loss: 11084.6680\n",
      "Epoch 9/10\n",
      "1/1 [==============================] - 1s 518ms/step - loss: 12255.1279\n",
      "Epoch 10/10\n",
      "1/1 [==============================] - 1s 528ms/step - loss: 11782.4590\n",
      "Encoding in Progress Time step 20 \n",
      "Epoch 1/10\n",
      "1/1 [==============================] - 0s 483ms/step - loss: 15623.5459\n",
      "Epoch 2/10\n",
      "1/1 [==============================] - 1s 524ms/step - loss: 15904.7783\n",
      "Epoch 3/10\n",
      "1/1 [==============================] - 1s 539ms/step - loss: 15818.4082\n",
      "Epoch 4/10\n",
      "1/1 [==============================] - 1s 503ms/step - loss: 15207.0664\n",
      "Epoch 5/10\n",
      "1/1 [==============================] - 1s 517ms/step - loss: 15193.8994\n",
      "Epoch 6/10\n",
      "1/1 [==============================] - 1s 536ms/step - loss: 15012.9766\n",
      "Epoch 7/10\n",
      "1/1 [==============================] - 1s 523ms/step - loss: 15123.3252\n",
      "Epoch 8/10\n",
      "1/1 [==============================] - 1s 508ms/step - loss: 15045.2070\n",
      "Epoch 9/10\n",
      "1/1 [==============================] - 1s 521ms/step - loss: 15025.5508\n",
      "Epoch 10/10\n",
      "1/1 [==============================] - 1s 514ms/step - loss: 14971.5508\n",
      "Encoding in Progress Time step 21 \n",
      "Epoch 1/10\n",
      "1/1 [==============================] - 1s 523ms/step - loss: 19514.0781\n",
      "Epoch 2/10\n",
      "1/1 [==============================] - 1s 522ms/step - loss: 19447.0195\n",
      "Epoch 3/10\n",
      "1/1 [==============================] - 1s 507ms/step - loss: 19301.9199\n",
      "Epoch 4/10\n",
      "1/1 [==============================] - 1s 519ms/step - loss: 19303.4258\n",
      "Epoch 5/10\n",
      "1/1 [==============================] - 1s 533ms/step - loss: 19278.8281\n",
      "Epoch 6/10\n",
      "1/1 [==============================] - 1s 520ms/step - loss: 19216.1074\n",
      "Epoch 7/10\n",
      "1/1 [==============================] - 1s 525ms/step - loss: 19074.8809\n",
      "Epoch 8/10\n",
      "1/1 [==============================] - 1s 525ms/step - loss: 19563.8398\n",
      "Epoch 9/10\n",
      "1/1 [==============================] - 1s 511ms/step - loss: 19791.8008\n",
      "Epoch 10/10\n",
      "1/1 [==============================] - 1s 531ms/step - loss: 11085.5918\n",
      "Encoding in Progress Time step 22 \n",
      "Epoch 1/10\n",
      "1/1 [==============================] - 1s 515ms/step - loss: 7115.5293\n",
      "Epoch 2/10\n",
      "1/1 [==============================] - 1s 510ms/step - loss: 9190.1943\n",
      "Epoch 3/10\n",
      "1/1 [==============================] - 1s 524ms/step - loss: 6880.2383\n",
      "Epoch 4/10\n",
      "1/1 [==============================] - 1s 521ms/step - loss: 5397.6265\n",
      "Epoch 5/10\n",
      "1/1 [==============================] - 1s 525ms/step - loss: 7083.6528\n",
      "Epoch 6/10\n",
      "1/1 [==============================] - 1s 529ms/step - loss: 5202.7808\n",
      "Epoch 7/10\n",
      "1/1 [==============================] - 1s 519ms/step - loss: 4999.5493\n",
      "Epoch 8/10\n",
      "1/1 [==============================] - 1s 525ms/step - loss: 5808.9409\n",
      "Epoch 9/10\n",
      "1/1 [==============================] - 1s 533ms/step - loss: 5725.8149\n",
      "Epoch 10/10\n",
      "1/1 [==============================] - 1s 545ms/step - loss: 5079.4004\n",
      "Encoding in Progress Time step 23 \n",
      "Epoch 1/10\n",
      "1/1 [==============================] - 1s 515ms/step - loss: 8862.3711\n",
      "Epoch 2/10\n",
      "1/1 [==============================] - 1s 703ms/step - loss: 7767.8608\n",
      "Epoch 3/10\n",
      "1/1 [==============================] - 1s 507ms/step - loss: 6897.8965\n",
      "Epoch 4/10\n",
      "1/1 [==============================] - 1s 562ms/step - loss: 6954.5063\n",
      "Epoch 5/10\n",
      "1/1 [==============================] - 1s 535ms/step - loss: 7508.9209\n",
      "Epoch 6/10\n",
      "1/1 [==============================] - 1s 522ms/step - loss: 6409.0562\n",
      "Epoch 7/10\n",
      "1/1 [==============================] - 1s 532ms/step - loss: 6307.3306\n",
      "Epoch 8/10\n",
      "1/1 [==============================] - 1s 526ms/step - loss: 6389.0854\n",
      "Epoch 9/10\n",
      "1/1 [==============================] - 1s 538ms/step - loss: 6593.4248\n",
      "Epoch 10/10\n",
      "1/1 [==============================] - 1s 503ms/step - loss: 6374.0879\n",
      "Encoding in Progress Time step 24 \n",
      "Epoch 1/10\n",
      "1/1 [==============================] - 1s 507ms/step - loss: 15251.6426\n",
      "Epoch 2/10\n",
      "1/1 [==============================] - 1s 537ms/step - loss: 6665.2393\n",
      "Epoch 3/10\n",
      "1/1 [==============================] - 1s 519ms/step - loss: 11953.0264\n",
      "Epoch 4/10\n",
      "1/1 [==============================] - 1s 544ms/step - loss: 3998.9895\n",
      "Epoch 5/10\n",
      "1/1 [==============================] - 1s 529ms/step - loss: 5499.4570\n",
      "Epoch 6/10\n",
      "1/1 [==============================] - 1s 544ms/step - loss: 6915.4883\n",
      "Epoch 7/10\n",
      "1/1 [==============================] - 1s 529ms/step - loss: 3904.5173\n",
      "Epoch 8/10\n",
      "1/1 [==============================] - 1s 527ms/step - loss: 5340.7959\n",
      "Epoch 9/10\n",
      "1/1 [==============================] - 1s 529ms/step - loss: 4765.6587\n",
      "Epoch 10/10\n",
      "1/1 [==============================] - 1s 513ms/step - loss: 3019.1218\n",
      "Encoding in Progress Time step 25 \n",
      "Epoch 1/10\n",
      "1/1 [==============================] - 1s 502ms/step - loss: 5464.4019\n",
      "Epoch 2/10\n",
      "1/1 [==============================] - 1s 524ms/step - loss: 5000.0088\n",
      "Epoch 3/10\n",
      "1/1 [==============================] - 1s 527ms/step - loss: 4098.0381\n",
      "Epoch 4/10\n",
      "1/1 [==============================] - 1s 530ms/step - loss: 5193.9048\n",
      "Epoch 5/10\n",
      "1/1 [==============================] - 1s 519ms/step - loss: 4039.0691\n",
      "Epoch 6/10\n",
      "1/1 [==============================] - 1s 525ms/step - loss: 3759.7051\n",
      "Epoch 7/10\n",
      "1/1 [==============================] - 1s 534ms/step - loss: 3997.6685\n",
      "Epoch 8/10\n",
      "1/1 [==============================] - 1s 527ms/step - loss: 3403.2107\n",
      "Epoch 9/10\n",
      "1/1 [==============================] - 1s 520ms/step - loss: 3611.2788\n",
      "Epoch 10/10\n",
      "1/1 [==============================] - 1s 519ms/step - loss: 3456.4595\n",
      "Encoding in Progress Time step 26 \n",
      "Epoch 1/10\n",
      "1/1 [==============================] - 1s 521ms/step - loss: 17418.0820\n",
      "Epoch 2/10\n",
      "1/1 [==============================] - 1s 537ms/step - loss: 9317.8516\n",
      "Epoch 3/10\n",
      "1/1 [==============================] - 1s 530ms/step - loss: 11791.5996\n",
      "Epoch 4/10\n",
      "1/1 [==============================] - 1s 526ms/step - loss: 14243.6582\n",
      "Epoch 5/10\n",
      "1/1 [==============================] - 1s 503ms/step - loss: 14653.8467\n",
      "Epoch 6/10\n",
      "1/1 [==============================] - 1s 521ms/step - loss: 13035.5156\n",
      "Epoch 7/10\n",
      "1/1 [==============================] - 1s 538ms/step - loss: 9910.8594\n",
      "Epoch 8/10\n",
      "1/1 [==============================] - 1s 514ms/step - loss: 8191.1646\n",
      "Epoch 9/10\n",
      "1/1 [==============================] - 1s 520ms/step - loss: 11766.0889\n",
      "Epoch 10/10\n",
      "1/1 [==============================] - 1s 535ms/step - loss: 9428.1465\n",
      "Encoding in Progress Time step 27 \n",
      "Epoch 1/10\n",
      "1/1 [==============================] - 1s 506ms/step - loss: 9084.0703\n",
      "Epoch 2/10\n",
      "1/1 [==============================] - 1s 534ms/step - loss: 8912.0439\n",
      "Epoch 3/10\n",
      "1/1 [==============================] - 1s 531ms/step - loss: 6150.9341\n",
      "Epoch 4/10\n",
      "1/1 [==============================] - 1s 529ms/step - loss: 5630.6606\n",
      "Epoch 5/10\n",
      "1/1 [==============================] - 1s 533ms/step - loss: 7882.2334\n",
      "Epoch 6/10\n",
      "1/1 [==============================] - 1s 521ms/step - loss: 5341.8794\n",
      "Epoch 7/10\n",
      "1/1 [==============================] - 1s 515ms/step - loss: 4860.2363\n",
      "Epoch 8/10\n",
      "1/1 [==============================] - 1s 538ms/step - loss: 5912.2168\n",
      "Epoch 9/10\n",
      "1/1 [==============================] - 1s 532ms/step - loss: 5228.8037\n",
      "Epoch 10/10\n",
      "1/1 [==============================] - 1s 564ms/step - loss: 4098.9785\n",
      "Encoding in Progress Time step 28 \n",
      "Epoch 1/10\n",
      "1/1 [==============================] - 1s 519ms/step - loss: 11100.6709\n",
      "Epoch 2/10\n",
      "1/1 [==============================] - 0s 500ms/step - loss: 5694.5278\n",
      "Epoch 3/10\n",
      "1/1 [==============================] - 1s 539ms/step - loss: 8119.6899\n",
      "Epoch 4/10\n",
      "1/1 [==============================] - 1s 536ms/step - loss: 7914.8501\n",
      "Epoch 5/10\n"
     ]
    },
    {
     "name": "stdout",
     "output_type": "stream",
     "text": [
      "1/1 [==============================] - 1s 528ms/step - loss: 5241.1914\n",
      "Epoch 6/10\n",
      "1/1 [==============================] - 1s 517ms/step - loss: 4251.1958\n",
      "Epoch 7/10\n",
      "1/1 [==============================] - 1s 536ms/step - loss: 7114.3965\n",
      "Epoch 8/10\n",
      "1/1 [==============================] - 1s 520ms/step - loss: 5145.9819\n",
      "Epoch 9/10\n",
      "1/1 [==============================] - 1s 526ms/step - loss: 3776.8928\n",
      "Epoch 10/10\n",
      "1/1 [==============================] - 1s 523ms/step - loss: 4839.9243\n",
      "Encoding in Progress Time step 29 \n",
      "Epoch 1/10\n",
      "1/1 [==============================] - 1s 500ms/step - loss: 7633.9194\n",
      "Epoch 2/10\n",
      "1/1 [==============================] - 1s 523ms/step - loss: 6959.9326\n",
      "Epoch 3/10\n",
      "1/1 [==============================] - 1s 533ms/step - loss: 6811.9644\n",
      "Epoch 4/10\n",
      "1/1 [==============================] - 1s 513ms/step - loss: 6949.9775\n",
      "Epoch 5/10\n",
      "1/1 [==============================] - 1s 520ms/step - loss: 6916.9653\n",
      "Epoch 6/10\n",
      "1/1 [==============================] - 1s 525ms/step - loss: 6593.4014\n",
      "Epoch 7/10\n",
      "1/1 [==============================] - 1s 538ms/step - loss: 6252.5913\n",
      "Epoch 8/10\n",
      "1/1 [==============================] - 1s 516ms/step - loss: 6329.7295\n",
      "Epoch 9/10\n",
      "1/1 [==============================] - 1s 514ms/step - loss: 6094.5454\n",
      "Epoch 10/10\n",
      "1/1 [==============================] - 1s 531ms/step - loss: 5889.2310\n",
      "Encoding in Progress Time step 30 \n",
      "Epoch 1/10\n",
      "1/1 [==============================] - 0s 497ms/step - loss: 6791.6602\n",
      "Epoch 2/10\n",
      "1/1 [==============================] - 1s 524ms/step - loss: 5153.0693\n",
      "Epoch 3/10\n",
      "1/1 [==============================] - 1s 534ms/step - loss: 3937.3643\n",
      "Epoch 4/10\n",
      "1/1 [==============================] - 1s 530ms/step - loss: 5942.4663\n",
      "Epoch 5/10\n",
      "1/1 [==============================] - 1s 532ms/step - loss: 3862.6982\n",
      "Epoch 6/10\n",
      "1/1 [==============================] - 1s 555ms/step - loss: 3795.5344\n",
      "Epoch 7/10\n",
      "1/1 [==============================] - 1s 531ms/step - loss: 4279.9492\n",
      "Epoch 8/10\n",
      "1/1 [==============================] - 1s 539ms/step - loss: 4012.8564\n",
      "Epoch 9/10\n",
      "1/1 [==============================] - 1s 532ms/step - loss: 3464.1638\n",
      "Epoch 10/10\n",
      "1/1 [==============================] - 1s 514ms/step - loss: 3659.5696\n",
      "Encoding in Progress Time step 31 \n",
      "Epoch 1/10\n",
      "1/1 [==============================] - 0s 487ms/step - loss: 3130.4382\n",
      "Epoch 2/10\n",
      "1/1 [==============================] - 1s 524ms/step - loss: 2756.6460\n",
      "Epoch 3/10\n",
      "1/1 [==============================] - 1s 529ms/step - loss: 2493.6924\n",
      "Epoch 4/10\n",
      "1/1 [==============================] - 1s 514ms/step - loss: 2462.8560\n",
      "Epoch 5/10\n",
      "1/1 [==============================] - 1s 529ms/step - loss: 2512.1802\n",
      "Epoch 6/10\n",
      "1/1 [==============================] - 1s 526ms/step - loss: 2482.4863\n",
      "Epoch 7/10\n",
      "1/1 [==============================] - 1s 533ms/step - loss: 2344.6133\n",
      "Epoch 8/10\n",
      "1/1 [==============================] - 1s 538ms/step - loss: 2188.3049\n",
      "Epoch 9/10\n",
      "1/1 [==============================] - 1s 513ms/step - loss: 2181.1804\n",
      "Epoch 10/10\n",
      "1/1 [==============================] - 1s 522ms/step - loss: 2262.7136\n",
      "Encoding in Progress Time step 32 \n",
      "Epoch 1/10\n",
      "1/1 [==============================] - 0s 484ms/step - loss: 12038.8193\n",
      "Epoch 2/10\n",
      "1/1 [==============================] - 1s 526ms/step - loss: 8695.1553\n",
      "Epoch 3/10\n",
      "1/1 [==============================] - 1s 530ms/step - loss: 7212.0874\n",
      "Epoch 4/10\n",
      "1/1 [==============================] - 1s 544ms/step - loss: 7473.3252\n",
      "Epoch 5/10\n",
      "1/1 [==============================] - 1s 505ms/step - loss: 8220.5684\n",
      "Epoch 6/10\n",
      "1/1 [==============================] - 1s 523ms/step - loss: 8826.2451\n",
      "Epoch 7/10\n",
      "1/1 [==============================] - 1s 515ms/step - loss: 9112.7812\n",
      "Epoch 8/10\n",
      "1/1 [==============================] - 1s 512ms/step - loss: 9067.9697\n",
      "Epoch 9/10\n",
      "1/1 [==============================] - 1s 508ms/step - loss: 8727.3633\n",
      "Epoch 10/10\n",
      "1/1 [==============================] - 1s 521ms/step - loss: 8152.7295\n",
      "Encoding in Progress Time step 33 \n",
      "Epoch 1/10\n",
      "1/1 [==============================] - 0s 496ms/step - loss: 10692.5400\n",
      "Epoch 2/10\n",
      "1/1 [==============================] - 1s 539ms/step - loss: 9067.0244\n",
      "Epoch 3/10\n",
      "1/1 [==============================] - 1s 519ms/step - loss: 8628.4248\n",
      "Epoch 4/10\n",
      "1/1 [==============================] - 0s 499ms/step - loss: 9994.5029\n",
      "Epoch 5/10\n",
      "1/1 [==============================] - 1s 523ms/step - loss: 10322.4531\n",
      "Epoch 6/10\n",
      "1/1 [==============================] - 1s 518ms/step - loss: 8724.0381\n",
      "Epoch 7/10\n",
      "1/1 [==============================] - 1s 531ms/step - loss: 8027.8921\n",
      "Epoch 8/10\n",
      "1/1 [==============================] - 1s 520ms/step - loss: 8512.4072\n",
      "Epoch 9/10\n",
      "1/1 [==============================] - 1s 530ms/step - loss: 9087.8682\n",
      "Epoch 10/10\n",
      "1/1 [==============================] - 1s 530ms/step - loss: 9173.5967\n",
      "Encoding in Progress Time step 34 \n",
      "Epoch 1/10\n",
      "1/1 [==============================] - 0s 492ms/step - loss: 8384.7139\n",
      "Epoch 2/10\n",
      "1/1 [==============================] - 1s 528ms/step - loss: 6183.9272\n",
      "Epoch 3/10\n",
      "1/1 [==============================] - 1s 531ms/step - loss: 5141.6030\n",
      "Epoch 4/10\n",
      "1/1 [==============================] - 1s 529ms/step - loss: 7050.0874\n",
      "Epoch 5/10\n",
      "1/1 [==============================] - 1s 519ms/step - loss: 7083.6445\n",
      "Epoch 6/10\n",
      "1/1 [==============================] - 1s 525ms/step - loss: 4923.3999\n",
      "Epoch 7/10\n",
      "1/1 [==============================] - 1s 558ms/step - loss: 4877.2661\n",
      "Epoch 8/10\n",
      "1/1 [==============================] - 1s 528ms/step - loss: 5776.7393\n",
      "Epoch 9/10\n",
      "1/1 [==============================] - 1s 530ms/step - loss: 5927.9868\n",
      "Epoch 10/10\n",
      "1/1 [==============================] - 1s 517ms/step - loss: 5122.7305\n",
      "Encoding in Progress Time step 35 \n",
      "Epoch 1/10\n",
      "1/1 [==============================] - 0s 486ms/step - loss: 11582.1094\n",
      "Epoch 2/10\n",
      "1/1 [==============================] - 1s 529ms/step - loss: 7135.1626\n",
      "Epoch 3/10\n",
      "1/1 [==============================] - 1s 530ms/step - loss: 11357.5332\n",
      "Epoch 4/10\n",
      "1/1 [==============================] - 1s 521ms/step - loss: 7875.8955\n",
      "Epoch 5/10\n",
      "1/1 [==============================] - 1s 538ms/step - loss: 5732.2983\n",
      "Epoch 6/10\n",
      "1/1 [==============================] - 1s 503ms/step - loss: 6287.6631\n",
      "Epoch 7/10\n",
      "1/1 [==============================] - 1s 533ms/step - loss: 6319.9619\n",
      "Epoch 8/10\n",
      "1/1 [==============================] - 1s 531ms/step - loss: 5826.8569\n",
      "Epoch 9/10\n",
      "1/1 [==============================] - 1s 536ms/step - loss: 5815.3618\n",
      "Epoch 10/10\n",
      "1/1 [==============================] - 1s 506ms/step - loss: 5574.1953\n",
      "Encoding in Progress Time step 36 \n",
      "Epoch 1/10\n",
      "1/1 [==============================] - 0s 491ms/step - loss: 8253.4805\n",
      "Epoch 2/10\n",
      "1/1 [==============================] - 1s 509ms/step - loss: 5040.8608\n",
      "Epoch 3/10\n",
      "1/1 [==============================] - 1s 527ms/step - loss: 5771.7539\n",
      "Epoch 4/10\n",
      "1/1 [==============================] - 1s 531ms/step - loss: 7154.1758\n",
      "Epoch 5/10\n",
      "1/1 [==============================] - 1s 516ms/step - loss: 7691.1353\n",
      "Epoch 6/10\n",
      "1/1 [==============================] - 1s 530ms/step - loss: 7155.0688\n",
      "Epoch 7/10\n",
      "1/1 [==============================] - 1s 528ms/step - loss: 5850.9058\n",
      "Epoch 8/10\n",
      "1/1 [==============================] - 1s 521ms/step - loss: 4770.1396\n",
      "Epoch 9/10\n",
      "1/1 [==============================] - 1s 543ms/step - loss: 5615.8257\n",
      "Epoch 10/10\n",
      "1/1 [==============================] - 1s 517ms/step - loss: 5873.6733\n",
      "Encoding in Progress Time step 37 \n",
      "Epoch 1/10\n",
      "1/1 [==============================] - 1s 503ms/step - loss: 9014.8906\n",
      "Epoch 2/10\n",
      "1/1 [==============================] - 1s 520ms/step - loss: 5432.9751\n",
      "Epoch 3/10\n",
      "1/1 [==============================] - 1s 541ms/step - loss: 5919.4771\n",
      "Epoch 4/10\n",
      "1/1 [==============================] - 1s 537ms/step - loss: 7175.7256\n",
      "Epoch 5/10\n",
      "1/1 [==============================] - 1s 525ms/step - loss: 7283.2778\n",
      "Epoch 6/10\n",
      "1/1 [==============================] - 1s 530ms/step - loss: 5589.5459\n",
      "Epoch 7/10\n",
      "1/1 [==============================] - 1s 528ms/step - loss: 197780.2500\n",
      "Epoch 8/10\n",
      "1/1 [==============================] - 1s 518ms/step - loss: 14368.3135\n",
      "Epoch 9/10\n",
      "1/1 [==============================] - 1s 522ms/step - loss: 22298.4082\n",
      "Epoch 10/10\n",
      "1/1 [==============================] - 1s 521ms/step - loss: 26509.2266\n"
     ]
    },
    {
     "name": "stdout",
     "output_type": "stream",
     "text": [
      "Encoding in Progress Time step 38 \n",
      "Epoch 1/10\n",
      "1/1 [==============================] - 0s 480ms/step - loss: 26826.9023\n",
      "Epoch 2/10\n",
      "1/1 [==============================] - 1s 512ms/step - loss: 27826.1582\n",
      "Epoch 3/10\n",
      "1/1 [==============================] - 1s 521ms/step - loss: 27842.0273\n",
      "Epoch 4/10\n",
      "1/1 [==============================] - 1s 513ms/step - loss: 25631.8164\n",
      "Epoch 5/10\n",
      "1/1 [==============================] - 1s 524ms/step - loss: 18201.8281\n",
      "Epoch 6/10\n",
      "1/1 [==============================] - 1s 508ms/step - loss: 43053.9609\n",
      "Epoch 7/10\n",
      "1/1 [==============================] - 1s 514ms/step - loss: 19114.9473\n",
      "Epoch 8/10\n",
      "1/1 [==============================] - 1s 522ms/step - loss: 20038.3633\n",
      "Epoch 9/10\n",
      "1/1 [==============================] - 1s 545ms/step - loss: 16546.3516\n",
      "Epoch 10/10\n",
      "1/1 [==============================] - 1s 509ms/step - loss: 18065.0020\n",
      "Encoding in Progress Time step 39 \n",
      "Epoch 1/10\n",
      "1/1 [==============================] - 1s 527ms/step - loss: 13945.2246\n",
      "Epoch 2/10\n",
      "1/1 [==============================] - 1s 517ms/step - loss: 13732.5664\n",
      "Epoch 3/10\n",
      "1/1 [==============================] - 1s 513ms/step - loss: 13924.8428\n",
      "Epoch 4/10\n",
      "1/1 [==============================] - 1s 577ms/step - loss: 13274.6973\n",
      "Epoch 5/10\n",
      "1/1 [==============================] - 1s 553ms/step - loss: 13973.7012\n",
      "Epoch 6/10\n",
      "1/1 [==============================] - 1s 535ms/step - loss: 13173.7432\n",
      "Epoch 7/10\n",
      "1/1 [==============================] - 1s 539ms/step - loss: 13458.9297\n",
      "Epoch 8/10\n",
      "1/1 [==============================] - 1s 530ms/step - loss: 13272.6084\n",
      "Epoch 9/10\n",
      "1/1 [==============================] - 1s 542ms/step - loss: 13366.2656\n",
      "Epoch 10/10\n",
      "1/1 [==============================] - 1s 549ms/step - loss: 13249.3574\n",
      "Encoding in Progress Time step 40 \n",
      "Epoch 1/10\n",
      "1/1 [==============================] - 1s 525ms/step - loss: 10680.5098\n",
      "Epoch 2/10\n",
      "1/1 [==============================] - 1s 536ms/step - loss: 10853.5391\n",
      "Epoch 3/10\n",
      "1/1 [==============================] - 1s 556ms/step - loss: 10506.7070\n",
      "Epoch 4/10\n",
      "1/1 [==============================] - 1s 537ms/step - loss: 10356.9600\n",
      "Epoch 5/10\n",
      "1/1 [==============================] - 1s 550ms/step - loss: 10422.8789\n",
      "Epoch 6/10\n",
      "1/1 [==============================] - 1s 531ms/step - loss: 10253.0986\n",
      "Epoch 7/10\n",
      "1/1 [==============================] - 1s 525ms/step - loss: 10226.3867\n",
      "Epoch 8/10\n",
      "1/1 [==============================] - 1s 547ms/step - loss: 9903.7988\n",
      "Epoch 9/10\n",
      "1/1 [==============================] - 1s 532ms/step - loss: 10495.2598\n",
      "Epoch 10/10\n",
      "1/1 [==============================] - 1s 552ms/step - loss: 10063.3740\n",
      "Encoding in Progress Time step 41 \n",
      "Epoch 1/10\n",
      "1/1 [==============================] - 1s 512ms/step - loss: 19040.0273\n",
      "Epoch 2/10\n",
      "1/1 [==============================] - 1s 539ms/step - loss: 18654.7305\n",
      "Epoch 3/10\n",
      "1/1 [==============================] - 1s 541ms/step - loss: 17246.7559\n",
      "Epoch 4/10\n",
      "1/1 [==============================] - 1s 505ms/step - loss: 17567.6855\n",
      "Epoch 5/10\n",
      "1/1 [==============================] - 1s 517ms/step - loss: 17124.7305\n",
      "Epoch 6/10\n",
      "1/1 [==============================] - 1s 547ms/step - loss: 16940.4082\n",
      "Epoch 7/10\n",
      "1/1 [==============================] - 1s 536ms/step - loss: 18205.8008\n",
      "Epoch 8/10\n",
      "1/1 [==============================] - 1s 535ms/step - loss: 17145.8672\n",
      "Epoch 9/10\n",
      "1/1 [==============================] - 1s 531ms/step - loss: 17452.6230\n",
      "Epoch 10/10\n",
      "1/1 [==============================] - 1s 527ms/step - loss: 17202.1777\n",
      "Encoding in Progress Time step 42 \n",
      "Epoch 1/10\n",
      "1/1 [==============================] - 1s 513ms/step - loss: 13776.5869\n",
      "Epoch 2/10\n",
      "1/1 [==============================] - 1s 562ms/step - loss: 15108.5947\n",
      "Epoch 3/10\n",
      "1/1 [==============================] - 1s 533ms/step - loss: 13576.7158\n",
      "Epoch 4/10\n",
      "1/1 [==============================] - 1s 518ms/step - loss: 21070.6348\n",
      "Epoch 5/10\n",
      "1/1 [==============================] - 1s 542ms/step - loss: 20699.6211\n",
      "Epoch 6/10\n",
      "1/1 [==============================] - 1s 550ms/step - loss: 18575.9414\n",
      "Epoch 7/10\n",
      "1/1 [==============================] - 1s 518ms/step - loss: 24579.5898\n",
      "Epoch 8/10\n",
      "1/1 [==============================] - 1s 537ms/step - loss: 19690.4355\n",
      "Epoch 9/10\n",
      "1/1 [==============================] - 1s 541ms/step - loss: 15478.6924\n",
      "Epoch 10/10\n",
      "1/1 [==============================] - 1s 501ms/step - loss: 15987.5410\n",
      "Encoding in Progress Time step 43 \n",
      "Epoch 1/10\n",
      "1/1 [==============================] - 1s 513ms/step - loss: 13410.3662\n",
      "Epoch 2/10\n",
      "1/1 [==============================] - 1s 501ms/step - loss: 10907.9844\n",
      "Epoch 3/10\n",
      "1/1 [==============================] - 1s 540ms/step - loss: 10949.4746\n",
      "Epoch 4/10\n",
      "1/1 [==============================] - 1s 528ms/step - loss: 10762.8887\n",
      "Epoch 5/10\n",
      "1/1 [==============================] - 1s 527ms/step - loss: 11356.3135\n",
      "Epoch 6/10\n",
      "1/1 [==============================] - 1s 542ms/step - loss: 10578.3711\n",
      "Epoch 7/10\n",
      "1/1 [==============================] - 1s 552ms/step - loss: 10112.7832\n",
      "Epoch 8/10\n",
      "1/1 [==============================] - 1s 571ms/step - loss: 10505.5693\n",
      "Epoch 9/10\n",
      "1/1 [==============================] - 1s 652ms/step - loss: 12276.0381\n",
      "Epoch 10/10\n",
      "1/1 [==============================] - 1s 637ms/step - loss: 10014.8594\n",
      "Encoding in Progress Time step 44 \n",
      "Epoch 1/10\n",
      "1/1 [==============================] - 1s 578ms/step - loss: 34331.7188\n",
      "Epoch 2/10\n",
      "1/1 [==============================] - 1s 625ms/step - loss: 20615.3691\n",
      "Epoch 3/10\n",
      "1/1 [==============================] - 1s 623ms/step - loss: 27651.5469\n",
      "Epoch 4/10\n",
      "1/1 [==============================] - 1s 580ms/step - loss: 28765.9355\n",
      "Epoch 5/10\n",
      "1/1 [==============================] - 1s 554ms/step - loss: 26636.5938\n",
      "Epoch 6/10\n",
      "1/1 [==============================] - 1s 542ms/step - loss: 22818.7266\n",
      "Epoch 7/10\n",
      "1/1 [==============================] - 1s 545ms/step - loss: 20162.3242\n",
      "Epoch 8/10\n",
      "1/1 [==============================] - 1s 533ms/step - loss: 23351.7480\n",
      "Epoch 9/10\n",
      "1/1 [==============================] - 1s 517ms/step - loss: 19940.1328\n",
      "Epoch 10/10\n",
      "1/1 [==============================] - 1s 541ms/step - loss: 17971.4023\n",
      "Encoding in Progress Time step 45 \n",
      "Epoch 1/10\n",
      "1/1 [==============================] - 0s 498ms/step - loss: 13445.3096\n",
      "Epoch 2/10\n",
      "1/1 [==============================] - 1s 509ms/step - loss: 14111.8662\n",
      "Epoch 3/10\n",
      "1/1 [==============================] - 1s 501ms/step - loss: 14304.1846\n",
      "Epoch 4/10\n",
      "1/1 [==============================] - 1s 532ms/step - loss: 14181.9844\n",
      "Epoch 5/10\n",
      "1/1 [==============================] - 1s 524ms/step - loss: 13648.9844\n",
      "Epoch 6/10\n",
      "1/1 [==============================] - 1s 518ms/step - loss: 13030.7861\n",
      "Epoch 7/10\n",
      "1/1 [==============================] - 1s 543ms/step - loss: 12630.2705\n",
      "Epoch 8/10\n",
      "1/1 [==============================] - 1s 576ms/step - loss: 12504.5088\n",
      "Epoch 9/10\n",
      "1/1 [==============================] - 1s 585ms/step - loss: 12503.8574\n",
      "Epoch 10/10\n",
      "1/1 [==============================] - 1s 530ms/step - loss: 12542.2197\n",
      "Encoding in Progress Time step 46 \n",
      "Epoch 1/10\n",
      "1/1 [==============================] - 1s 506ms/step - loss: 8624.0029\n",
      "Epoch 2/10\n",
      "1/1 [==============================] - 0s 497ms/step - loss: 8559.1172\n",
      "Epoch 3/10\n",
      "1/1 [==============================] - 1s 502ms/step - loss: 8489.1914\n",
      "Epoch 4/10\n",
      "1/1 [==============================] - 0s 499ms/step - loss: 8471.9971\n",
      "Epoch 5/10\n",
      "1/1 [==============================] - 0s 499ms/step - loss: 8464.2412\n",
      "Epoch 6/10\n",
      "1/1 [==============================] - 1s 516ms/step - loss: 8417.3887\n",
      "Epoch 7/10\n",
      "1/1 [==============================] - 1s 503ms/step - loss: 8287.0400\n",
      "Epoch 8/10\n",
      "1/1 [==============================] - 1s 512ms/step - loss: 8084.9580\n",
      "Epoch 9/10\n",
      "1/1 [==============================] - 1s 509ms/step - loss: 7952.7559\n",
      "Epoch 10/10\n",
      "1/1 [==============================] - 1s 545ms/step - loss: 8002.3423\n",
      "Encoding in Progress Time step 47 \n",
      "Epoch 1/10\n",
      "1/1 [==============================] - 1s 581ms/step - loss: 10272.7588\n",
      "Epoch 2/10\n",
      "1/1 [==============================] - 1s 593ms/step - loss: 10259.3818\n",
      "Epoch 3/10\n",
      "1/1 [==============================] - 1s 589ms/step - loss: 10199.6670\n",
      "Epoch 4/10\n",
      "1/1 [==============================] - 1s 566ms/step - loss: 10150.3613\n",
      "Epoch 5/10\n"
     ]
    },
    {
     "name": "stdout",
     "output_type": "stream",
     "text": [
      "1/1 [==============================] - 1s 571ms/step - loss: 10142.0625\n",
      "Epoch 6/10\n",
      "1/1 [==============================] - 1s 593ms/step - loss: 10111.7949\n",
      "Epoch 7/10\n",
      "1/1 [==============================] - 1s 555ms/step - loss: 10028.6318\n",
      "Epoch 8/10\n",
      "1/1 [==============================] - 1s 547ms/step - loss: 9985.6182\n",
      "Epoch 9/10\n",
      "1/1 [==============================] - 1s 552ms/step - loss: 9911.5449\n",
      "Epoch 10/10\n",
      "1/1 [==============================] - 1s 533ms/step - loss: 9861.3047\n",
      "Encoding in Progress Time step 48 \n",
      "Epoch 1/10\n",
      "1/1 [==============================] - 1s 609ms/step - loss: 14273.7217\n",
      "Epoch 2/10\n",
      "1/1 [==============================] - 1s 554ms/step - loss: 12212.4297\n",
      "Epoch 3/10\n",
      "1/1 [==============================] - 1s 526ms/step - loss: 13970.8828\n",
      "Epoch 4/10\n",
      "1/1 [==============================] - 1s 566ms/step - loss: 12244.0176\n",
      "Epoch 5/10\n",
      "1/1 [==============================] - 1s 508ms/step - loss: 12448.8301\n",
      "Epoch 6/10\n",
      "1/1 [==============================] - 1s 533ms/step - loss: 12839.9531\n",
      "Epoch 7/10\n",
      "1/1 [==============================] - 1s 501ms/step - loss: 12119.4092\n",
      "Epoch 8/10\n",
      "1/1 [==============================] - 1s 529ms/step - loss: 13034.0576\n",
      "Epoch 9/10\n",
      "1/1 [==============================] - 1s 504ms/step - loss: 11956.5166\n",
      "Epoch 10/10\n",
      "1/1 [==============================] - 1s 519ms/step - loss: 12079.6504\n",
      "Encoding in Progress Time step 49 \n",
      "Epoch 1/10\n",
      "1/1 [==============================] - 0s 494ms/step - loss: 17456.2949\n",
      "Epoch 2/10\n",
      "1/1 [==============================] - 1s 535ms/step - loss: 14556.1836\n",
      "Epoch 3/10\n",
      "1/1 [==============================] - 1s 511ms/step - loss: 13955.7549\n",
      "Epoch 4/10\n",
      "1/1 [==============================] - 1s 518ms/step - loss: 14076.7217\n",
      "Epoch 5/10\n",
      "1/1 [==============================] - 1s 517ms/step - loss: 13953.4219\n",
      "Epoch 6/10\n",
      "1/1 [==============================] - 1s 523ms/step - loss: 13614.0557\n",
      "Epoch 7/10\n",
      "1/1 [==============================] - 0s 491ms/step - loss: 13890.0742\n",
      "Epoch 8/10\n",
      "1/1 [==============================] - 1s 541ms/step - loss: 13128.3877\n",
      "Epoch 9/10\n",
      "1/1 [==============================] - 1s 515ms/step - loss: 14175.4570\n",
      "Epoch 10/10\n",
      "1/1 [==============================] - 1s 533ms/step - loss: 13943.5000\n",
      "Encoding in Progress Time step 50 \n",
      "Epoch 1/10\n",
      "1/1 [==============================] - 0s 496ms/step - loss: 19125.6230\n",
      "Epoch 2/10\n",
      "1/1 [==============================] - 1s 543ms/step - loss: 18131.9297\n",
      "Epoch 3/10\n",
      "1/1 [==============================] - 0s 495ms/step - loss: 16030.4170\n",
      "Epoch 4/10\n",
      "1/1 [==============================] - 1s 526ms/step - loss: 15455.6836\n",
      "Epoch 5/10\n",
      "1/1 [==============================] - 1s 541ms/step - loss: 16151.3037\n",
      "Epoch 6/10\n",
      "1/1 [==============================] - 1s 539ms/step - loss: 15201.9502\n",
      "Epoch 7/10\n",
      "1/1 [==============================] - 1s 555ms/step - loss: 15388.5029\n",
      "Epoch 8/10\n",
      "1/1 [==============================] - 1s 553ms/step - loss: 15596.4795\n",
      "Epoch 9/10\n",
      "1/1 [==============================] - 1s 502ms/step - loss: 14993.9746\n",
      "Epoch 10/10\n",
      "1/1 [==============================] - 1s 529ms/step - loss: 14985.7598\n",
      "Encoding in Progress Time step 51 \n",
      "Epoch 1/10\n",
      "1/1 [==============================] - 0s 480ms/step - loss: 22162.4863\n",
      "Epoch 2/10\n",
      "1/1 [==============================] - 1s 532ms/step - loss: 19553.9258\n",
      "Epoch 3/10\n",
      "1/1 [==============================] - 1s 544ms/step - loss: 20617.8555\n",
      "Epoch 4/10\n",
      "1/1 [==============================] - 1s 502ms/step - loss: 18759.2090\n",
      "Epoch 5/10\n",
      "1/1 [==============================] - 1s 538ms/step - loss: 18996.0234\n",
      "Epoch 6/10\n",
      "1/1 [==============================] - 1s 509ms/step - loss: 18365.6094\n",
      "Epoch 7/10\n",
      "1/1 [==============================] - 1s 536ms/step - loss: 18218.4219\n",
      "Epoch 8/10\n",
      "1/1 [==============================] - 1s 510ms/step - loss: 18247.8223\n",
      "Epoch 9/10\n",
      "1/1 [==============================] - 1s 518ms/step - loss: 17975.1348\n",
      "Epoch 10/10\n",
      "1/1 [==============================] - 1s 507ms/step - loss: 18018.2188\n",
      "Encoding in Progress Time step 52 \n",
      "Epoch 1/10\n",
      "1/1 [==============================] - 1s 507ms/step - loss: 13909.9248\n",
      "Epoch 2/10\n",
      "1/1 [==============================] - 1s 520ms/step - loss: 12334.6807\n",
      "Epoch 3/10\n",
      "1/1 [==============================] - 1s 524ms/step - loss: 12508.9414\n",
      "Epoch 4/10\n",
      "1/1 [==============================] - 1s 507ms/step - loss: 13027.0195\n",
      "Epoch 5/10\n",
      "1/1 [==============================] - 1s 533ms/step - loss: 12972.9951\n",
      "Epoch 6/10\n",
      "1/1 [==============================] - 1s 501ms/step - loss: 12397.1299\n",
      "Epoch 7/10\n",
      "1/1 [==============================] - 1s 521ms/step - loss: 11906.9961\n",
      "Epoch 8/10\n",
      "1/1 [==============================] - 1s 513ms/step - loss: 12347.8096\n",
      "Epoch 9/10\n",
      "1/1 [==============================] - 1s 526ms/step - loss: 12088.5830\n",
      "Epoch 10/10\n",
      "1/1 [==============================] - 1s 511ms/step - loss: 11795.2129\n",
      "Encoding in Progress Time step 53 \n",
      "Epoch 1/10\n",
      "1/1 [==============================] - 0s 496ms/step - loss: 11379.2256\n",
      "Epoch 2/10\n",
      "1/1 [==============================] - 1s 518ms/step - loss: 10860.9541\n",
      "Epoch 3/10\n",
      "1/1 [==============================] - 1s 511ms/step - loss: 10739.0137\n",
      "Epoch 4/10\n",
      "1/1 [==============================] - 1s 511ms/step - loss: 10718.6553\n",
      "Epoch 5/10\n",
      "1/1 [==============================] - 1s 517ms/step - loss: 10667.8281\n",
      "Epoch 6/10\n",
      "1/1 [==============================] - 0s 496ms/step - loss: 10563.0576\n",
      "Epoch 7/10\n",
      "1/1 [==============================] - 1s 501ms/step - loss: 10466.2705\n",
      "Epoch 8/10\n",
      "1/1 [==============================] - 1s 510ms/step - loss: 10466.5615\n",
      "Epoch 9/10\n",
      "1/1 [==============================] - 1s 541ms/step - loss: 10529.6943\n",
      "Epoch 10/10\n",
      "1/1 [==============================] - 0s 498ms/step - loss: 10525.2236\n",
      "Encoding in Progress Time step 54 \n",
      "Epoch 1/10\n",
      "1/1 [==============================] - 0s 493ms/step - loss: 19311.8672\n",
      "Epoch 2/10\n",
      "1/1 [==============================] - 1s 520ms/step - loss: 18192.3184\n",
      "Epoch 3/10\n",
      "1/1 [==============================] - 1s 508ms/step - loss: 18761.6426\n",
      "Epoch 4/10\n",
      "1/1 [==============================] - 1s 505ms/step - loss: 18029.3379\n",
      "Epoch 5/10\n",
      "1/1 [==============================] - 1s 539ms/step - loss: 17879.7012\n",
      "Epoch 6/10\n",
      "1/1 [==============================] - 1s 508ms/step - loss: 18081.4160\n",
      "Epoch 7/10\n",
      "1/1 [==============================] - 1s 525ms/step - loss: 17602.0820\n",
      "Epoch 8/10\n",
      "1/1 [==============================] - 1s 507ms/step - loss: 17317.2637\n",
      "Epoch 9/10\n",
      "1/1 [==============================] - 1s 534ms/step - loss: 17646.4727\n",
      "Epoch 10/10\n",
      "1/1 [==============================] - 1s 518ms/step - loss: 17161.7695\n",
      "Encoding in Progress Time step 55 \n",
      "Epoch 1/10\n",
      "1/1 [==============================] - 0s 488ms/step - loss: 9122.2217\n",
      "Epoch 2/10\n",
      "1/1 [==============================] - 1s 510ms/step - loss: 8579.2734\n",
      "Epoch 3/10\n",
      "1/1 [==============================] - 1s 523ms/step - loss: 8973.6426\n",
      "Epoch 4/10\n",
      "1/1 [==============================] - 1s 501ms/step - loss: 9170.3281\n",
      "Epoch 5/10\n",
      "1/1 [==============================] - 1s 522ms/step - loss: 9045.6592\n",
      "Epoch 6/10\n",
      "1/1 [==============================] - 1s 512ms/step - loss: 8697.0068\n",
      "Epoch 7/10\n",
      "1/1 [==============================] - 1s 504ms/step - loss: 8454.2568\n",
      "Epoch 8/10\n",
      "1/1 [==============================] - 1s 511ms/step - loss: 8579.4785\n",
      "Epoch 9/10\n",
      "1/1 [==============================] - 1s 513ms/step - loss: 8777.9473\n",
      "Epoch 10/10\n",
      "1/1 [==============================] - 1s 514ms/step - loss: 8667.3945\n",
      "Encoding in Progress Time step 56 \n",
      "Epoch 1/10\n",
      "1/1 [==============================] - 0s 495ms/step - loss: 16704.2070\n",
      "Epoch 2/10\n",
      "1/1 [==============================] - 1s 507ms/step - loss: 15947.1943\n",
      "Epoch 3/10\n",
      "1/1 [==============================] - 1s 517ms/step - loss: 15914.5947\n",
      "Epoch 4/10\n",
      "1/1 [==============================] - 1s 515ms/step - loss: 16084.8135\n",
      "Epoch 5/10\n",
      "1/1 [==============================] - 1s 510ms/step - loss: 15929.0674\n",
      "Epoch 6/10\n",
      "1/1 [==============================] - 1s 517ms/step - loss: 15323.1250\n",
      "Epoch 7/10\n",
      "1/1 [==============================] - 1s 510ms/step - loss: 14595.7129\n",
      "Epoch 8/10\n",
      "1/1 [==============================] - 1s 528ms/step - loss: 14461.3047\n",
      "Epoch 9/10\n",
      "1/1 [==============================] - 1s 510ms/step - loss: 14867.0293\n",
      "Epoch 10/10\n"
     ]
    },
    {
     "name": "stdout",
     "output_type": "stream",
     "text": [
      "1/1 [==============================] - 1s 515ms/step - loss: 13733.8750\n",
      "Encoding in Progress Time step 57 \n",
      "Epoch 1/10\n",
      "1/1 [==============================] - 1s 516ms/step - loss: 12932.1250\n",
      "Epoch 2/10\n",
      "1/1 [==============================] - 0s 494ms/step - loss: 13219.1992\n",
      "Epoch 3/10\n",
      "1/1 [==============================] - 1s 517ms/step - loss: 13221.5293\n",
      "Epoch 4/10\n",
      "1/1 [==============================] - 1s 502ms/step - loss: 12943.4209\n",
      "Epoch 5/10\n",
      "1/1 [==============================] - 1s 528ms/step - loss: 12515.5635\n",
      "Epoch 6/10\n",
      "1/1 [==============================] - 1s 501ms/step - loss: 12130.2324\n",
      "Epoch 7/10\n",
      "1/1 [==============================] - 1s 519ms/step - loss: 11953.0430\n",
      "Epoch 8/10\n",
      "1/1 [==============================] - 1s 519ms/step - loss: 11922.0752\n",
      "Epoch 9/10\n",
      "1/1 [==============================] - 1s 504ms/step - loss: 11797.1836\n",
      "Epoch 10/10\n",
      "1/1 [==============================] - 1s 530ms/step - loss: 11526.8945\n",
      "Encoding in Progress Time step 58 \n",
      "Epoch 1/10\n",
      "1/1 [==============================] - 0s 491ms/step - loss: 17730.5312\n",
      "Epoch 2/10\n",
      "1/1 [==============================] - 1s 519ms/step - loss: 17460.3906\n",
      "Epoch 3/10\n",
      "1/1 [==============================] - 1s 502ms/step - loss: 16946.2969\n",
      "Epoch 4/10\n",
      "1/1 [==============================] - 1s 528ms/step - loss: 16620.6113\n",
      "Epoch 5/10\n",
      "1/1 [==============================] - 1s 503ms/step - loss: 16783.0039\n",
      "Epoch 6/10\n",
      "1/1 [==============================] - 1s 527ms/step - loss: 16724.4082\n",
      "Epoch 7/10\n",
      "1/1 [==============================] - 1s 503ms/step - loss: 16295.4990\n",
      "Epoch 8/10\n",
      "1/1 [==============================] - 1s 537ms/step - loss: 16264.2002\n",
      "Epoch 9/10\n",
      "1/1 [==============================] - 1s 500ms/step - loss: 16416.3477\n",
      "Epoch 10/10\n",
      "1/1 [==============================] - 1s 502ms/step - loss: 16308.4902\n",
      "Encoding in Progress Time step 59 \n",
      "Epoch 1/10\n",
      "1/1 [==============================] - 1s 509ms/step - loss: 15346.3701\n",
      "Epoch 2/10\n",
      "1/1 [==============================] - 1s 509ms/step - loss: 15257.8447\n",
      "Epoch 3/10\n",
      "1/1 [==============================] - 1s 528ms/step - loss: 15000.2783\n",
      "Epoch 4/10\n",
      "1/1 [==============================] - 1s 503ms/step - loss: 15021.6074\n",
      "Epoch 5/10\n",
      "1/1 [==============================] - 1s 504ms/step - loss: 15114.0039\n",
      "Epoch 6/10\n",
      "1/1 [==============================] - 1s 530ms/step - loss: 15017.4766\n",
      "Epoch 7/10\n",
      "1/1 [==============================] - 1s 509ms/step - loss: 14839.5234\n",
      "Epoch 8/10\n",
      "1/1 [==============================] - 1s 506ms/step - loss: 14813.9160\n",
      "Epoch 9/10\n",
      "1/1 [==============================] - 1s 514ms/step - loss: 14848.6758\n",
      "Epoch 10/10\n",
      "1/1 [==============================] - 1s 518ms/step - loss: 14738.5654\n",
      "Encoding in Progress Time step 60 \n",
      "Epoch 1/10\n",
      "1/1 [==============================] - 0s 498ms/step - loss: 6760.9922\n",
      "Epoch 2/10\n",
      "1/1 [==============================] - 1s 533ms/step - loss: 6231.5317\n",
      "Epoch 3/10\n",
      "1/1 [==============================] - 1s 510ms/step - loss: 5905.9854\n",
      "Epoch 4/10\n",
      "1/1 [==============================] - 1s 542ms/step - loss: 5770.1416\n",
      "Epoch 5/10\n",
      "1/1 [==============================] - 1s 512ms/step - loss: 5669.0034\n",
      "Epoch 6/10\n",
      "1/1 [==============================] - 1s 508ms/step - loss: 5584.7461\n",
      "Epoch 7/10\n",
      "1/1 [==============================] - 1s 539ms/step - loss: 5601.1606\n",
      "Epoch 8/10\n",
      "1/1 [==============================] - 1s 510ms/step - loss: 5557.1318\n",
      "Epoch 9/10\n",
      "1/1 [==============================] - 0s 498ms/step - loss: 5418.9980\n",
      "Epoch 10/10\n",
      "1/1 [==============================] - 1s 517ms/step - loss: 5389.4204\n",
      "Encoding in Progress Time step 61 \n",
      "Epoch 1/10\n",
      "1/1 [==============================] - 0s 499ms/step - loss: 14003.7764\n",
      "Epoch 2/10\n",
      "1/1 [==============================] - 1s 525ms/step - loss: 13794.8623\n",
      "Epoch 3/10\n",
      "1/1 [==============================] - 1s 506ms/step - loss: 13698.9287\n",
      "Epoch 4/10\n",
      "1/1 [==============================] - 1s 519ms/step - loss: 13506.0127\n",
      "Epoch 5/10\n",
      "1/1 [==============================] - 1s 525ms/step - loss: 13430.0098\n",
      "Epoch 6/10\n",
      "1/1 [==============================] - 1s 503ms/step - loss: 13426.9805\n",
      "Epoch 7/10\n",
      "1/1 [==============================] - 1s 531ms/step - loss: 13351.3711\n",
      "Epoch 8/10\n",
      "1/1 [==============================] - 1s 508ms/step - loss: 13301.7803\n",
      "Epoch 9/10\n",
      "1/1 [==============================] - 1s 534ms/step - loss: 13269.7168\n",
      "Epoch 10/10\n",
      "1/1 [==============================] - 1s 561ms/step - loss: 13205.3389\n",
      "Encoding in Progress Time step 62 \n",
      "Epoch 1/10\n",
      "1/1 [==============================] - 0s 481ms/step - loss: 12325.2500\n",
      "Epoch 2/10\n",
      "1/1 [==============================] - 1s 530ms/step - loss: 11893.4092\n",
      "Epoch 3/10\n",
      "1/1 [==============================] - 1s 512ms/step - loss: 11916.4668\n",
      "Epoch 4/10\n",
      "1/1 [==============================] - 1s 517ms/step - loss: 11607.4414\n",
      "Epoch 5/10\n",
      "1/1 [==============================] - 1s 533ms/step - loss: 11764.5078\n",
      "Epoch 6/10\n",
      "1/1 [==============================] - 1s 518ms/step - loss: 11553.3965\n",
      "Epoch 7/10\n",
      "1/1 [==============================] - 1s 502ms/step - loss: 11481.0742\n",
      "Epoch 8/10\n",
      "1/1 [==============================] - 1s 527ms/step - loss: 11591.5049\n",
      "Epoch 9/10\n",
      "1/1 [==============================] - 1s 515ms/step - loss: 11401.8301\n",
      "Epoch 10/10\n",
      "1/1 [==============================] - 1s 521ms/step - loss: 11440.9053\n",
      "Encoding in Progress Time step 63 \n",
      "Epoch 1/10\n",
      "1/1 [==============================] - 0s 499ms/step - loss: 20193.6055\n",
      "Epoch 2/10\n",
      "1/1 [==============================] - 1s 505ms/step - loss: 17484.4688\n",
      "Epoch 3/10\n",
      "1/1 [==============================] - 1s 558ms/step - loss: 22866.0723\n",
      "Epoch 4/10\n",
      "1/1 [==============================] - 1s 511ms/step - loss: 17458.5586\n",
      "Epoch 5/10\n",
      "1/1 [==============================] - 1s 518ms/step - loss: 19662.0078\n",
      "Epoch 6/10\n",
      "1/1 [==============================] - 1s 535ms/step - loss: 19451.8730\n",
      "Epoch 7/10\n",
      "1/1 [==============================] - 1s 518ms/step - loss: 17505.5684\n",
      "Epoch 8/10\n",
      "1/1 [==============================] - 1s 525ms/step - loss: 16647.9492\n",
      "Epoch 9/10\n",
      "1/1 [==============================] - 1s 523ms/step - loss: 18858.6562\n",
      "Epoch 10/10\n",
      "1/1 [==============================] - 1s 521ms/step - loss: 16788.5059\n",
      "Encoding in Progress Time step 64 \n",
      "Epoch 1/10\n",
      "1/1 [==============================] - 1s 502ms/step - loss: 11510.6846\n",
      "Epoch 2/10\n",
      "1/1 [==============================] - 1s 533ms/step - loss: 8285.9688\n",
      "Epoch 3/10\n",
      "1/1 [==============================] - 1s 511ms/step - loss: 8612.5371\n",
      "Epoch 4/10\n",
      "1/1 [==============================] - 1s 531ms/step - loss: 9226.9287\n",
      "Epoch 5/10\n",
      "1/1 [==============================] - 1s 509ms/step - loss: 9431.3662\n",
      "Epoch 6/10\n",
      "1/1 [==============================] - 1s 531ms/step - loss: 9212.2695\n",
      "Epoch 7/10\n",
      "1/1 [==============================] - 1s 522ms/step - loss: 8684.2627\n",
      "Epoch 8/10\n",
      "1/1 [==============================] - 1s 534ms/step - loss: 7958.3452\n",
      "Epoch 9/10\n",
      "1/1 [==============================] - 1s 511ms/step - loss: 7604.3931\n",
      "Epoch 10/10\n",
      "1/1 [==============================] - 1s 520ms/step - loss: 8235.1826\n",
      "Encoding in Progress Time step 65 \n",
      "Epoch 1/10\n",
      "1/1 [==============================] - 1s 528ms/step - loss: 12086.8262\n",
      "Epoch 2/10\n",
      "1/1 [==============================] - 1s 510ms/step - loss: 11311.2256\n",
      "Epoch 3/10\n",
      "1/1 [==============================] - 1s 535ms/step - loss: 11516.0928\n",
      "Epoch 4/10\n",
      "1/1 [==============================] - 1s 512ms/step - loss: 11817.5762\n",
      "Epoch 5/10\n",
      "1/1 [==============================] - 1s 530ms/step - loss: 11752.2930\n",
      "Epoch 6/10\n",
      "1/1 [==============================] - 1s 507ms/step - loss: 11439.7402\n",
      "Epoch 7/10\n",
      "1/1 [==============================] - 1s 516ms/step - loss: 11191.8174\n",
      "Epoch 8/10\n",
      "1/1 [==============================] - 1s 544ms/step - loss: 11198.3750\n",
      "Epoch 9/10\n",
      "1/1 [==============================] - 0s 497ms/step - loss: 11359.2832\n",
      "Epoch 10/10\n",
      "1/1 [==============================] - 1s 528ms/step - loss: 11374.7734\n",
      "Encoding in Progress Time step 66 \n",
      "Epoch 1/10\n",
      "1/1 [==============================] - 0s 499ms/step - loss: 16058.2705\n",
      "Epoch 2/10\n",
      "1/1 [==============================] - 1s 514ms/step - loss: 15061.3906\n",
      "Epoch 3/10\n",
      "1/1 [==============================] - 1s 541ms/step - loss: 13581.9912\n",
      "Epoch 4/10\n"
     ]
    },
    {
     "name": "stdout",
     "output_type": "stream",
     "text": [
      "1/1 [==============================] - 1s 513ms/step - loss: 15348.8369\n",
      "Epoch 5/10\n",
      "1/1 [==============================] - 1s 534ms/step - loss: 13631.2090\n",
      "Epoch 6/10\n",
      "1/1 [==============================] - 1s 520ms/step - loss: 13415.3174\n",
      "Epoch 7/10\n",
      "1/1 [==============================] - 1s 526ms/step - loss: 13592.8750\n",
      "Epoch 8/10\n",
      "1/1 [==============================] - 1s 530ms/step - loss: 13541.6328\n",
      "Epoch 9/10\n",
      "1/1 [==============================] - 1s 527ms/step - loss: 13304.1699\n",
      "Epoch 10/10\n",
      "1/1 [==============================] - 1s 525ms/step - loss: 13153.3301\n",
      "Encoding in Progress Time step 67 \n",
      "Epoch 1/10\n",
      "1/1 [==============================] - 1s 507ms/step - loss: 12092.9385\n",
      "Epoch 2/10\n",
      "1/1 [==============================] - 1s 543ms/step - loss: 9850.4600\n",
      "Epoch 3/10\n",
      "1/1 [==============================] - 1s 501ms/step - loss: 8608.8027\n",
      "Epoch 4/10\n",
      "1/1 [==============================] - 1s 535ms/step - loss: 9074.5068\n",
      "Epoch 5/10\n",
      "1/1 [==============================] - 1s 514ms/step - loss: 9851.1611\n",
      "Epoch 6/10\n",
      "1/1 [==============================] - 1s 517ms/step - loss: 10184.4619\n",
      "Epoch 7/10\n",
      "1/1 [==============================] - 1s 512ms/step - loss: 9973.4297\n",
      "Epoch 8/10\n",
      "1/1 [==============================] - 1s 533ms/step - loss: 9365.8105\n",
      "Epoch 9/10\n",
      "1/1 [==============================] - 1s 506ms/step - loss: 8694.8604\n",
      "Epoch 10/10\n",
      "1/1 [==============================] - 1s 530ms/step - loss: 8436.2207\n",
      "Encoding in Progress Time step 68 \n",
      "Epoch 1/10\n",
      "1/1 [==============================] - 1s 503ms/step - loss: 11367.2617\n",
      "Epoch 2/10\n",
      "1/1 [==============================] - 1s 526ms/step - loss: 11429.3037\n",
      "Epoch 3/10\n",
      "1/1 [==============================] - 1s 524ms/step - loss: 10269.2920\n",
      "Epoch 4/10\n",
      "1/1 [==============================] - 1s 506ms/step - loss: 9248.0449\n",
      "Epoch 5/10\n",
      "1/1 [==============================] - 1s 527ms/step - loss: 8947.9922\n",
      "Epoch 6/10\n",
      "1/1 [==============================] - 1s 505ms/step - loss: 9090.6221\n",
      "Epoch 7/10\n",
      "1/1 [==============================] - 1s 509ms/step - loss: 9157.9717\n",
      "Epoch 8/10\n",
      "1/1 [==============================] - 1s 539ms/step - loss: 9529.1592\n",
      "Epoch 9/10\n",
      "1/1 [==============================] - 1s 506ms/step - loss: 9409.4639\n",
      "Epoch 10/10\n",
      "1/1 [==============================] - 1s 521ms/step - loss: 9532.8623\n",
      "Encoding in Progress Time step 69 \n",
      "Epoch 1/10\n",
      "1/1 [==============================] - 1s 501ms/step - loss: 16890.1855\n",
      "Epoch 2/10\n",
      "1/1 [==============================] - 1s 549ms/step - loss: 14202.6660\n",
      "Epoch 3/10\n",
      "1/1 [==============================] - 1s 526ms/step - loss: 13369.5664\n",
      "Epoch 4/10\n",
      "1/1 [==============================] - 1s 522ms/step - loss: 15151.8799\n",
      "Epoch 5/10\n",
      "1/1 [==============================] - 1s 512ms/step - loss: 13015.3877\n",
      "Epoch 6/10\n",
      "1/1 [==============================] - 1s 539ms/step - loss: 12596.5332\n",
      "Epoch 7/10\n",
      "1/1 [==============================] - 1s 518ms/step - loss: 13296.7295\n",
      "Epoch 8/10\n",
      "1/1 [==============================] - 1s 515ms/step - loss: 13528.9766\n",
      "Epoch 9/10\n",
      "1/1 [==============================] - 1s 515ms/step - loss: 13032.5703\n",
      "Epoch 10/10\n",
      "1/1 [==============================] - 1s 518ms/step - loss: 12412.2051\n",
      "Encoding in Progress Time step 70 \n",
      "Epoch 1/10\n",
      "1/1 [==============================] - 1s 513ms/step - loss: 15853.1963\n",
      "Epoch 2/10\n",
      "1/1 [==============================] - 1s 528ms/step - loss: 15659.4531\n",
      "Epoch 3/10\n",
      "1/1 [==============================] - 1s 512ms/step - loss: 16157.3701\n",
      "Epoch 4/10\n",
      "1/1 [==============================] - 1s 532ms/step - loss: 15147.3613\n",
      "Epoch 5/10\n",
      "1/1 [==============================] - 1s 517ms/step - loss: 14573.6250\n",
      "Epoch 6/10\n",
      "1/1 [==============================] - 1s 541ms/step - loss: 14797.4922\n",
      "Epoch 7/10\n",
      "1/1 [==============================] - 1s 510ms/step - loss: 14764.9795\n",
      "Epoch 8/10\n",
      "1/1 [==============================] - 1s 535ms/step - loss: 14272.3223\n",
      "Epoch 9/10\n",
      "1/1 [==============================] - 1s 516ms/step - loss: 13982.3867\n",
      "Epoch 10/10\n",
      "1/1 [==============================] - 1s 516ms/step - loss: 14210.6484\n",
      "Encoding in Progress Time step 71 \n",
      "Epoch 1/10\n",
      "1/1 [==============================] - 1s 515ms/step - loss: 23160.0840\n",
      "Epoch 2/10\n",
      "1/1 [==============================] - 1s 528ms/step - loss: 12566.3340\n",
      "Epoch 3/10\n",
      "1/1 [==============================] - 1s 548ms/step - loss: 12608.3545\n",
      "Epoch 4/10\n",
      "1/1 [==============================] - 1s 514ms/step - loss: 14962.9346\n",
      "Epoch 5/10\n",
      "1/1 [==============================] - 1s 540ms/step - loss: 16751.1660\n",
      "Epoch 6/10\n",
      "1/1 [==============================] - 1s 521ms/step - loss: 17763.4648\n",
      "Epoch 7/10\n",
      "1/1 [==============================] - 1s 529ms/step - loss: 18199.4414\n",
      "Epoch 8/10\n",
      "1/1 [==============================] - 1s 517ms/step - loss: 18263.7090\n",
      "Epoch 9/10\n",
      "1/1 [==============================] - 1s 530ms/step - loss: 18066.9336\n",
      "Epoch 10/10\n",
      "1/1 [==============================] - 1s 518ms/step - loss: 17574.8887\n",
      "Encoding in Progress Time step 72 \n",
      "Epoch 1/10\n",
      "1/1 [==============================] - 0s 495ms/step - loss: 22694.3418\n",
      "Epoch 2/10\n",
      "1/1 [==============================] - 1s 557ms/step - loss: 20277.1191\n",
      "Epoch 3/10\n",
      "1/1 [==============================] - 1s 509ms/step - loss: 16929.6289\n",
      "Epoch 4/10\n",
      "1/1 [==============================] - 1s 547ms/step - loss: 13776.1084\n",
      "Epoch 5/10\n",
      "1/1 [==============================] - 1s 516ms/step - loss: 14475.5869\n",
      "Epoch 6/10\n",
      "1/1 [==============================] - 1s 536ms/step - loss: 18724.2109\n",
      "Epoch 7/10\n",
      "1/1 [==============================] - 1s 511ms/step - loss: 15876.4971\n",
      "Epoch 8/10\n",
      "1/1 [==============================] - 1s 547ms/step - loss: 12955.9131\n",
      "Epoch 9/10\n",
      "1/1 [==============================] - 1s 510ms/step - loss: 13625.1631\n",
      "Epoch 10/10\n",
      "1/1 [==============================] - 1s 509ms/step - loss: 14973.0000\n",
      "Encoding in Progress Time step 73 \n",
      "Epoch 1/10\n",
      "1/1 [==============================] - 1s 521ms/step - loss: 14173.9678\n",
      "Epoch 2/10\n",
      "1/1 [==============================] - 1s 521ms/step - loss: 14113.9414\n",
      "Epoch 3/10\n",
      "1/1 [==============================] - 1s 533ms/step - loss: 13688.7988\n",
      "Epoch 4/10\n",
      "1/1 [==============================] - 1s 526ms/step - loss: 13090.6152\n",
      "Epoch 5/10\n",
      "1/1 [==============================] - 1s 550ms/step - loss: 12620.1016\n",
      "Epoch 6/10\n",
      "1/1 [==============================] - 1s 534ms/step - loss: 12564.0117\n",
      "Epoch 7/10\n",
      "1/1 [==============================] - 1s 533ms/step - loss: 12830.2861\n",
      "Epoch 8/10\n",
      "1/1 [==============================] - 1s 513ms/step - loss: 12861.8008\n",
      "Epoch 9/10\n",
      "1/1 [==============================] - 1s 545ms/step - loss: 12458.5166\n",
      "Epoch 10/10\n",
      "1/1 [==============================] - 1s 571ms/step - loss: 12045.3984\n",
      "Encoding in Progress Time step 74 \n",
      "Epoch 1/10\n",
      "1/1 [==============================] - 1s 525ms/step - loss: 11022.1699\n",
      "Epoch 2/10\n",
      "1/1 [==============================] - 1s 556ms/step - loss: 11112.2451\n",
      "Epoch 3/10\n",
      "1/1 [==============================] - 1s 554ms/step - loss: 11235.6045\n",
      "Epoch 4/10\n",
      "1/1 [==============================] - 1s 508ms/step - loss: 11295.3369\n",
      "Epoch 5/10\n",
      "1/1 [==============================] - 1s 508ms/step - loss: 11253.1680\n",
      "Epoch 6/10\n",
      "1/1 [==============================] - 1s 543ms/step - loss: 11128.0693\n",
      "Epoch 7/10\n",
      "1/1 [==============================] - 1s 536ms/step - loss: 10978.8701\n",
      "Epoch 8/10\n",
      "1/1 [==============================] - 1s 517ms/step - loss: 10871.5361\n",
      "Epoch 9/10\n",
      "1/1 [==============================] - 1s 510ms/step - loss: 10836.9131\n",
      "Epoch 10/10\n",
      "1/1 [==============================] - 1s 542ms/step - loss: 10841.1250\n",
      "Encoding in Progress Time step 75 \n",
      "Epoch 1/10\n",
      "1/1 [==============================] - 1s 509ms/step - loss: 17987.0332\n",
      "Epoch 2/10\n",
      "1/1 [==============================] - 1s 517ms/step - loss: 17902.7305\n",
      "Epoch 3/10\n",
      "1/1 [==============================] - 1s 542ms/step - loss: 17785.8086\n",
      "Epoch 4/10\n",
      "1/1 [==============================] - 1s 514ms/step - loss: 17627.0527\n",
      "Epoch 5/10\n",
      "1/1 [==============================] - 1s 534ms/step - loss: 17458.0391\n",
      "Epoch 6/10\n",
      "1/1 [==============================] - 1s 519ms/step - loss: 17317.4023\n",
      "Epoch 7/10\n",
      "1/1 [==============================] - 1s 533ms/step - loss: 17195.8105\n",
      "Epoch 8/10\n",
      "1/1 [==============================] - 1s 516ms/step - loss: 17071.5508\n",
      "Epoch 9/10\n"
     ]
    },
    {
     "name": "stdout",
     "output_type": "stream",
     "text": [
      "1/1 [==============================] - 1s 541ms/step - loss: 16931.3516\n",
      "Epoch 10/10\n",
      "1/1 [==============================] - 1s 526ms/step - loss: 16790.8828\n",
      "Encoding in Progress Time step 76 \n",
      "Epoch 1/10\n",
      "1/1 [==============================] - 1s 508ms/step - loss: 23047.7246\n",
      "Epoch 2/10\n",
      "1/1 [==============================] - 1s 527ms/step - loss: 21384.1191\n",
      "Epoch 3/10\n",
      "1/1 [==============================] - 1s 537ms/step - loss: 20226.6973\n",
      "Epoch 4/10\n",
      "1/1 [==============================] - 1s 534ms/step - loss: 20197.0996\n",
      "Epoch 5/10\n",
      "1/1 [==============================] - 1s 536ms/step - loss: 19963.6426\n",
      "Epoch 6/10\n",
      "1/1 [==============================] - 1s 561ms/step - loss: 19924.5762\n",
      "Epoch 7/10\n",
      "1/1 [==============================] - 1s 532ms/step - loss: 19999.8008\n",
      "Epoch 8/10\n",
      "1/1 [==============================] - 1s 537ms/step - loss: 19904.7148\n",
      "Epoch 9/10\n",
      "1/1 [==============================] - 1s 516ms/step - loss: 19821.4453\n",
      "Epoch 10/10\n",
      "1/1 [==============================] - 1s 545ms/step - loss: 19847.3320\n",
      "Encoding in Progress Time step 77 \n",
      "Epoch 1/10\n",
      "1/1 [==============================] - 1s 504ms/step - loss: 9896.8369\n",
      "Epoch 2/10\n",
      "1/1 [==============================] - 1s 517ms/step - loss: 9394.8965\n",
      "Epoch 3/10\n",
      "1/1 [==============================] - 1s 523ms/step - loss: 9148.1006\n",
      "Epoch 4/10\n",
      "1/1 [==============================] - 1s 538ms/step - loss: 8792.3906\n",
      "Epoch 5/10\n",
      "1/1 [==============================] - 1s 516ms/step - loss: 9173.7383\n",
      "Epoch 6/10\n",
      "1/1 [==============================] - 1s 537ms/step - loss: 9014.4990\n",
      "Epoch 7/10\n",
      "1/1 [==============================] - 1s 537ms/step - loss: 9202.9336\n",
      "Epoch 8/10\n",
      "1/1 [==============================] - 1s 538ms/step - loss: 8836.9717\n",
      "Epoch 9/10\n",
      "1/1 [==============================] - 1s 546ms/step - loss: 8762.8535\n",
      "Epoch 10/10\n",
      "1/1 [==============================] - 1s 513ms/step - loss: 8998.0420\n",
      "Encoding in Progress Time step 78 \n",
      "Epoch 1/10\n",
      "1/1 [==============================] - 1s 521ms/step - loss: 11800.1514\n",
      "Epoch 2/10\n",
      "1/1 [==============================] - 1s 550ms/step - loss: 11037.5215\n",
      "Epoch 3/10\n",
      "1/1 [==============================] - 1s 540ms/step - loss: 11159.8193\n",
      "Epoch 4/10\n",
      "1/1 [==============================] - 1s 510ms/step - loss: 11216.1631\n",
      "Epoch 5/10\n",
      "1/1 [==============================] - 1s 539ms/step - loss: 11215.3828\n",
      "Epoch 6/10\n",
      "1/1 [==============================] - 1s 550ms/step - loss: 11124.3467\n",
      "Epoch 7/10\n",
      "1/1 [==============================] - 1s 539ms/step - loss: 10973.2881\n",
      "Epoch 8/10\n",
      "1/1 [==============================] - 1s 534ms/step - loss: 10958.4463\n",
      "Epoch 9/10\n",
      "1/1 [==============================] - 1s 535ms/step - loss: 10895.5449\n",
      "Epoch 10/10\n",
      "1/1 [==============================] - 1s 542ms/step - loss: 10808.8330\n",
      "Encoding in Progress Time step 79 \n",
      "Epoch 1/10\n",
      "1/1 [==============================] - 1s 523ms/step - loss: 13399.1553\n",
      "Epoch 2/10\n",
      "1/1 [==============================] - 1s 518ms/step - loss: 13314.8389\n",
      "Epoch 3/10\n",
      "1/1 [==============================] - 1s 518ms/step - loss: 13212.8320\n",
      "Epoch 4/10\n",
      "1/1 [==============================] - 1s 538ms/step - loss: 13155.0156\n",
      "Epoch 5/10\n",
      "1/1 [==============================] - 1s 542ms/step - loss: 13126.5557\n",
      "Epoch 6/10\n",
      "1/1 [==============================] - 1s 534ms/step - loss: 13071.7578\n",
      "Epoch 7/10\n",
      "1/1 [==============================] - 1s 533ms/step - loss: 13000.2012\n",
      "Epoch 8/10\n",
      "1/1 [==============================] - 1s 535ms/step - loss: 12934.5586\n",
      "Epoch 9/10\n",
      "1/1 [==============================] - 1s 525ms/step - loss: 12868.5430\n",
      "Epoch 10/10\n",
      "1/1 [==============================] - 1s 538ms/step - loss: 12794.2969\n",
      "Encoding in Progress Time step 80 \n",
      "Epoch 1/10\n",
      "1/1 [==============================] - 1s 519ms/step - loss: 15179.4287\n",
      "Epoch 2/10\n",
      "1/1 [==============================] - 1s 520ms/step - loss: 15246.7803\n",
      "Epoch 3/10\n",
      "1/1 [==============================] - 1s 520ms/step - loss: 14990.8447\n",
      "Epoch 4/10\n",
      "1/1 [==============================] - 1s 550ms/step - loss: 14808.0918\n",
      "Epoch 5/10\n",
      "1/1 [==============================] - 1s 521ms/step - loss: 14493.4492\n",
      "Epoch 6/10\n",
      "1/1 [==============================] - 1s 538ms/step - loss: 14861.2881\n",
      "Epoch 7/10\n",
      "1/1 [==============================] - 1s 555ms/step - loss: 14350.7598\n",
      "Epoch 8/10\n",
      "1/1 [==============================] - 1s 533ms/step - loss: 14475.0078\n",
      "Epoch 9/10\n",
      "1/1 [==============================] - 1s 517ms/step - loss: 14327.6289\n",
      "Epoch 10/10\n",
      "1/1 [==============================] - 1s 549ms/step - loss: 14135.2344\n",
      "Encoding in Progress Time step 81 \n",
      "Epoch 1/10\n",
      "1/1 [==============================] - 1s 517ms/step - loss: 13273.7842\n",
      "Epoch 2/10\n",
      "1/1 [==============================] - 1s 560ms/step - loss: 10543.1992\n",
      "Epoch 3/10\n",
      "1/1 [==============================] - 1s 518ms/step - loss: 10122.0957\n",
      "Epoch 4/10\n",
      "1/1 [==============================] - 1s 539ms/step - loss: 10496.0215\n",
      "Epoch 5/10\n",
      "1/1 [==============================] - 1s 516ms/step - loss: 10753.3906\n",
      "Epoch 6/10\n",
      "1/1 [==============================] - 1s 517ms/step - loss: 10684.3838\n",
      "Epoch 7/10\n",
      "1/1 [==============================] - 1s 535ms/step - loss: 10369.0391\n",
      "Epoch 8/10\n",
      "1/1 [==============================] - 1s 540ms/step - loss: 10080.6250\n",
      "Epoch 9/10\n",
      "1/1 [==============================] - 1s 532ms/step - loss: 10093.8408\n",
      "Epoch 10/10\n",
      "1/1 [==============================] - 1s 532ms/step - loss: 10338.7490\n",
      "Encoding in Progress Time step 82 \n",
      "Epoch 1/10\n",
      "1/1 [==============================] - 1s 547ms/step - loss: 9884.7041\n",
      "Epoch 2/10\n",
      "1/1 [==============================] - 1s 517ms/step - loss: 9868.8008\n",
      "Epoch 3/10\n",
      "1/1 [==============================] - 1s 544ms/step - loss: 9858.2988\n",
      "Epoch 4/10\n",
      "1/1 [==============================] - 1s 531ms/step - loss: 9846.2783\n",
      "Epoch 5/10\n",
      "1/1 [==============================] - 1s 557ms/step - loss: 9826.0684\n",
      "Epoch 6/10\n",
      "1/1 [==============================] - 1s 543ms/step - loss: 9801.2676\n",
      "Epoch 7/10\n",
      "1/1 [==============================] - 1s 554ms/step - loss: 9779.4580\n",
      "Epoch 8/10\n",
      "1/1 [==============================] - 1s 524ms/step - loss: 9761.9219\n",
      "Epoch 9/10\n",
      "1/1 [==============================] - 1s 546ms/step - loss: 9743.8242\n",
      "Epoch 10/10\n",
      "1/1 [==============================] - 1s 528ms/step - loss: 9734.5762\n",
      "Encoding in Progress Time step 83 \n",
      "Epoch 1/10\n",
      "1/1 [==============================] - 1s 534ms/step - loss: 20638.8184\n",
      "Epoch 2/10\n",
      "1/1 [==============================] - 1s 537ms/step - loss: 20151.4395\n",
      "Epoch 3/10\n",
      "1/1 [==============================] - 1s 550ms/step - loss: 45198.5820\n",
      "Epoch 4/10\n",
      "1/1 [==============================] - 1s 535ms/step - loss: 24017.2656\n",
      "Epoch 5/10\n",
      "1/1 [==============================] - 1s 539ms/step - loss: 25873.5254\n",
      "Epoch 6/10\n",
      "1/1 [==============================] - 1s 533ms/step - loss: 25858.6328\n",
      "Epoch 7/10\n",
      "1/1 [==============================] - 1s 542ms/step - loss: 24926.0664\n",
      "Epoch 8/10\n",
      "1/1 [==============================] - 1s 528ms/step - loss: 22742.9473\n",
      "Epoch 9/10\n",
      "1/1 [==============================] - 1s 536ms/step - loss: 20358.7734\n",
      "Epoch 10/10\n",
      "1/1 [==============================] - 1s 528ms/step - loss: 19906.6230\n",
      "Encoding in Progress Time step 84 \n",
      "Epoch 1/10\n",
      "1/1 [==============================] - 1s 517ms/step - loss: 17609.7109\n",
      "Epoch 2/10\n",
      "1/1 [==============================] - 1s 541ms/step - loss: 16335.9287\n",
      "Epoch 3/10\n",
      "1/1 [==============================] - 1s 551ms/step - loss: 14866.8027\n",
      "Epoch 4/10\n",
      "1/1 [==============================] - 1s 550ms/step - loss: 14777.8662\n",
      "Epoch 5/10\n",
      "1/1 [==============================] - 1s 552ms/step - loss: 15405.2285\n",
      "Epoch 6/10\n",
      "1/1 [==============================] - 1s 536ms/step - loss: 15582.6172\n",
      "Epoch 7/10\n",
      "1/1 [==============================] - 1s 527ms/step - loss: 15066.1074\n",
      "Epoch 8/10\n",
      "1/1 [==============================] - 1s 546ms/step - loss: 14443.0430\n",
      "Epoch 9/10\n",
      "1/1 [==============================] - 1s 549ms/step - loss: 14540.2598\n",
      "Epoch 10/10\n",
      "1/1 [==============================] - 1s 556ms/step - loss: 15116.1240\n",
      "Encoding in Progress Time step 85 \n",
      "Epoch 1/10\n",
      "1/1 [==============================] - 1s 516ms/step - loss: 11554.1377\n",
      "Epoch 2/10\n",
      "1/1 [==============================] - 1s 523ms/step - loss: 11486.2012\n",
      "Epoch 3/10\n"
     ]
    },
    {
     "name": "stdout",
     "output_type": "stream",
     "text": [
      "1/1 [==============================] - 1s 518ms/step - loss: 11551.5576\n",
      "Epoch 4/10\n",
      "1/1 [==============================] - 1s 526ms/step - loss: 11459.6455\n",
      "Epoch 5/10\n",
      "1/1 [==============================] - 1s 537ms/step - loss: 11420.0176\n",
      "Epoch 6/10\n",
      "1/1 [==============================] - 1s 537ms/step - loss: 11418.2324\n",
      "Epoch 7/10\n",
      "1/1 [==============================] - 1s 537ms/step - loss: 11382.5195\n",
      "Epoch 8/10\n",
      "1/1 [==============================] - 1s 522ms/step - loss: 11318.3135\n",
      "Epoch 9/10\n",
      "1/1 [==============================] - 1s 536ms/step - loss: 11318.1943\n",
      "Epoch 10/10\n",
      "1/1 [==============================] - 1s 527ms/step - loss: 11291.5859\n",
      "Encoding in Progress Time step 86 \n",
      "Epoch 1/10\n",
      "1/1 [==============================] - 1s 517ms/step - loss: 15387.4307\n",
      "Epoch 2/10\n",
      "1/1 [==============================] - 1s 555ms/step - loss: 14299.6992\n",
      "Epoch 3/10\n",
      "1/1 [==============================] - 1s 543ms/step - loss: 14093.3008\n",
      "Epoch 4/10\n",
      "1/1 [==============================] - 1s 557ms/step - loss: 14299.0674\n",
      "Epoch 5/10\n",
      "1/1 [==============================] - 1s 515ms/step - loss: 14651.6826\n",
      "Epoch 6/10\n",
      "1/1 [==============================] - 1s 540ms/step - loss: 14597.3418\n",
      "Epoch 7/10\n",
      "1/1 [==============================] - 1s 558ms/step - loss: 13964.0127\n",
      "Epoch 8/10\n",
      "1/1 [==============================] - 1s 555ms/step - loss: 15993.7139\n",
      "Epoch 9/10\n",
      "1/1 [==============================] - 1s 543ms/step - loss: 13909.9258\n",
      "Epoch 10/10\n",
      "1/1 [==============================] - 1s 520ms/step - loss: 14657.9707\n",
      "Encoding in Progress Time step 87 \n",
      "Epoch 1/10\n",
      "1/1 [==============================] - 1s 508ms/step - loss: 9741.4658\n",
      "Epoch 2/10\n",
      "1/1 [==============================] - 1s 533ms/step - loss: 9235.4092\n",
      "Epoch 3/10\n",
      "1/1 [==============================] - 1s 538ms/step - loss: 8772.4014\n",
      "Epoch 4/10\n",
      "1/1 [==============================] - 1s 520ms/step - loss: 8673.0361\n",
      "Epoch 5/10\n",
      "1/1 [==============================] - 1s 528ms/step - loss: 8817.8174\n",
      "Epoch 6/10\n",
      "1/1 [==============================] - 1s 537ms/step - loss: 8783.4365\n",
      "Epoch 7/10\n",
      "1/1 [==============================] - 1s 533ms/step - loss: 8553.3281\n",
      "Epoch 8/10\n",
      "1/1 [==============================] - 1s 527ms/step - loss: 8442.6553\n",
      "Epoch 9/10\n",
      "1/1 [==============================] - 1s 533ms/step - loss: 8525.0918\n",
      "Epoch 10/10\n",
      "1/1 [==============================] - 1s 535ms/step - loss: 8626.4502\n",
      "Encoding in Progress Time step 88 \n",
      "Epoch 1/10\n",
      "1/1 [==============================] - 1s 509ms/step - loss: 15727.7119\n",
      "Epoch 2/10\n",
      "1/1 [==============================] - 1s 542ms/step - loss: 15141.5664\n",
      "Epoch 3/10\n",
      "1/1 [==============================] - 1s 533ms/step - loss: 14410.4746\n",
      "Epoch 4/10\n",
      "1/1 [==============================] - 1s 531ms/step - loss: 14656.2998\n",
      "Epoch 5/10\n",
      "1/1 [==============================] - 1s 534ms/step - loss: 15036.7988\n",
      "Epoch 6/10\n",
      "1/1 [==============================] - 1s 552ms/step - loss: 14564.5840\n",
      "Epoch 7/10\n",
      "1/1 [==============================] - 1s 517ms/step - loss: 14201.3467\n",
      "Epoch 8/10\n",
      "1/1 [==============================] - 1s 525ms/step - loss: 14236.3252\n",
      "Epoch 9/10\n",
      "1/1 [==============================] - 1s 538ms/step - loss: 14254.3906\n",
      "Epoch 10/10\n",
      "1/1 [==============================] - 1s 547ms/step - loss: 14184.7598\n",
      "Encoding in Progress Time step 89 \n",
      "Epoch 1/10\n",
      "1/1 [==============================] - 1s 505ms/step - loss: 17108.0605\n",
      "Epoch 2/10\n",
      "1/1 [==============================] - 1s 544ms/step - loss: 15349.1123\n",
      "Epoch 3/10\n",
      "1/1 [==============================] - 1s 539ms/step - loss: 14804.4668\n",
      "Epoch 4/10\n",
      "1/1 [==============================] - 1s 525ms/step - loss: 15007.6885\n",
      "Epoch 5/10\n",
      "1/1 [==============================] - 1s 537ms/step - loss: 15165.2510\n",
      "Epoch 6/10\n",
      "1/1 [==============================] - 1s 537ms/step - loss: 15027.3926\n",
      "Epoch 7/10\n",
      "1/1 [==============================] - 1s 524ms/step - loss: 14598.3906\n",
      "Epoch 8/10\n",
      "1/1 [==============================] - 1s 547ms/step - loss: 14140.9844\n",
      "Epoch 9/10\n",
      "1/1 [==============================] - 1s 545ms/step - loss: 13986.7402\n",
      "Epoch 10/10\n",
      "1/1 [==============================] - 1s 540ms/step - loss: 14251.5703\n",
      "Encoding in Progress Time step 90 \n",
      "Epoch 1/10\n",
      "1/1 [==============================] - 1s 512ms/step - loss: 19389.6055\n",
      "Epoch 2/10\n",
      "1/1 [==============================] - 1s 538ms/step - loss: 17960.2441\n",
      "Epoch 3/10\n",
      "1/1 [==============================] - 1s 534ms/step - loss: 17060.2520\n",
      "Epoch 4/10\n",
      "1/1 [==============================] - 1s 519ms/step - loss: 17724.4688\n",
      "Epoch 5/10\n",
      "1/1 [==============================] - 1s 534ms/step - loss: 16596.0781\n",
      "Epoch 6/10\n",
      "1/1 [==============================] - 1s 562ms/step - loss: 15915.3545\n",
      "Epoch 7/10\n",
      "1/1 [==============================] - 1s 528ms/step - loss: 16071.9258\n",
      "Epoch 8/10\n",
      "1/1 [==============================] - 1s 541ms/step - loss: 16174.4414\n",
      "Epoch 9/10\n",
      "1/1 [==============================] - 1s 562ms/step - loss: 15958.4590\n",
      "Epoch 10/10\n",
      "1/1 [==============================] - 1s 520ms/step - loss: 15707.8740\n",
      "Encoding in Progress Time step 91 \n",
      "Epoch 1/10\n",
      "1/1 [==============================] - 1s 545ms/step - loss: 24719.8730\n",
      "Epoch 2/10\n",
      "1/1 [==============================] - 1s 552ms/step - loss: 18388.6895\n",
      "Epoch 3/10\n",
      "1/1 [==============================] - 1s 546ms/step - loss: 14922.1455\n",
      "Epoch 4/10\n",
      "1/1 [==============================] - 1s 521ms/step - loss: 15188.4287\n",
      "Epoch 5/10\n",
      "1/1 [==============================] - 1s 540ms/step - loss: 16282.8877\n",
      "Epoch 6/10\n",
      "1/1 [==============================] - 1s 550ms/step - loss: 17106.9238\n",
      "Epoch 7/10\n",
      "1/1 [==============================] - 1s 531ms/step - loss: 17672.0469\n",
      "Epoch 8/10\n",
      "1/1 [==============================] - 1s 535ms/step - loss: 18043.9688\n",
      "Epoch 9/10\n",
      "1/1 [==============================] - 1s 573ms/step - loss: 18186.4766\n",
      "Epoch 10/10\n",
      "1/1 [==============================] - 1s 536ms/step - loss: 18123.6348\n",
      "Encoding in Progress Time step 92 \n",
      "Epoch 1/10\n",
      "1/1 [==============================] - 1s 524ms/step - loss: 18913.2305\n",
      "Epoch 2/10\n",
      "1/1 [==============================] - 1s 577ms/step - loss: 18020.3535\n",
      "Epoch 3/10\n",
      "1/1 [==============================] - 1s 541ms/step - loss: 16628.4395\n",
      "Epoch 4/10\n",
      "1/1 [==============================] - 1s 563ms/step - loss: 14863.7432\n",
      "Epoch 5/10\n",
      "1/1 [==============================] - 1s 547ms/step - loss: 12953.7881\n",
      "Epoch 6/10\n",
      "1/1 [==============================] - 1s 531ms/step - loss: 11696.0791\n",
      "Epoch 7/10\n",
      "1/1 [==============================] - 1s 563ms/step - loss: 12263.4863\n",
      "Epoch 8/10\n",
      "1/1 [==============================] - 1s 534ms/step - loss: 13175.5381\n",
      "Epoch 9/10\n",
      "1/1 [==============================] - 1s 527ms/step - loss: 11514.2051\n",
      "Epoch 10/10\n",
      "1/1 [==============================] - 1s 551ms/step - loss: 12192.3750\n",
      "Encoding in Progress Time step 93 \n",
      "Epoch 1/10\n",
      "1/1 [==============================] - 1s 542ms/step - loss: 19510.1777\n",
      "Epoch 2/10\n",
      "1/1 [==============================] - 1s 524ms/step - loss: 15391.0127\n",
      "Epoch 3/10\n",
      "1/1 [==============================] - 1s 561ms/step - loss: 17710.5117\n",
      "Epoch 4/10\n",
      "1/1 [==============================] - 1s 540ms/step - loss: 18181.1270\n",
      "Epoch 5/10\n",
      "1/1 [==============================] - 1s 547ms/step - loss: 15342.5000\n",
      "Epoch 6/10\n",
      "1/1 [==============================] - 1s 579ms/step - loss: 15955.9668\n",
      "Epoch 7/10\n",
      "1/1 [==============================] - 1s 544ms/step - loss: 17124.7988\n",
      "Epoch 8/10\n",
      "1/1 [==============================] - 1s 553ms/step - loss: 16549.9395\n",
      "Epoch 9/10\n",
      "1/1 [==============================] - 1s 552ms/step - loss: 15307.7295\n",
      "Epoch 10/10\n",
      "1/1 [==============================] - 1s 570ms/step - loss: 15045.4746\n",
      "Encoding in Progress Time step 94 \n",
      "Epoch 1/10\n",
      "1/1 [==============================] - 1s 537ms/step - loss: 19142.5938\n",
      "Epoch 2/10\n",
      "1/1 [==============================] - 1s 562ms/step - loss: 15522.8008\n",
      "Epoch 3/10\n",
      "1/1 [==============================] - 1s 570ms/step - loss: 13746.9570\n",
      "Epoch 4/10\n",
      "1/1 [==============================] - 1s 548ms/step - loss: 14648.6680\n",
      "Epoch 5/10\n",
      "1/1 [==============================] - 1s 572ms/step - loss: 15825.1162\n",
      "Epoch 6/10\n",
      "1/1 [==============================] - 1s 572ms/step - loss: 16246.5762\n",
      "Epoch 7/10\n",
      "1/1 [==============================] - 1s 556ms/step - loss: 15826.8262\n",
      "Epoch 8/10\n"
     ]
    },
    {
     "name": "stdout",
     "output_type": "stream",
     "text": [
      "1/1 [==============================] - 1s 519ms/step - loss: 14831.2324\n",
      "Epoch 9/10\n",
      "1/1 [==============================] - 1s 557ms/step - loss: 13723.2930\n",
      "Epoch 10/10\n",
      "1/1 [==============================] - 1s 531ms/step - loss: 13119.5762\n",
      "Encoding in Progress Time step 95 \n",
      "Epoch 1/10\n",
      "1/1 [==============================] - 1s 521ms/step - loss: 12929.1992\n",
      "Epoch 2/10\n",
      "1/1 [==============================] - 1s 545ms/step - loss: 12432.9199\n",
      "Epoch 3/10\n",
      "1/1 [==============================] - 1s 536ms/step - loss: 13077.9453\n",
      "Epoch 4/10\n",
      "1/1 [==============================] - 1s 545ms/step - loss: 13332.9844\n",
      "Epoch 5/10\n",
      "1/1 [==============================] - 1s 534ms/step - loss: 12548.5303\n",
      "Epoch 6/10\n",
      "1/1 [==============================] - 1s 532ms/step - loss: 12198.6055\n",
      "Epoch 7/10\n",
      "1/1 [==============================] - 1s 524ms/step - loss: 12559.6016\n",
      "Epoch 8/10\n",
      "1/1 [==============================] - 1s 551ms/step - loss: 12654.7236\n",
      "Epoch 9/10\n",
      "1/1 [==============================] - 1s 519ms/step - loss: 12296.1660\n",
      "Epoch 10/10\n",
      "1/1 [==============================] - 1s 543ms/step - loss: 11938.9619\n",
      "Encoding in Progress Time step 96 \n",
      "Epoch 1/10\n",
      "1/1 [==============================] - 1s 524ms/step - loss: 16437.1719\n",
      "Epoch 2/10\n",
      "1/1 [==============================] - 1s 562ms/step - loss: 15434.9883\n",
      "Epoch 3/10\n",
      "1/1 [==============================] - 1s 529ms/step - loss: 13792.4180\n",
      "Epoch 4/10\n",
      "1/1 [==============================] - 1s 566ms/step - loss: 13120.4463\n",
      "Epoch 5/10\n",
      "1/1 [==============================] - 1s 521ms/step - loss: 13296.5703\n",
      "Epoch 6/10\n",
      "1/1 [==============================] - 1s 544ms/step - loss: 13720.1865\n",
      "Epoch 7/10\n",
      "1/1 [==============================] - 1s 523ms/step - loss: 14020.6240\n",
      "Epoch 8/10\n",
      "1/1 [==============================] - 1s 517ms/step - loss: 14065.5264\n",
      "Epoch 9/10\n",
      "1/1 [==============================] - 1s 547ms/step - loss: 13815.0508\n",
      "Epoch 10/10\n",
      "1/1 [==============================] - 1s 536ms/step - loss: 13382.4922\n",
      "Encoding in Progress Time step 97 \n",
      "Epoch 1/10\n",
      "1/1 [==============================] - 1s 518ms/step - loss: 9409.4180\n",
      "Epoch 2/10\n",
      "1/1 [==============================] - 1s 548ms/step - loss: 8225.2305\n",
      "Epoch 3/10\n",
      "1/1 [==============================] - 1s 532ms/step - loss: 8104.0537\n",
      "Epoch 4/10\n",
      "1/1 [==============================] - 1s 524ms/step - loss: 9240.4033\n",
      "Epoch 5/10\n",
      "1/1 [==============================] - 1s 553ms/step - loss: 8755.1045\n",
      "Epoch 6/10\n",
      "1/1 [==============================] - 1s 558ms/step - loss: 7825.4932\n",
      "Epoch 7/10\n",
      "1/1 [==============================] - 1s 530ms/step - loss: 7770.9478\n",
      "Epoch 8/10\n",
      "1/1 [==============================] - 1s 537ms/step - loss: 8109.5298\n",
      "Epoch 9/10\n",
      "1/1 [==============================] - 1s 545ms/step - loss: 8290.4990\n",
      "Epoch 10/10\n",
      "1/1 [==============================] - 1s 533ms/step - loss: 8175.2495\n",
      "Encoding in Progress Time step 98 \n",
      "Epoch 1/10\n",
      "1/1 [==============================] - 1s 507ms/step - loss: 11439.0713\n",
      "Epoch 2/10\n",
      "1/1 [==============================] - 1s 555ms/step - loss: 11501.6045\n",
      "Epoch 3/10\n",
      "1/1 [==============================] - 1s 540ms/step - loss: 11520.7471\n",
      "Epoch 4/10\n",
      "1/1 [==============================] - 1s 534ms/step - loss: 11447.7930\n",
      "Epoch 5/10\n",
      "1/1 [==============================] - 1s 539ms/step - loss: 11311.1680\n",
      "Epoch 6/10\n",
      "1/1 [==============================] - 1s 539ms/step - loss: 11180.3135\n",
      "Epoch 7/10\n",
      "1/1 [==============================] - 1s 528ms/step - loss: 11086.1699\n",
      "Epoch 8/10\n",
      "1/1 [==============================] - 1s 546ms/step - loss: 11009.3096\n",
      "Epoch 9/10\n",
      "1/1 [==============================] - 1s 539ms/step - loss: 10941.8467\n",
      "Epoch 10/10\n",
      "1/1 [==============================] - 1s 548ms/step - loss: 10865.9082\n",
      "Encoding in Progress Time step 99 \n",
      "Epoch 1/10\n",
      "1/1 [==============================] - 1s 515ms/step - loss: 11837.6572\n",
      "Epoch 2/10\n",
      "1/1 [==============================] - 1s 630ms/step - loss: 11407.6777\n",
      "Epoch 3/10\n",
      "1/1 [==============================] - 1s 597ms/step - loss: 11810.0820\n",
      "Epoch 4/10\n",
      "1/1 [==============================] - 1s 621ms/step - loss: 11426.6592\n",
      "Epoch 5/10\n",
      "1/1 [==============================] - 1s 577ms/step - loss: 11328.7246\n",
      "Epoch 6/10\n",
      "1/1 [==============================] - 1s 552ms/step - loss: 11472.1719\n",
      "Epoch 7/10\n",
      "1/1 [==============================] - 1s 548ms/step - loss: 11264.0674\n",
      "Epoch 8/10\n",
      "1/1 [==============================] - 1s 557ms/step - loss: 11247.0908\n",
      "Epoch 9/10\n",
      "1/1 [==============================] - 1s 565ms/step - loss: 11819.4277\n",
      "Epoch 10/10\n",
      "1/1 [==============================] - 1s 552ms/step - loss: 11447.4336\n",
      "Total Time Taken : 533.0515398979187\n"
     ]
    }
   ],
   "source": [
    "#Problem in this part.\n",
    "#unable to fit somehow....\n",
    "# we are directly predicting the results without fitting the data...\n",
    "# as a result the results are random images.\n",
    "\n",
    "start_time = time()\n",
    "\n",
    "for ind,img in enumerate(encoding_combined):\n",
    "    print(\"Encoding in Progress Time step %d \"%ind)\n",
    "    decoder.fit(encoding_combined[ind], all_images_anime[ind], epochs=10)\n",
    "\n",
    "\n",
    "end_time = time()\n",
    "print(\"Total Time Taken :\",end_time-start_time)\n"
   ]
  },
  {
   "cell_type": "code",
   "execution_count": 93,
   "id": "67b04e3e",
   "metadata": {
    "scrolled": true
   },
   "outputs": [
    {
     "name": "stderr",
     "output_type": "stream",
     "text": [
      "\r",
      "  0%|                                                                                          | 0/100 [00:00<?, ?it/s]"
     ]
    },
    {
     "name": "stdout",
     "output_type": "stream",
     "text": [
      "1/1 [==============================] - 0s 125ms/step\n"
     ]
    },
    {
     "name": "stderr",
     "output_type": "stream",
     "text": [
      "\r",
      "  1%|▊                                                                                 | 1/100 [00:00<00:15,  6.44it/s]"
     ]
    },
    {
     "name": "stdout",
     "output_type": "stream",
     "text": [
      "1/1 [==============================] - 0s 124ms/step\n"
     ]
    },
    {
     "name": "stderr",
     "output_type": "stream",
     "text": [
      "\r",
      "  2%|█▋                                                                                | 2/100 [00:00<00:15,  6.29it/s]"
     ]
    },
    {
     "name": "stdout",
     "output_type": "stream",
     "text": [
      "1/1 [==============================] - 0s 121ms/step\n"
     ]
    },
    {
     "name": "stderr",
     "output_type": "stream",
     "text": [
      "\r",
      "  3%|██▍                                                                               | 3/100 [00:00<00:15,  6.41it/s]"
     ]
    },
    {
     "name": "stdout",
     "output_type": "stream",
     "text": [
      "1/1 [==============================] - 0s 118ms/step\n"
     ]
    },
    {
     "name": "stderr",
     "output_type": "stream",
     "text": [
      "\r",
      "  4%|███▎                                                                              | 4/100 [00:00<00:14,  6.56it/s]"
     ]
    },
    {
     "name": "stdout",
     "output_type": "stream",
     "text": [
      "1/1 [==============================] - 0s 123ms/step\n"
     ]
    },
    {
     "name": "stderr",
     "output_type": "stream",
     "text": [
      "\r",
      "  5%|████                                                                              | 5/100 [00:00<00:14,  6.56it/s]"
     ]
    },
    {
     "name": "stdout",
     "output_type": "stream",
     "text": [
      "1/1 [==============================] - 0s 119ms/step\n"
     ]
    },
    {
     "name": "stderr",
     "output_type": "stream",
     "text": [
      "\r",
      "  6%|████▉                                                                             | 6/100 [00:00<00:14,  6.59it/s]"
     ]
    },
    {
     "name": "stdout",
     "output_type": "stream",
     "text": [
      "1/1 [==============================] - 0s 127ms/step\n"
     ]
    },
    {
     "name": "stderr",
     "output_type": "stream",
     "text": [
      "\r",
      "  7%|█████▋                                                                            | 7/100 [00:01<00:14,  6.52it/s]"
     ]
    },
    {
     "name": "stdout",
     "output_type": "stream",
     "text": [
      "1/1 [==============================] - 0s 120ms/step\n"
     ]
    },
    {
     "name": "stderr",
     "output_type": "stream",
     "text": [
      "\r",
      "  8%|██████▌                                                                           | 8/100 [00:01<00:13,  6.59it/s]"
     ]
    },
    {
     "name": "stdout",
     "output_type": "stream",
     "text": [
      "1/1 [==============================] - 0s 121ms/step\n"
     ]
    },
    {
     "name": "stderr",
     "output_type": "stream",
     "text": [
      "\r",
      "  9%|███████▍                                                                          | 9/100 [00:01<00:13,  6.52it/s]"
     ]
    },
    {
     "name": "stdout",
     "output_type": "stream",
     "text": [
      "1/1 [==============================] - 0s 125ms/step\n"
     ]
    },
    {
     "name": "stderr",
     "output_type": "stream",
     "text": [
      "\r",
      " 10%|████████                                                                         | 10/100 [00:01<00:13,  6.49it/s]"
     ]
    },
    {
     "name": "stdout",
     "output_type": "stream",
     "text": [
      "1/1 [==============================] - 0s 115ms/step\n"
     ]
    },
    {
     "name": "stderr",
     "output_type": "stream",
     "text": [
      "\r",
      " 11%|████████▉                                                                        | 11/100 [00:01<00:13,  6.62it/s]"
     ]
    },
    {
     "name": "stdout",
     "output_type": "stream",
     "text": [
      "1/1 [==============================] - 0s 125ms/step\n"
     ]
    },
    {
     "name": "stderr",
     "output_type": "stream",
     "text": [
      "\r",
      " 12%|█████████▋                                                                       | 12/100 [00:01<00:13,  6.58it/s]"
     ]
    },
    {
     "name": "stdout",
     "output_type": "stream",
     "text": [
      "1/1 [==============================] - 0s 121ms/step\n"
     ]
    },
    {
     "name": "stderr",
     "output_type": "stream",
     "text": [
      "\r",
      " 13%|██████████▌                                                                      | 13/100 [00:01<00:13,  6.65it/s]"
     ]
    },
    {
     "name": "stdout",
     "output_type": "stream",
     "text": [
      "1/1 [==============================] - 0s 119ms/step\n"
     ]
    },
    {
     "name": "stderr",
     "output_type": "stream",
     "text": [
      "\r",
      " 14%|███████████▎                                                                     | 14/100 [00:02<00:12,  6.69it/s]"
     ]
    },
    {
     "name": "stdout",
     "output_type": "stream",
     "text": [
      "1/1 [==============================] - 0s 135ms/step\n"
     ]
    },
    {
     "name": "stderr",
     "output_type": "stream",
     "text": [
      "\r",
      " 15%|████████████▏                                                                    | 15/100 [00:02<00:13,  6.42it/s]"
     ]
    },
    {
     "name": "stdout",
     "output_type": "stream",
     "text": [
      "1/1 [==============================] - 0s 144ms/step\n"
     ]
    },
    {
     "name": "stderr",
     "output_type": "stream",
     "text": [
      "\r",
      " 16%|████████████▉                                                                    | 16/100 [00:02<00:13,  6.15it/s]"
     ]
    },
    {
     "name": "stdout",
     "output_type": "stream",
     "text": [
      "1/1 [==============================] - 0s 148ms/step\n"
     ]
    },
    {
     "name": "stderr",
     "output_type": "stream",
     "text": [
      "\r",
      " 17%|█████████████▊                                                                   | 17/100 [00:02<00:13,  6.00it/s]"
     ]
    },
    {
     "name": "stdout",
     "output_type": "stream",
     "text": [
      "1/1 [==============================] - 0s 128ms/step\n"
     ]
    },
    {
     "name": "stderr",
     "output_type": "stream",
     "text": [
      "\r",
      " 18%|██████████████▌                                                                  | 18/100 [00:02<00:13,  6.06it/s]"
     ]
    },
    {
     "name": "stdout",
     "output_type": "stream",
     "text": [
      "1/1 [==============================] - 0s 123ms/step\n"
     ]
    },
    {
     "name": "stderr",
     "output_type": "stream",
     "text": [
      "\r",
      " 19%|███████████████▍                                                                 | 19/100 [00:02<00:12,  6.24it/s]"
     ]
    },
    {
     "name": "stdout",
     "output_type": "stream",
     "text": [
      "1/1 [==============================] - 0s 118ms/step\n"
     ]
    },
    {
     "name": "stderr",
     "output_type": "stream",
     "text": [
      "\r",
      " 20%|████████████████▏                                                                | 20/100 [00:03<00:12,  6.39it/s]"
     ]
    },
    {
     "name": "stdout",
     "output_type": "stream",
     "text": [
      "1/1 [==============================] - 0s 122ms/step\n"
     ]
    },
    {
     "name": "stderr",
     "output_type": "stream",
     "text": [
      "\r",
      " 21%|█████████████████                                                                | 21/100 [00:03<00:12,  6.50it/s]"
     ]
    },
    {
     "name": "stdout",
     "output_type": "stream",
     "text": [
      "1/1 [==============================] - 0s 117ms/step\n"
     ]
    },
    {
     "name": "stderr",
     "output_type": "stream",
     "text": [
      "\r",
      " 22%|█████████████████▊                                                               | 22/100 [00:03<00:11,  6.63it/s]"
     ]
    },
    {
     "name": "stdout",
     "output_type": "stream",
     "text": [
      "1/1 [==============================] - 0s 120ms/step\n"
     ]
    },
    {
     "name": "stderr",
     "output_type": "stream",
     "text": [
      "\r",
      " 23%|██████████████████▋                                                              | 23/100 [00:03<00:11,  6.66it/s]"
     ]
    },
    {
     "name": "stdout",
     "output_type": "stream",
     "text": [
      "1/1 [==============================] - 0s 134ms/step\n"
     ]
    },
    {
     "name": "stderr",
     "output_type": "stream",
     "text": [
      "\r",
      " 24%|███████████████████▍                                                             | 24/100 [00:03<00:11,  6.49it/s]"
     ]
    },
    {
     "name": "stdout",
     "output_type": "stream",
     "text": [
      "1/1 [==============================] - 0s 140ms/step\n"
     ]
    },
    {
     "name": "stderr",
     "output_type": "stream",
     "text": [
      "\r",
      " 25%|████████████████████▎                                                            | 25/100 [00:03<00:11,  6.28it/s]"
     ]
    },
    {
     "name": "stdout",
     "output_type": "stream",
     "text": [
      "1/1 [==============================] - 0s 121ms/step\n"
     ]
    },
    {
     "name": "stderr",
     "output_type": "stream",
     "text": [
      "\r",
      " 26%|█████████████████████                                                            | 26/100 [00:04<00:11,  6.39it/s]"
     ]
    },
    {
     "name": "stdout",
     "output_type": "stream",
     "text": [
      "1/1 [==============================] - 0s 119ms/step\n"
     ]
    },
    {
     "name": "stderr",
     "output_type": "stream",
     "text": [
      "\r",
      " 27%|█████████████████████▊                                                           | 27/100 [00:04<00:11,  6.50it/s]"
     ]
    },
    {
     "name": "stdout",
     "output_type": "stream",
     "text": [
      "1/1 [==============================] - 0s 119ms/step\n"
     ]
    },
    {
     "name": "stderr",
     "output_type": "stream",
     "text": [
      "\r",
      " 28%|██████████████████████▋                                                          | 28/100 [00:04<00:10,  6.55it/s]"
     ]
    },
    {
     "name": "stdout",
     "output_type": "stream",
     "text": [
      "1/1 [==============================] - 0s 119ms/step\n"
     ]
    },
    {
     "name": "stderr",
     "output_type": "stream",
     "text": [
      "\r",
      " 29%|███████████████████████▍                                                         | 29/100 [00:04<00:10,  6.62it/s]"
     ]
    },
    {
     "name": "stdout",
     "output_type": "stream",
     "text": [
      "1/1 [==============================] - 0s 122ms/step\n"
     ]
    },
    {
     "name": "stderr",
     "output_type": "stream",
     "text": [
      "\r",
      " 30%|████████████████████████▎                                                        | 30/100 [00:04<00:10,  6.63it/s]"
     ]
    },
    {
     "name": "stdout",
     "output_type": "stream",
     "text": [
      "1/1 [==============================] - 0s 123ms/step\n"
     ]
    },
    {
     "name": "stderr",
     "output_type": "stream",
     "text": [
      "\r",
      " 31%|█████████████████████████                                                        | 31/100 [00:04<00:10,  6.65it/s]"
     ]
    },
    {
     "name": "stdout",
     "output_type": "stream",
     "text": [
      "1/1 [==============================] - 0s 118ms/step\n"
     ]
    },
    {
     "name": "stderr",
     "output_type": "stream",
     "text": [
      "\r",
      " 32%|█████████████████████████▉                                                       | 32/100 [00:04<00:10,  6.71it/s]"
     ]
    },
    {
     "name": "stdout",
     "output_type": "stream",
     "text": [
      "1/1 [==============================] - 0s 119ms/step\n"
     ]
    },
    {
     "name": "stderr",
     "output_type": "stream",
     "text": [
      "\r",
      " 33%|██████████████████████████▋                                                      | 33/100 [00:05<00:09,  6.74it/s]"
     ]
    },
    {
     "name": "stdout",
     "output_type": "stream",
     "text": [
      "1/1 [==============================] - 0s 119ms/step\n"
     ]
    },
    {
     "name": "stderr",
     "output_type": "stream",
     "text": [
      "\r",
      " 34%|███████████████████████████▌                                                     | 34/100 [00:05<00:09,  6.75it/s]"
     ]
    },
    {
     "name": "stdout",
     "output_type": "stream",
     "text": [
      "1/1 [==============================] - 0s 120ms/step\n"
     ]
    },
    {
     "name": "stderr",
     "output_type": "stream",
     "text": [
      "\r",
      " 35%|████████████████████████████▎                                                    | 35/100 [00:05<00:09,  6.77it/s]"
     ]
    },
    {
     "name": "stdout",
     "output_type": "stream",
     "text": [
      "1/1 [==============================] - 0s 129ms/step\n"
     ]
    },
    {
     "name": "stderr",
     "output_type": "stream",
     "text": [
      "\r",
      " 36%|█████████████████████████████▏                                                   | 36/100 [00:05<00:09,  6.62it/s]"
     ]
    },
    {
     "name": "stdout",
     "output_type": "stream",
     "text": [
      "1/1 [==============================] - 0s 130ms/step\n"
     ]
    },
    {
     "name": "stderr",
     "output_type": "stream",
     "text": [
      "\r",
      " 37%|█████████████████████████████▉                                                   | 37/100 [00:05<00:09,  6.51it/s]"
     ]
    },
    {
     "name": "stdout",
     "output_type": "stream",
     "text": [
      "1/1 [==============================] - 0s 126ms/step\n"
     ]
    },
    {
     "name": "stderr",
     "output_type": "stream",
     "text": [
      "\r",
      " 38%|██████████████████████████████▊                                                  | 38/100 [00:05<00:09,  6.41it/s]"
     ]
    },
    {
     "name": "stdout",
     "output_type": "stream",
     "text": [
      "1/1 [==============================] - 0s 117ms/step\n"
     ]
    },
    {
     "name": "stderr",
     "output_type": "stream",
     "text": [
      "\r",
      " 39%|███████████████████████████████▌                                                 | 39/100 [00:05<00:09,  6.56it/s]"
     ]
    },
    {
     "name": "stdout",
     "output_type": "stream",
     "text": [
      "1/1 [==============================] - 0s 133ms/step\n"
     ]
    },
    {
     "name": "stderr",
     "output_type": "stream",
     "text": [
      "\r",
      " 40%|████████████████████████████████▍                                                | 40/100 [00:06<00:09,  6.42it/s]"
     ]
    },
    {
     "name": "stdout",
     "output_type": "stream",
     "text": [
      "1/1 [==============================] - 0s 122ms/step\n"
     ]
    },
    {
     "name": "stderr",
     "output_type": "stream",
     "text": [
      "\r",
      " 41%|█████████████████████████████████▏                                               | 41/100 [00:06<00:09,  6.45it/s]"
     ]
    },
    {
     "name": "stdout",
     "output_type": "stream",
     "text": [
      "1/1 [==============================] - 0s 118ms/step\n"
     ]
    },
    {
     "name": "stderr",
     "output_type": "stream",
     "text": [
      "\r",
      " 42%|██████████████████████████████████                                               | 42/100 [00:06<00:08,  6.58it/s]"
     ]
    },
    {
     "name": "stdout",
     "output_type": "stream",
     "text": [
      "1/1 [==============================] - 0s 119ms/step\n"
     ]
    },
    {
     "name": "stderr",
     "output_type": "stream",
     "text": [
      "\r",
      " 43%|██████████████████████████████████▊                                              | 43/100 [00:06<00:08,  6.66it/s]"
     ]
    },
    {
     "name": "stdout",
     "output_type": "stream",
     "text": [
      "1/1 [==============================] - 0s 120ms/step\n"
     ]
    },
    {
     "name": "stderr",
     "output_type": "stream",
     "text": [
      "\r",
      " 44%|███████████████████████████████████▋                                             | 44/100 [00:06<00:08,  6.70it/s]"
     ]
    },
    {
     "name": "stdout",
     "output_type": "stream",
     "text": [
      "1/1 [==============================] - 0s 117ms/step\n"
     ]
    },
    {
     "name": "stderr",
     "output_type": "stream",
     "text": [
      "\r",
      " 45%|████████████████████████████████████▍                                            | 45/100 [00:06<00:08,  6.76it/s]"
     ]
    },
    {
     "name": "stdout",
     "output_type": "stream",
     "text": [
      "1/1 [==============================] - 0s 119ms/step\n"
     ]
    },
    {
     "name": "stderr",
     "output_type": "stream",
     "text": [
      "\r",
      " 46%|█████████████████████████████████████▎                                           | 46/100 [00:07<00:07,  6.77it/s]"
     ]
    },
    {
     "name": "stdout",
     "output_type": "stream",
     "text": [
      "1/1 [==============================] - 0s 117ms/step\n"
     ]
    },
    {
     "name": "stderr",
     "output_type": "stream",
     "text": [
      "\r",
      " 47%|██████████████████████████████████████                                           | 47/100 [00:07<00:07,  6.76it/s]"
     ]
    },
    {
     "name": "stdout",
     "output_type": "stream",
     "text": [
      "1/1 [==============================] - 0s 118ms/step\n"
     ]
    },
    {
     "name": "stderr",
     "output_type": "stream",
     "text": [
      "\r",
      " 48%|██████████████████████████████████████▉                                          | 48/100 [00:07<00:07,  6.80it/s]"
     ]
    },
    {
     "name": "stdout",
     "output_type": "stream",
     "text": [
      "1/1 [==============================] - 0s 115ms/step\n"
     ]
    },
    {
     "name": "stderr",
     "output_type": "stream",
     "text": [
      "\r",
      " 49%|███████████████████████████████████████▋                                         | 49/100 [00:07<00:07,  6.87it/s]"
     ]
    },
    {
     "name": "stdout",
     "output_type": "stream",
     "text": [
      "1/1 [==============================] - 0s 116ms/step\n"
     ]
    },
    {
     "name": "stderr",
     "output_type": "stream",
     "text": [
      "\r",
      " 50%|████████████████████████████████████████▌                                        | 50/100 [00:07<00:07,  6.89it/s]"
     ]
    },
    {
     "name": "stdout",
     "output_type": "stream",
     "text": [
      "1/1 [==============================] - 0s 117ms/step\n"
     ]
    },
    {
     "name": "stderr",
     "output_type": "stream",
     "text": [
      "\r",
      " 51%|█████████████████████████████████████████▎                                       | 51/100 [00:07<00:07,  6.91it/s]"
     ]
    },
    {
     "name": "stdout",
     "output_type": "stream",
     "text": [
      "1/1 [==============================] - 0s 117ms/step\n"
     ]
    },
    {
     "name": "stderr",
     "output_type": "stream",
     "text": [
      "\r",
      " 52%|██████████████████████████████████████████                                       | 52/100 [00:07<00:06,  6.92it/s]"
     ]
    },
    {
     "name": "stdout",
     "output_type": "stream",
     "text": [
      "1/1 [==============================] - 0s 118ms/step\n"
     ]
    },
    {
     "name": "stderr",
     "output_type": "stream",
     "text": [
      "\r",
      " 53%|██████████████████████████████████████████▉                                      | 53/100 [00:08<00:06,  6.88it/s]"
     ]
    },
    {
     "name": "stdout",
     "output_type": "stream",
     "text": [
      "1/1 [==============================] - 0s 120ms/step\n"
     ]
    },
    {
     "name": "stderr",
     "output_type": "stream",
     "text": [
      "\r",
      " 54%|███████████████████████████████████████████▋                                     | 54/100 [00:08<00:06,  6.88it/s]"
     ]
    },
    {
     "name": "stdout",
     "output_type": "stream",
     "text": [
      "1/1 [==============================] - 0s 118ms/step\n"
     ]
    },
    {
     "name": "stderr",
     "output_type": "stream",
     "text": [
      "\r",
      " 55%|████████████████████████████████████████████▌                                    | 55/100 [00:08<00:06,  6.87it/s]"
     ]
    },
    {
     "name": "stdout",
     "output_type": "stream",
     "text": [
      "1/1 [==============================] - 0s 123ms/step\n"
     ]
    },
    {
     "name": "stderr",
     "output_type": "stream",
     "text": [
      "\r",
      " 56%|█████████████████████████████████████████████▎                                   | 56/100 [00:08<00:06,  6.77it/s]"
     ]
    },
    {
     "name": "stdout",
     "output_type": "stream",
     "text": [
      "1/1 [==============================] - 0s 123ms/step\n"
     ]
    },
    {
     "name": "stderr",
     "output_type": "stream",
     "text": [
      "\r",
      " 57%|██████████████████████████████████████████████▏                                  | 57/100 [00:08<00:06,  6.70it/s]"
     ]
    },
    {
     "name": "stdout",
     "output_type": "stream",
     "text": [
      "1/1 [==============================] - 0s 120ms/step\n"
     ]
    },
    {
     "name": "stderr",
     "output_type": "stream",
     "text": [
      "\r",
      " 58%|██████████████████████████████████████████████▉                                  | 58/100 [00:08<00:06,  6.74it/s]"
     ]
    },
    {
     "name": "stdout",
     "output_type": "stream",
     "text": [
      "1/1 [==============================] - 0s 120ms/step\n"
     ]
    },
    {
     "name": "stderr",
     "output_type": "stream",
     "text": [
      "\r",
      " 59%|███████████████████████████████████████████████▊                                 | 59/100 [00:08<00:06,  6.71it/s]"
     ]
    },
    {
     "name": "stdout",
     "output_type": "stream",
     "text": [
      "1/1 [==============================] - 0s 125ms/step\n"
     ]
    },
    {
     "name": "stderr",
     "output_type": "stream",
     "text": [
      "\r",
      " 60%|████████████████████████████████████████████████▌                                | 60/100 [00:09<00:06,  6.61it/s]"
     ]
    },
    {
     "name": "stdout",
     "output_type": "stream",
     "text": [
      "1/1 [==============================] - 0s 117ms/step\n"
     ]
    },
    {
     "name": "stderr",
     "output_type": "stream",
     "text": [
      "\r",
      " 61%|█████████████████████████████████████████████████▍                               | 61/100 [00:09<00:05,  6.68it/s]"
     ]
    },
    {
     "name": "stdout",
     "output_type": "stream",
     "text": [
      "1/1 [==============================] - 0s 125ms/step\n"
     ]
    },
    {
     "name": "stderr",
     "output_type": "stream",
     "text": [
      "\r",
      " 62%|██████████████████████████████████████████████████▏                              | 62/100 [00:09<00:05,  6.63it/s]"
     ]
    },
    {
     "name": "stdout",
     "output_type": "stream",
     "text": [
      "1/1 [==============================] - 0s 118ms/step\n"
     ]
    },
    {
     "name": "stderr",
     "output_type": "stream",
     "text": [
      "\r",
      " 63%|███████████████████████████████████████████████████                              | 63/100 [00:09<00:05,  6.71it/s]"
     ]
    },
    {
     "name": "stdout",
     "output_type": "stream",
     "text": [
      "1/1 [==============================] - 0s 140ms/step\n"
     ]
    },
    {
     "name": "stderr",
     "output_type": "stream",
     "text": [
      "\r",
      " 64%|███████████████████████████████████████████████████▊                             | 64/100 [00:09<00:05,  6.43it/s]"
     ]
    },
    {
     "name": "stdout",
     "output_type": "stream",
     "text": [
      "1/1 [==============================] - 0s 132ms/step\n"
     ]
    },
    {
     "name": "stderr",
     "output_type": "stream",
     "text": [
      "\r",
      " 65%|████████████████████████████████████████████████████▋                            | 65/100 [00:09<00:05,  6.34it/s]"
     ]
    },
    {
     "name": "stdout",
     "output_type": "stream",
     "text": [
      "1/1 [==============================] - 0s 121ms/step\n"
     ]
    },
    {
     "name": "stderr",
     "output_type": "stream",
     "text": [
      "\r",
      " 66%|█████████████████████████████████████████████████████▍                           | 66/100 [00:10<00:05,  6.44it/s]"
     ]
    },
    {
     "name": "stdout",
     "output_type": "stream",
     "text": [
      "1/1 [==============================] - 0s 122ms/step\n"
     ]
    },
    {
     "name": "stderr",
     "output_type": "stream",
     "text": [
      "\r",
      " 67%|██████████████████████████████████████████████████████▎                          | 67/100 [00:10<00:05,  6.43it/s]"
     ]
    },
    {
     "name": "stdout",
     "output_type": "stream",
     "text": [
      "1/1 [==============================] - 0s 129ms/step\n"
     ]
    },
    {
     "name": "stderr",
     "output_type": "stream",
     "text": [
      "\r",
      " 68%|███████████████████████████████████████████████████████                          | 68/100 [00:10<00:04,  6.41it/s]"
     ]
    },
    {
     "name": "stdout",
     "output_type": "stream",
     "text": [
      "1/1 [==============================] - 0s 118ms/step\n"
     ]
    },
    {
     "name": "stderr",
     "output_type": "stream",
     "text": [
      "\r",
      " 69%|███████████████████████████████████████████████████████▉                         | 69/100 [00:10<00:04,  6.55it/s]"
     ]
    },
    {
     "name": "stdout",
     "output_type": "stream",
     "text": [
      "1/1 [==============================] - 0s 119ms/step\n"
     ]
    },
    {
     "name": "stderr",
     "output_type": "stream",
     "text": [
      "\r",
      " 70%|████████████████████████████████████████████████████████▋                        | 70/100 [00:10<00:04,  6.64it/s]"
     ]
    },
    {
     "name": "stdout",
     "output_type": "stream",
     "text": [
      "1/1 [==============================] - 0s 123ms/step\n"
     ]
    },
    {
     "name": "stderr",
     "output_type": "stream",
     "text": [
      "\r",
      " 71%|█████████████████████████████████████████████████████████▌                       | 71/100 [00:10<00:04,  6.62it/s]"
     ]
    },
    {
     "name": "stdout",
     "output_type": "stream",
     "text": [
      "1/1 [==============================] - 0s 118ms/step\n"
     ]
    },
    {
     "name": "stderr",
     "output_type": "stream",
     "text": [
      "\r",
      " 72%|██████████████████████████████████████████████████████████▎                      | 72/100 [00:10<00:04,  6.72it/s]"
     ]
    },
    {
     "name": "stdout",
     "output_type": "stream",
     "text": [
      "1/1 [==============================] - 0s 126ms/step\n"
     ]
    },
    {
     "name": "stderr",
     "output_type": "stream",
     "text": [
      "\r",
      " 73%|███████████████████████████████████████████████████████████▏                     | 73/100 [00:11<00:04,  6.62it/s]"
     ]
    },
    {
     "name": "stdout",
     "output_type": "stream",
     "text": [
      "1/1 [==============================] - 0s 118ms/step\n"
     ]
    },
    {
     "name": "stderr",
     "output_type": "stream",
     "text": [
      "\r",
      " 74%|███████████████████████████████████████████████████████████▉                     | 74/100 [00:11<00:03,  6.69it/s]"
     ]
    },
    {
     "name": "stdout",
     "output_type": "stream",
     "text": [
      "1/1 [==============================] - 0s 136ms/step\n"
     ]
    },
    {
     "name": "stderr",
     "output_type": "stream",
     "text": [
      "\r",
      " 75%|████████████████████████████████████████████████████████████▊                    | 75/100 [00:11<00:03,  6.47it/s]"
     ]
    },
    {
     "name": "stdout",
     "output_type": "stream",
     "text": [
      "1/1 [==============================] - 0s 137ms/step\n"
     ]
    },
    {
     "name": "stderr",
     "output_type": "stream",
     "text": [
      "\r",
      " 76%|█████████████████████████████████████████████████████████████▌                   | 76/100 [00:11<00:03,  6.28it/s]"
     ]
    },
    {
     "name": "stdout",
     "output_type": "stream",
     "text": [
      "1/1 [==============================] - 0s 136ms/step\n"
     ]
    },
    {
     "name": "stderr",
     "output_type": "stream",
     "text": [
      "\r",
      " 77%|██████████████████████████████████████████████████████████████▎                  | 77/100 [00:11<00:03,  6.24it/s]"
     ]
    },
    {
     "name": "stdout",
     "output_type": "stream",
     "text": [
      "1/1 [==============================] - 0s 139ms/step\n"
     ]
    },
    {
     "name": "stderr",
     "output_type": "stream",
     "text": [
      "\r",
      " 78%|███████████████████████████████████████████████████████████████▏                 | 78/100 [00:11<00:03,  6.16it/s]"
     ]
    },
    {
     "name": "stdout",
     "output_type": "stream",
     "text": [
      "1/1 [==============================] - 0s 135ms/step\n"
     ]
    },
    {
     "name": "stderr",
     "output_type": "stream",
     "text": [
      "\r",
      " 79%|███████████████████████████████████████████████████████████████▉                 | 79/100 [00:12<00:03,  6.16it/s]"
     ]
    },
    {
     "name": "stdout",
     "output_type": "stream",
     "text": [
      "1/1 [==============================] - 0s 121ms/step\n"
     ]
    },
    {
     "name": "stderr",
     "output_type": "stream",
     "text": [
      "\r",
      " 80%|████████████████████████████████████████████████████████████████▊                | 80/100 [00:12<00:03,  6.32it/s]"
     ]
    },
    {
     "name": "stdout",
     "output_type": "stream",
     "text": [
      "1/1 [==============================] - 0s 122ms/step\n"
     ]
    },
    {
     "name": "stderr",
     "output_type": "stream",
     "text": [
      "\r",
      " 81%|█████████████████████████████████████████████████████████████████▌               | 81/100 [00:12<00:02,  6.45it/s]"
     ]
    },
    {
     "name": "stdout",
     "output_type": "stream",
     "text": [
      "1/1 [==============================] - 0s 123ms/step\n"
     ]
    },
    {
     "name": "stderr",
     "output_type": "stream",
     "text": [
      "\r",
      " 82%|██████████████████████████████████████████████████████████████████▍              | 82/100 [00:12<00:02,  6.50it/s]"
     ]
    },
    {
     "name": "stdout",
     "output_type": "stream",
     "text": [
      "1/1 [==============================] - 0s 121ms/step\n"
     ]
    },
    {
     "name": "stderr",
     "output_type": "stream",
     "text": [
      "\r",
      " 83%|███████████████████████████████████████████████████████████████████▏             | 83/100 [00:12<00:02,  6.57it/s]"
     ]
    },
    {
     "name": "stdout",
     "output_type": "stream",
     "text": [
      "1/1 [==============================] - 0s 122ms/step\n"
     ]
    },
    {
     "name": "stderr",
     "output_type": "stream",
     "text": [
      "\r",
      " 84%|████████████████████████████████████████████████████████████████████             | 84/100 [00:12<00:02,  6.61it/s]"
     ]
    },
    {
     "name": "stdout",
     "output_type": "stream",
     "text": [
      "1/1 [==============================] - 0s 124ms/step\n"
     ]
    },
    {
     "name": "stderr",
     "output_type": "stream",
     "text": [
      "\r",
      " 85%|████████████████████████████████████████████████████████████████████▊            | 85/100 [00:12<00:02,  6.62it/s]"
     ]
    },
    {
     "name": "stdout",
     "output_type": "stream",
     "text": [
      "1/1 [==============================] - 0s 120ms/step\n"
     ]
    },
    {
     "name": "stderr",
     "output_type": "stream",
     "text": [
      "\r",
      " 86%|█████████████████████████████████████████████████████████████████████▋           | 86/100 [00:13<00:02,  6.61it/s]"
     ]
    },
    {
     "name": "stdout",
     "output_type": "stream",
     "text": [
      "1/1 [==============================] - 0s 121ms/step\n"
     ]
    },
    {
     "name": "stderr",
     "output_type": "stream",
     "text": [
      "\r",
      " 87%|██████████████████████████████████████████████████████████████████████▍          | 87/100 [00:13<00:01,  6.64it/s]"
     ]
    },
    {
     "name": "stdout",
     "output_type": "stream",
     "text": [
      "1/1 [==============================] - 0s 121ms/step\n"
     ]
    },
    {
     "name": "stderr",
     "output_type": "stream",
     "text": [
      "\r",
      " 88%|███████████████████████████████████████████████████████████████████████▎         | 88/100 [00:13<00:01,  6.65it/s]"
     ]
    },
    {
     "name": "stdout",
     "output_type": "stream",
     "text": [
      "1/1 [==============================] - 0s 120ms/step\n"
     ]
    },
    {
     "name": "stderr",
     "output_type": "stream",
     "text": [
      "\r",
      " 89%|████████████████████████████████████████████████████████████████████████         | 89/100 [00:13<00:01,  6.64it/s]"
     ]
    },
    {
     "name": "stdout",
     "output_type": "stream",
     "text": [
      "1/1 [==============================] - 0s 121ms/step\n"
     ]
    },
    {
     "name": "stderr",
     "output_type": "stream",
     "text": [
      "\r",
      " 90%|████████████████████████████████████████████████████████████████████████▉        | 90/100 [00:13<00:01,  6.63it/s]"
     ]
    },
    {
     "name": "stdout",
     "output_type": "stream",
     "text": [
      "1/1 [==============================] - 0s 122ms/step\n"
     ]
    },
    {
     "name": "stderr",
     "output_type": "stream",
     "text": [
      "\r",
      " 91%|█████████████████████████████████████████████████████████████████████████▋       | 91/100 [00:13<00:01,  6.62it/s]"
     ]
    },
    {
     "name": "stdout",
     "output_type": "stream",
     "text": [
      "1/1 [==============================] - 0s 123ms/step\n"
     ]
    },
    {
     "name": "stderr",
     "output_type": "stream",
     "text": [
      "\r",
      " 92%|██████████████████████████████████████████████████████████████████████████▌      | 92/100 [00:14<00:01,  6.61it/s]"
     ]
    },
    {
     "name": "stdout",
     "output_type": "stream",
     "text": [
      "1/1 [==============================] - 0s 128ms/step\n"
     ]
    },
    {
     "name": "stderr",
     "output_type": "stream",
     "text": [
      "\r",
      " 93%|███████████████████████████████████████████████████████████████████████████▎     | 93/100 [00:14<00:01,  6.54it/s]"
     ]
    },
    {
     "name": "stdout",
     "output_type": "stream",
     "text": [
      "1/1 [==============================] - 0s 119ms/step\n"
     ]
    },
    {
     "name": "stderr",
     "output_type": "stream",
     "text": [
      "\r",
      " 94%|████████████████████████████████████████████████████████████████████████████▏    | 94/100 [00:14<00:00,  6.58it/s]"
     ]
    },
    {
     "name": "stdout",
     "output_type": "stream",
     "text": [
      "1/1 [==============================] - 0s 123ms/step\n"
     ]
    },
    {
     "name": "stderr",
     "output_type": "stream",
     "text": [
      "\r",
      " 95%|████████████████████████████████████████████████████████████████████████████▉    | 95/100 [00:14<00:00,  6.60it/s]"
     ]
    },
    {
     "name": "stdout",
     "output_type": "stream",
     "text": [
      "1/1 [==============================] - 0s 121ms/step\n"
     ]
    },
    {
     "name": "stderr",
     "output_type": "stream",
     "text": [
      "\r",
      " 96%|█████████████████████████████████████████████████████████████████████████████▊   | 96/100 [00:14<00:00,  6.54it/s]"
     ]
    },
    {
     "name": "stdout",
     "output_type": "stream",
     "text": [
      "1/1 [==============================] - 0s 125ms/step\n"
     ]
    },
    {
     "name": "stderr",
     "output_type": "stream",
     "text": [
      "\r",
      " 97%|██████████████████████████████████████████████████████████████████████████████▌  | 97/100 [00:14<00:00,  6.49it/s]"
     ]
    },
    {
     "name": "stdout",
     "output_type": "stream",
     "text": [
      "1/1 [==============================] - 0s 119ms/step\n"
     ]
    },
    {
     "name": "stderr",
     "output_type": "stream",
     "text": [
      "\r",
      " 98%|███████████████████████████████████████████████████████████████████████████████▍ | 98/100 [00:14<00:00,  6.58it/s]"
     ]
    },
    {
     "name": "stdout",
     "output_type": "stream",
     "text": [
      "1/1 [==============================] - 0s 123ms/step\n"
     ]
    },
    {
     "name": "stderr",
     "output_type": "stream",
     "text": [
      "\r",
      " 99%|████████████████████████████████████████████████████████████████████████████████▏| 99/100 [00:15<00:00,  6.56it/s]"
     ]
    },
    {
     "name": "stdout",
     "output_type": "stream",
     "text": [
      "1/1 [==============================] - 0s 128ms/step\n"
     ]
    },
    {
     "name": "stderr",
     "output_type": "stream",
     "text": [
      "100%|████████████████████████████████████████████████████████████████████████████████| 100/100 [00:15<00:00,  6.56it/s]\n"
     ]
    }
   ],
   "source": [
    "# predictions = decoder.predict(encoding_combined)\n",
    "\n",
    "predictions = []\n",
    "for i in tqdm(encoding_combined):\n",
    "    predictions.append(decoder.predict(i))"
   ]
  },
  {
   "cell_type": "code",
   "execution_count": 94,
   "id": "9806f174",
   "metadata": {},
   "outputs": [
    {
     "name": "stdout",
     "output_type": "stream",
     "text": [
      "100\n",
      "(1, 224, 224, 3)\n"
     ]
    }
   ],
   "source": [
    "print(len(predictions))\n",
    "print(predictions[0].shape)"
   ]
  },
  {
   "cell_type": "code",
   "execution_count": 95,
   "id": "d85ea5f8",
   "metadata": {},
   "outputs": [
    {
     "name": "stdout",
     "output_type": "stream",
     "text": [
      "100\n",
      "(1, 224, 224, 3)\n"
     ]
    }
   ],
   "source": [
    "print(len(all_images_anime))\n",
    "print(all_images_anime[0].shape)"
   ]
  },
  {
   "cell_type": "code",
   "execution_count": 96,
   "id": "b266ca6f",
   "metadata": {},
   "outputs": [
    {
     "data": {
      "image/png": "[encoded data removed]",
      "text/plain": [
       "<PIL.JpegImagePlugin.JpegImageFile image mode=RGB size=256x256>"
      ]
     },
     "execution_count": 96,
     "metadata": {},
     "output_type": "execute_result"
    }
   ],
   "source": [
    "utils.load_img(anime_images[3])"
   ]
  },
  {
   "cell_type": "code",
   "execution_count": 97,
   "id": "e0a1323d",
   "metadata": {},
   "outputs": [
    {
     "data": {
      "image/png": "[encoded data removed]",
      "text/plain": [
       "<PIL.PngImagePlugin.PngImageFile image mode=RGB size=256x256>"
      ]
     },
     "execution_count": 97,
     "metadata": {},
     "output_type": "execute_result"
    }
   ],
   "source": [
    "utils.load_img(face_images[3])"
   ]
  },
  {
   "cell_type": "code",
   "execution_count": 98,
   "id": "b3f3dfe3",
   "metadata": {},
   "outputs": [
    {
     "name": "stdout",
     "output_type": "stream",
     "text": [
      "(224, 224, 3)\n"
     ]
    },
    {
     "data": {
      "image/png": "[encoded data removed]",
      "text/plain": [
       "<Figure size 432x288 with 1 Axes>"
      ]
     },
     "metadata": {
      "needs_background": "light"
     },
     "output_type": "display_data"
    }
   ],
   "source": [
    "tmp = predictions[3][0]*255.0\n",
    "print(tmp.shape)\n",
    "img = utils.array_to_img(tmp)\n",
    "plt.imshow(img)\n",
    "plt.show()"
   ]
  },
  {
   "cell_type": "code",
   "execution_count": null,
   "id": "d180b9d2",
   "metadata": {},
   "outputs": [],
   "source": []
  }
 ],
 "metadata": {
  "kernelspec": {
   "display_name": "Python 3 (ipykernel)",
   "language": "python",
   "name": "python3"
  },
  "language_info": {
   "codemirror_mode": {
    "name": "ipython",
    "version": 3
   },
   "file_extension": ".py",
   "mimetype": "text/x-python",
   "name": "python",
   "nbconvert_exporter": "python",
   "pygments_lexer": "ipython3",
   "version": "3.10.6"
  },
  "latex_envs": {
   "LaTeX_envs_menu_present": true,
   "autoclose": false,
   "autocomplete": true,
   "bibliofile": "biblio.bib",
   "cite_by": "apalike",
   "current_citInitial": 1,
   "eqLabelWithNumbers": true,
   "eqNumInitial": 1,
   "hotkeys": {
    "equation": "Ctrl-E",
    "itemize": "Ctrl-I"
   },
   "labels_anchors": false,
   "latex_user_defs": false,
   "report_style_numbering": false,
   "user_envs_cfg": false
  }
 },
 "nbformat": 4,
 "nbformat_minor": 5
}
