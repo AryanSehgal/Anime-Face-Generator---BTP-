{
 "cells": [
  {
   "cell_type": "code",
   "execution_count": 1,
   "id": "8d7c48ad",
   "metadata": {},
   "outputs": [],
   "source": [
    "import tensorflow as tf\n",
    "import numpy as np\n",
    "import pandas as pd\n",
    "from PIL import Image\n",
    "from collections import OrderedDict\n",
    "from functools import partial\n",
    "from random import shuffle\n",
    "import matplotlib.pyplot as plt\n",
    "import os\n",
    "import re\n",
    "from keras.models import Model, load_model\n",
    "from tensorflow.keras import Model, Input, regularizers, utils\n",
    "from tensorflow.keras.layers import Dense, Conv2D, MaxPool2D, UpSampling2D"
   ]
  },
  {
   "cell_type": "code",
   "execution_count": 2,
   "id": "1c78a059",
   "metadata": {},
   "outputs": [],
   "source": [
    "import pandas as pd\n",
    "import numpy as np\n",
    "import matplotlib.pyplot as plt\n",
    "import keras\n",
    "import re\n",
    "import string\n",
    "import json\n",
    "from time import time\n",
    "import pickle\n",
    "from keras.applications.vgg16 import VGG16\n",
    "from keras.preprocessing import image\n",
    "from keras.models import Model, load_model\n",
    "from keras.utils import to_categorical\n",
    "from keras.layers import Input, Dense, Dropout, Embedding, LSTM\n",
    "from tqdm import tqdm"
   ]
  },
  {
   "cell_type": "code",
   "execution_count": 3,
   "id": "8127d699",
   "metadata": {},
   "outputs": [
    {
     "name": "stdout",
     "output_type": "stream",
     "text": [
      "Model: \"vgg19\"\n",
      "_________________________________________________________________\n",
      " Layer (type)                Output Shape              Param #   \n",
      "=================================================================\n",
      " input_1 (InputLayer)        [(None, 224, 224, 3)]     0         \n",
      "                                                                 \n",
      " block1_conv1 (Conv2D)       (None, 224, 224, 64)      1792      \n",
      "                                                                 \n",
      " block1_conv2 (Conv2D)       (None, 224, 224, 64)      36928     \n",
      "                                                                 \n",
      " block1_pool (MaxPooling2D)  (None, 112, 112, 64)      0         \n",
      "                                                                 \n",
      " block2_conv1 (Conv2D)       (None, 112, 112, 128)     73856     \n",
      "                                                                 \n",
      " block2_conv2 (Conv2D)       (None, 112, 112, 128)     147584    \n",
      "                                                                 \n",
      " block2_pool (MaxPooling2D)  (None, 56, 56, 128)       0         \n",
      "                                                                 \n",
      " block3_conv1 (Conv2D)       (None, 56, 56, 256)       295168    \n",
      "                                                                 \n",
      " block3_conv2 (Conv2D)       (None, 56, 56, 256)       590080    \n",
      "                                                                 \n",
      " block3_conv3 (Conv2D)       (None, 56, 56, 256)       590080    \n",
      "                                                                 \n",
      " block3_conv4 (Conv2D)       (None, 56, 56, 256)       590080    \n",
      "                                                                 \n",
      " block3_pool (MaxPooling2D)  (None, 28, 28, 256)       0         \n",
      "                                                                 \n",
      " block4_conv1 (Conv2D)       (None, 28, 28, 512)       1180160   \n",
      "                                                                 \n",
      " block4_conv2 (Conv2D)       (None, 28, 28, 512)       2359808   \n",
      "                                                                 \n",
      " block4_conv3 (Conv2D)       (None, 28, 28, 512)       2359808   \n",
      "                                                                 \n",
      " block4_conv4 (Conv2D)       (None, 28, 28, 512)       2359808   \n",
      "                                                                 \n",
      " block4_pool (MaxPooling2D)  (None, 14, 14, 512)       0         \n",
      "                                                                 \n",
      " block5_conv1 (Conv2D)       (None, 14, 14, 512)       2359808   \n",
      "                                                                 \n",
      " block5_conv2 (Conv2D)       (None, 14, 14, 512)       2359808   \n",
      "                                                                 \n",
      " block5_conv3 (Conv2D)       (None, 14, 14, 512)       2359808   \n",
      "                                                                 \n",
      " block5_conv4 (Conv2D)       (None, 14, 14, 512)       2359808   \n",
      "                                                                 \n",
      " block5_pool (MaxPooling2D)  (None, 7, 7, 512)         0         \n",
      "                                                                 \n",
      " flatten (Flatten)           (None, 25088)             0         \n",
      "                                                                 \n",
      " fc1 (Dense)                 (None, 4096)              102764544 \n",
      "                                                                 \n",
      " fc2 (Dense)                 (None, 4096)              16781312  \n",
      "                                                                 \n",
      " predictions (Dense)         (None, 1000)              4097000   \n",
      "                                                                 \n",
      "=================================================================\n",
      "Total params: 143,667,240\n",
      "Trainable params: 143,667,240\n",
      "Non-trainable params: 0\n",
      "_________________________________________________________________\n",
      "None\n"
     ]
    }
   ],
   "source": [
    "from keras.applications.vgg19 import VGG19\n",
    "# model = VGG19()\n",
    "model = VGG19(weights=\"imagenet\",input_shape=(224,224,3))\n",
    "print(model.summary())"
   ]
  },
  {
   "cell_type": "code",
   "execution_count": 4,
   "id": "7ec63f6c",
   "metadata": {},
   "outputs": [
    {
     "data": {
      "text/plain": [
       "<KerasTensor: shape=(None, 28, 28, 512) dtype=float32 (created by layer 'block4_conv1')>"
      ]
     },
     "execution_count": 4,
     "metadata": {},
     "output_type": "execute_result"
    }
   ],
   "source": [
    "model.layers[12].output"
   ]
  },
  {
   "cell_type": "code",
   "execution_count": 5,
   "id": "1a73e7de",
   "metadata": {},
   "outputs": [],
   "source": [
    "model_new = Model(model.input, model.layers[12].output)"
   ]
  },
  {
   "cell_type": "code",
   "execution_count": 6,
   "id": "42921d0b",
   "metadata": {},
   "outputs": [
    {
     "name": "stdout",
     "output_type": "stream",
     "text": [
      "Model: \"model\"\n",
      "_________________________________________________________________\n",
      " Layer (type)                Output Shape              Param #   \n",
      "=================================================================\n",
      " input_1 (InputLayer)        [(None, 224, 224, 3)]     0         \n",
      "                                                                 \n",
      " block1_conv1 (Conv2D)       (None, 224, 224, 64)      1792      \n",
      "                                                                 \n",
      " block1_conv2 (Conv2D)       (None, 224, 224, 64)      36928     \n",
      "                                                                 \n",
      " block1_pool (MaxPooling2D)  (None, 112, 112, 64)      0         \n",
      "                                                                 \n",
      " block2_conv1 (Conv2D)       (None, 112, 112, 128)     73856     \n",
      "                                                                 \n",
      " block2_conv2 (Conv2D)       (None, 112, 112, 128)     147584    \n",
      "                                                                 \n",
      " block2_pool (MaxPooling2D)  (None, 56, 56, 128)       0         \n",
      "                                                                 \n",
      " block3_conv1 (Conv2D)       (None, 56, 56, 256)       295168    \n",
      "                                                                 \n",
      " block3_conv2 (Conv2D)       (None, 56, 56, 256)       590080    \n",
      "                                                                 \n",
      " block3_conv3 (Conv2D)       (None, 56, 56, 256)       590080    \n",
      "                                                                 \n",
      " block3_conv4 (Conv2D)       (None, 56, 56, 256)       590080    \n",
      "                                                                 \n",
      " block3_pool (MaxPooling2D)  (None, 28, 28, 256)       0         \n",
      "                                                                 \n",
      " block4_conv1 (Conv2D)       (None, 28, 28, 512)       1180160   \n",
      "                                                                 \n",
      "=================================================================\n",
      "Total params: 3,505,728\n",
      "Trainable params: 3,505,728\n",
      "Non-trainable params: 0\n",
      "_________________________________________________________________\n"
     ]
    }
   ],
   "source": [
    "model_new.summary()"
   ]
  },
  {
   "cell_type": "code",
   "execution_count": 7,
   "id": "4ad68b82",
   "metadata": {},
   "outputs": [],
   "source": [
    "import glob\n",
    "face_images = glob.glob('E:/Download/AniGAN-main/face2anime/human-faces/' + \"*.*\")\n",
    "anime_images = glob.glob('E:/Download/AniGAN-main/face2anime/anime-faces/' + \"*.*\")"
   ]
  },
  {
   "cell_type": "code",
   "execution_count": 8,
   "id": "be1b6169",
   "metadata": {},
   "outputs": [
    {
     "data": {
      "image/png": "[encoded data removed]",
      "text/plain": [
       "<PIL.PngImagePlugin.PngImageFile image mode=RGB size=256x256>"
      ]
     },
     "execution_count": 8,
     "metadata": {},
     "output_type": "execute_result"
    }
   ],
   "source": [
    "from tensorflow.keras import Model, Input, regularizers, utils\n",
    "img_human = utils.load_img(face_images[0])\n",
    "img_human"
   ]
  },
  {
   "cell_type": "code",
   "execution_count": 9,
   "id": "36cc63af",
   "metadata": {},
   "outputs": [
    {
     "data": {
      "image/png": "[encoded data removed]",
      "text/plain": [
       "<PIL.JpegImagePlugin.JpegImageFile image mode=RGB size=256x256>"
      ]
     },
     "execution_count": 9,
     "metadata": {},
     "output_type": "execute_result"
    }
   ],
   "source": [
    "img_anime = utils.load_img(anime_images[0])\n",
    "img_anime"
   ]
  },
  {
   "cell_type": "code",
   "execution_count": 10,
   "id": "82627195",
   "metadata": {},
   "outputs": [
    {
     "name": "stderr",
     "output_type": "stream",
     "text": [
      "100%|███████████████████████████████████████████████████████████████████████████████| 100/100 [00:00<00:00, 167.03it/s]\n"
     ]
    }
   ],
   "source": [
    "all_images_anime = []\n",
    "all_images_human = []\n",
    "\n",
    "for i in tqdm(face_images):\n",
    "    img = utils.load_img(i, target_size=(224,224,3))\n",
    "    img = utils.img_to_array(img)\n",
    "    img = img/255.0\n",
    "    \n",
    "#     print(\"Before - \", img.shape)\n",
    "    img = np.expand_dims(img,axis=0)\n",
    "#     print(\"After - \", img.shape)\n",
    "    \n",
    "    all_images_human.append(img)"
   ]
  },
  {
   "cell_type": "code",
   "execution_count": 11,
   "id": "d2c9a641",
   "metadata": {},
   "outputs": [
    {
     "name": "stderr",
     "output_type": "stream",
     "text": [
      "100%|███████████████████████████████████████████████████████████████████████████████| 100/100 [00:00<00:00, 261.45it/s]\n"
     ]
    }
   ],
   "source": [
    "for i in tqdm(anime_images):\n",
    "    img = utils.load_img(i, target_size=(224,224,3))\n",
    "    img = utils.img_to_array(img)\n",
    "    img = img/255.0\n",
    "    \n",
    "#     print(\"Before - \", img.shape)\n",
    "    img = np.expand_dims(img,axis=0)\n",
    "#     print(\"After - \", img.shape)\n",
    "    all_images_anime.append(img)"
   ]
  },
  {
   "cell_type": "code",
   "execution_count": null,
   "id": "9cc571f9",
   "metadata": {},
   "outputs": [],
   "source": []
  },
  {
   "cell_type": "code",
   "execution_count": null,
   "id": "a919ccad",
   "metadata": {},
   "outputs": [],
   "source": []
  },
  {
   "cell_type": "code",
   "execution_count": 12,
   "id": "606ced4a",
   "metadata": {},
   "outputs": [],
   "source": [
    "def encode_image(img):\n",
    "    feature_vector = model_new.predict(img)\n",
    "#     feature_vector = feature_vector.reshape((-1,))\n",
    "    return feature_vector"
   ]
  },
  {
   "cell_type": "code",
   "execution_count": 13,
   "id": "a780a869",
   "metadata": {},
   "outputs": [
    {
     "name": "stdout",
     "output_type": "stream",
     "text": [
      "1/1 [==============================] - 0s 192ms/step\n",
      "Encoding in Progress Time step 0 \n",
      "1/1 [==============================] - 0s 80ms/step\n",
      "Encoding in Progress Time step 1 \n",
      "1/1 [==============================] - 0s 79ms/step\n",
      "Encoding in Progress Time step 2 \n",
      "1/1 [==============================] - 0s 79ms/step\n",
      "Encoding in Progress Time step 3 \n",
      "1/1 [==============================] - 0s 80ms/step\n",
      "Encoding in Progress Time step 4 \n",
      "1/1 [==============================] - 0s 78ms/step\n",
      "Encoding in Progress Time step 5 \n",
      "1/1 [==============================] - 0s 78ms/step\n",
      "Encoding in Progress Time step 6 \n",
      "1/1 [==============================] - 0s 79ms/step\n",
      "Encoding in Progress Time step 7 \n",
      "1/1 [==============================] - 0s 82ms/step\n",
      "Encoding in Progress Time step 8 \n",
      "1/1 [==============================] - 0s 80ms/step\n",
      "Encoding in Progress Time step 9 \n",
      "1/1 [==============================] - 0s 85ms/step\n",
      "Encoding in Progress Time step 10 \n",
      "1/1 [==============================] - 0s 82ms/step\n",
      "Encoding in Progress Time step 11 \n",
      "1/1 [==============================] - 0s 80ms/step\n",
      "Encoding in Progress Time step 12 \n",
      "1/1 [==============================] - 0s 79ms/step\n",
      "Encoding in Progress Time step 13 \n",
      "1/1 [==============================] - 0s 85ms/step\n",
      "Encoding in Progress Time step 14 \n",
      "1/1 [==============================] - 0s 78ms/step\n",
      "Encoding in Progress Time step 15 \n",
      "1/1 [==============================] - 0s 83ms/step\n",
      "Encoding in Progress Time step 16 \n",
      "1/1 [==============================] - 0s 83ms/step\n",
      "Encoding in Progress Time step 17 \n",
      "1/1 [==============================] - 0s 93ms/step\n",
      "Encoding in Progress Time step 18 \n",
      "1/1 [==============================] - 0s 93ms/step\n",
      "Encoding in Progress Time step 19 \n",
      "1/1 [==============================] - 0s 91ms/step\n",
      "Encoding in Progress Time step 20 \n",
      "1/1 [==============================] - 0s 88ms/step\n",
      "Encoding in Progress Time step 21 \n",
      "1/1 [==============================] - 0s 84ms/step\n",
      "Encoding in Progress Time step 22 \n",
      "1/1 [==============================] - 0s 88ms/step\n",
      "Encoding in Progress Time step 23 \n",
      "1/1 [==============================] - 0s 90ms/step\n",
      "Encoding in Progress Time step 24 \n",
      "1/1 [==============================] - 0s 82ms/step\n",
      "Encoding in Progress Time step 25 \n",
      "1/1 [==============================] - 0s 91ms/step\n",
      "Encoding in Progress Time step 26 \n",
      "1/1 [==============================] - 0s 96ms/step\n",
      "Encoding in Progress Time step 27 \n",
      "1/1 [==============================] - 0s 90ms/step\n",
      "Encoding in Progress Time step 28 \n",
      "1/1 [==============================] - 0s 103ms/step\n",
      "Encoding in Progress Time step 29 \n",
      "1/1 [==============================] - 0s 83ms/step\n",
      "Encoding in Progress Time step 30 \n",
      "1/1 [==============================] - 0s 81ms/step\n",
      "Encoding in Progress Time step 31 \n",
      "1/1 [==============================] - 0s 80ms/step\n",
      "Encoding in Progress Time step 32 \n",
      "1/1 [==============================] - 0s 79ms/step\n",
      "Encoding in Progress Time step 33 \n",
      "1/1 [==============================] - 0s 80ms/step\n",
      "Encoding in Progress Time step 34 \n",
      "1/1 [==============================] - 0s 94ms/step\n",
      "Encoding in Progress Time step 35 \n",
      "1/1 [==============================] - 0s 88ms/step\n",
      "Encoding in Progress Time step 36 \n",
      "1/1 [==============================] - 0s 82ms/step\n",
      "Encoding in Progress Time step 37 \n",
      "1/1 [==============================] - 0s 79ms/step\n",
      "Encoding in Progress Time step 38 \n",
      "1/1 [==============================] - 0s 87ms/step\n",
      "Encoding in Progress Time step 39 \n",
      "1/1 [==============================] - 0s 82ms/step\n",
      "Encoding in Progress Time step 40 \n",
      "1/1 [==============================] - 0s 78ms/step\n",
      "Encoding in Progress Time step 41 \n",
      "1/1 [==============================] - 0s 88ms/step\n",
      "Encoding in Progress Time step 42 \n",
      "1/1 [==============================] - 0s 80ms/step\n",
      "Encoding in Progress Time step 43 \n",
      "1/1 [==============================] - 0s 81ms/step\n",
      "Encoding in Progress Time step 44 \n",
      "1/1 [==============================] - 0s 79ms/step\n",
      "Encoding in Progress Time step 45 \n",
      "1/1 [==============================] - 0s 77ms/step\n",
      "Encoding in Progress Time step 46 \n",
      "1/1 [==============================] - 0s 82ms/step\n",
      "Encoding in Progress Time step 47 \n",
      "1/1 [==============================] - 0s 79ms/step\n",
      "Encoding in Progress Time step 48 \n",
      "1/1 [==============================] - 0s 79ms/step\n",
      "Encoding in Progress Time step 49 \n",
      "1/1 [==============================] - 0s 81ms/step\n",
      "Encoding in Progress Time step 50 \n",
      "1/1 [==============================] - 0s 79ms/step\n",
      "Encoding in Progress Time step 51 \n",
      "1/1 [==============================] - 0s 78ms/step\n",
      "Encoding in Progress Time step 52 \n",
      "1/1 [==============================] - 0s 94ms/step\n",
      "Encoding in Progress Time step 53 \n",
      "1/1 [==============================] - 0s 89ms/step\n",
      "Encoding in Progress Time step 54 \n",
      "1/1 [==============================] - 0s 83ms/step\n",
      "Encoding in Progress Time step 55 \n",
      "1/1 [==============================] - 0s 78ms/step\n",
      "Encoding in Progress Time step 56 \n",
      "1/1 [==============================] - 0s 82ms/step\n",
      "Encoding in Progress Time step 57 \n",
      "1/1 [==============================] - 0s 84ms/step\n",
      "Encoding in Progress Time step 58 \n",
      "1/1 [==============================] - 0s 81ms/step\n",
      "Encoding in Progress Time step 59 \n",
      "1/1 [==============================] - 0s 79ms/step\n",
      "Encoding in Progress Time step 60 \n",
      "1/1 [==============================] - 0s 81ms/step\n",
      "Encoding in Progress Time step 61 \n",
      "1/1 [==============================] - 0s 80ms/step\n",
      "Encoding in Progress Time step 62 \n",
      "1/1 [==============================] - 0s 80ms/step\n",
      "Encoding in Progress Time step 63 \n",
      "1/1 [==============================] - 0s 83ms/step\n",
      "Encoding in Progress Time step 64 \n",
      "1/1 [==============================] - 0s 85ms/step\n",
      "Encoding in Progress Time step 65 \n",
      "1/1 [==============================] - 0s 81ms/step\n",
      "Encoding in Progress Time step 66 \n",
      "1/1 [==============================] - 0s 86ms/step\n",
      "Encoding in Progress Time step 67 \n",
      "1/1 [==============================] - 0s 80ms/step\n",
      "Encoding in Progress Time step 68 \n",
      "1/1 [==============================] - 0s 77ms/step\n",
      "Encoding in Progress Time step 69 \n",
      "1/1 [==============================] - 0s 79ms/step\n",
      "Encoding in Progress Time step 70 \n",
      "1/1 [==============================] - 0s 80ms/step\n",
      "Encoding in Progress Time step 71 \n",
      "1/1 [==============================] - 0s 76ms/step\n",
      "Encoding in Progress Time step 72 \n",
      "1/1 [==============================] - 0s 80ms/step\n",
      "Encoding in Progress Time step 73 \n",
      "1/1 [==============================] - 0s 80ms/step\n",
      "Encoding in Progress Time step 74 \n",
      "1/1 [==============================] - 0s 97ms/step\n",
      "Encoding in Progress Time step 75 \n",
      "1/1 [==============================] - 0s 87ms/step\n",
      "Encoding in Progress Time step 76 \n",
      "1/1 [==============================] - 0s 82ms/step\n",
      "Encoding in Progress Time step 77 \n",
      "1/1 [==============================] - 0s 79ms/step\n",
      "Encoding in Progress Time step 78 \n",
      "1/1 [==============================] - 0s 78ms/step\n",
      "Encoding in Progress Time step 79 \n",
      "1/1 [==============================] - 0s 80ms/step\n",
      "Encoding in Progress Time step 80 \n",
      "1/1 [==============================] - 0s 78ms/step\n",
      "Encoding in Progress Time step 81 \n",
      "1/1 [==============================] - 0s 78ms/step\n",
      "Encoding in Progress Time step 82 \n",
      "1/1 [==============================] - 0s 79ms/step\n",
      "Encoding in Progress Time step 83 \n",
      "1/1 [==============================] - 0s 80ms/step\n",
      "Encoding in Progress Time step 84 \n",
      "1/1 [==============================] - 0s 79ms/step\n",
      "Encoding in Progress Time step 85 \n",
      "1/1 [==============================] - 0s 78ms/step\n",
      "Encoding in Progress Time step 86 \n",
      "1/1 [==============================] - 0s 83ms/step\n",
      "Encoding in Progress Time step 87 \n",
      "1/1 [==============================] - 0s 78ms/step\n",
      "Encoding in Progress Time step 88 \n",
      "1/1 [==============================] - 0s 78ms/step\n",
      "Encoding in Progress Time step 89 \n",
      "1/1 [==============================] - 0s 78ms/step\n",
      "Encoding in Progress Time step 90 \n",
      "1/1 [==============================] - 0s 78ms/step\n",
      "Encoding in Progress Time step 91 \n",
      "1/1 [==============================] - 0s 78ms/step\n",
      "Encoding in Progress Time step 92 \n",
      "1/1 [==============================] - 0s 81ms/step\n",
      "Encoding in Progress Time step 93 \n"
     ]
    },
    {
     "name": "stdout",
     "output_type": "stream",
     "text": [
      "1/1 [==============================] - 0s 79ms/step\n",
      "Encoding in Progress Time step 94 \n",
      "1/1 [==============================] - 0s 78ms/step\n",
      "Encoding in Progress Time step 95 \n",
      "1/1 [==============================] - 0s 81ms/step\n",
      "Encoding in Progress Time step 96 \n",
      "1/1 [==============================] - 0s 80ms/step\n",
      "Encoding in Progress Time step 97 \n",
      "1/1 [==============================] - 0s 80ms/step\n",
      "Encoding in Progress Time step 98 \n",
      "1/1 [==============================] - 0s 79ms/step\n",
      "Encoding in Progress Time step 99 \n",
      "Total Time Taken : 10.538025140762329\n"
     ]
    }
   ],
   "source": [
    "start_time = time()\n",
    "encoding_human ={}\n",
    "\n",
    "for ix,img in enumerate(all_images_human):\n",
    "    encoding_human[ix] = encode_image(img)\n",
    "    print(\"Encoding in Progress Time step %d \"%ix)\n",
    "\n",
    "end_time = time()\n",
    "print(\"Total Time Taken :\",end_time-start_time)"
   ]
  },
  {
   "cell_type": "code",
   "execution_count": 14,
   "id": "983bf324",
   "metadata": {},
   "outputs": [
    {
     "name": "stderr",
     "output_type": "stream",
     "text": [
      "A subdirectory or file saved already exists.\n"
     ]
    }
   ],
   "source": [
    "!mkdir saved"
   ]
  },
  {
   "cell_type": "code",
   "execution_count": 15,
   "id": "537b1560",
   "metadata": {},
   "outputs": [],
   "source": [
    "with open(\"saved/encoded_human_features.pkl\",\"wb\") as f:\n",
    "    pickle.dump(encoding_human,f)"
   ]
  },
  {
   "cell_type": "code",
   "execution_count": 16,
   "id": "1fbf5d64",
   "metadata": {},
   "outputs": [
    {
     "name": "stdout",
     "output_type": "stream",
     "text": [
      "1/1 [==============================] - 0s 79ms/step\n",
      "Encoding in Progress Time step 0 \n",
      "1/1 [==============================] - 0s 79ms/step\n",
      "Encoding in Progress Time step 1 \n",
      "1/1 [==============================] - 0s 78ms/step\n",
      "Encoding in Progress Time step 2 \n",
      "1/1 [==============================] - 0s 79ms/step\n",
      "Encoding in Progress Time step 3 \n",
      "1/1 [==============================] - 0s 81ms/step\n",
      "Encoding in Progress Time step 4 \n",
      "1/1 [==============================] - 0s 79ms/step\n",
      "Encoding in Progress Time step 5 \n",
      "1/1 [==============================] - 0s 78ms/step\n",
      "Encoding in Progress Time step 6 \n",
      "1/1 [==============================] - 0s 80ms/step\n",
      "Encoding in Progress Time step 7 \n",
      "1/1 [==============================] - 0s 78ms/step\n",
      "Encoding in Progress Time step 8 \n",
      "1/1 [==============================] - 0s 77ms/step\n",
      "Encoding in Progress Time step 9 \n",
      "1/1 [==============================] - 0s 78ms/step\n",
      "Encoding in Progress Time step 10 \n",
      "1/1 [==============================] - 0s 79ms/step\n",
      "Encoding in Progress Time step 11 \n",
      "1/1 [==============================] - 0s 80ms/step\n",
      "Encoding in Progress Time step 12 \n",
      "1/1 [==============================] - 0s 79ms/step\n",
      "Encoding in Progress Time step 13 \n",
      "1/1 [==============================] - 0s 80ms/step\n",
      "Encoding in Progress Time step 14 \n",
      "1/1 [==============================] - 0s 86ms/step\n",
      "Encoding in Progress Time step 15 \n",
      "1/1 [==============================] - 0s 84ms/step\n",
      "Encoding in Progress Time step 16 \n",
      "1/1 [==============================] - 0s 87ms/step\n",
      "Encoding in Progress Time step 17 \n",
      "1/1 [==============================] - 0s 103ms/step\n",
      "Encoding in Progress Time step 18 \n",
      "1/1 [==============================] - 0s 85ms/step\n",
      "Encoding in Progress Time step 19 \n",
      "1/1 [==============================] - 0s 82ms/step\n",
      "Encoding in Progress Time step 20 \n",
      "1/1 [==============================] - 0s 88ms/step\n",
      "Encoding in Progress Time step 21 \n",
      "1/1 [==============================] - 0s 83ms/step\n",
      "Encoding in Progress Time step 22 \n",
      "1/1 [==============================] - 0s 86ms/step\n",
      "Encoding in Progress Time step 23 \n",
      "1/1 [==============================] - 0s 86ms/step\n",
      "Encoding in Progress Time step 24 \n",
      "1/1 [==============================] - 0s 81ms/step\n",
      "Encoding in Progress Time step 25 \n",
      "1/1 [==============================] - 0s 81ms/step\n",
      "Encoding in Progress Time step 26 \n",
      "1/1 [==============================] - 0s 82ms/step\n",
      "Encoding in Progress Time step 27 \n",
      "1/1 [==============================] - 0s 81ms/step\n",
      "Encoding in Progress Time step 28 \n",
      "1/1 [==============================] - 0s 80ms/step\n",
      "Encoding in Progress Time step 29 \n",
      "1/1 [==============================] - 0s 79ms/step\n",
      "Encoding in Progress Time step 30 \n",
      "1/1 [==============================] - 0s 80ms/step\n",
      "Encoding in Progress Time step 31 \n",
      "1/1 [==============================] - 0s 80ms/step\n",
      "Encoding in Progress Time step 32 \n",
      "1/1 [==============================] - 0s 82ms/step\n",
      "Encoding in Progress Time step 33 \n",
      "1/1 [==============================] - 0s 82ms/step\n",
      "Encoding in Progress Time step 34 \n",
      "1/1 [==============================] - 0s 97ms/step\n",
      "Encoding in Progress Time step 35 \n",
      "1/1 [==============================] - 0s 93ms/step\n",
      "Encoding in Progress Time step 36 \n",
      "1/1 [==============================] - 0s 80ms/step\n",
      "Encoding in Progress Time step 37 \n",
      "1/1 [==============================] - 0s 95ms/step\n",
      "Encoding in Progress Time step 38 \n",
      "1/1 [==============================] - 0s 89ms/step\n",
      "Encoding in Progress Time step 39 \n",
      "1/1 [==============================] - 0s 81ms/step\n",
      "Encoding in Progress Time step 40 \n",
      "1/1 [==============================] - 0s 78ms/step\n",
      "Encoding in Progress Time step 41 \n",
      "1/1 [==============================] - 0s 80ms/step\n",
      "Encoding in Progress Time step 42 \n",
      "1/1 [==============================] - 0s 82ms/step\n",
      "Encoding in Progress Time step 43 \n",
      "1/1 [==============================] - 0s 79ms/step\n",
      "Encoding in Progress Time step 44 \n",
      "1/1 [==============================] - 0s 79ms/step\n",
      "Encoding in Progress Time step 45 \n",
      "1/1 [==============================] - 0s 79ms/step\n",
      "Encoding in Progress Time step 46 \n",
      "1/1 [==============================] - 0s 78ms/step\n",
      "Encoding in Progress Time step 47 \n",
      "1/1 [==============================] - 0s 79ms/step\n",
      "Encoding in Progress Time step 48 \n",
      "1/1 [==============================] - 0s 81ms/step\n",
      "Encoding in Progress Time step 49 \n",
      "1/1 [==============================] - 0s 94ms/step\n",
      "Encoding in Progress Time step 50 \n",
      "1/1 [==============================] - 0s 98ms/step\n",
      "Encoding in Progress Time step 51 \n",
      "1/1 [==============================] - 0s 84ms/step\n",
      "Encoding in Progress Time step 52 \n",
      "1/1 [==============================] - 0s 82ms/step\n",
      "Encoding in Progress Time step 53 \n",
      "1/1 [==============================] - 0s 81ms/step\n",
      "Encoding in Progress Time step 54 \n",
      "1/1 [==============================] - 0s 81ms/step\n",
      "Encoding in Progress Time step 55 \n",
      "1/1 [==============================] - 0s 79ms/step\n",
      "Encoding in Progress Time step 56 \n",
      "1/1 [==============================] - 0s 79ms/step\n",
      "Encoding in Progress Time step 57 \n",
      "1/1 [==============================] - 0s 80ms/step\n",
      "Encoding in Progress Time step 58 \n",
      "1/1 [==============================] - 0s 80ms/step\n",
      "Encoding in Progress Time step 59 \n",
      "1/1 [==============================] - 0s 81ms/step\n",
      "Encoding in Progress Time step 60 \n",
      "1/1 [==============================] - 0s 81ms/step\n",
      "Encoding in Progress Time step 61 \n",
      "1/1 [==============================] - 0s 81ms/step\n",
      "Encoding in Progress Time step 62 \n",
      "1/1 [==============================] - 0s 83ms/step\n",
      "Encoding in Progress Time step 63 \n",
      "1/1 [==============================] - 0s 81ms/step\n",
      "Encoding in Progress Time step 64 \n",
      "1/1 [==============================] - 0s 79ms/step\n",
      "Encoding in Progress Time step 65 \n",
      "1/1 [==============================] - 0s 80ms/step\n",
      "Encoding in Progress Time step 66 \n",
      "1/1 [==============================] - 0s 80ms/step\n",
      "Encoding in Progress Time step 67 \n",
      "1/1 [==============================] - 0s 79ms/step\n",
      "Encoding in Progress Time step 68 \n",
      "1/1 [==============================] - 0s 79ms/step\n",
      "Encoding in Progress Time step 69 \n",
      "1/1 [==============================] - 0s 81ms/step\n",
      "Encoding in Progress Time step 70 \n",
      "1/1 [==============================] - 0s 80ms/step\n",
      "Encoding in Progress Time step 71 \n",
      "1/1 [==============================] - 0s 80ms/step\n",
      "Encoding in Progress Time step 72 \n",
      "1/1 [==============================] - 0s 86ms/step\n",
      "Encoding in Progress Time step 73 \n",
      "1/1 [==============================] - 0s 80ms/step\n",
      "Encoding in Progress Time step 74 \n",
      "1/1 [==============================] - 0s 78ms/step\n",
      "Encoding in Progress Time step 75 \n",
      "1/1 [==============================] - 0s 80ms/step\n",
      "Encoding in Progress Time step 76 \n",
      "1/1 [==============================] - 0s 79ms/step\n",
      "Encoding in Progress Time step 77 \n",
      "1/1 [==============================] - 0s 80ms/step\n",
      "Encoding in Progress Time step 78 \n",
      "1/1 [==============================] - 0s 82ms/step\n",
      "Encoding in Progress Time step 79 \n",
      "1/1 [==============================] - 0s 80ms/step\n",
      "Encoding in Progress Time step 80 \n",
      "1/1 [==============================] - 0s 82ms/step\n",
      "Encoding in Progress Time step 81 \n",
      "1/1 [==============================] - 0s 81ms/step\n",
      "Encoding in Progress Time step 82 \n",
      "1/1 [==============================] - 0s 86ms/step\n",
      "Encoding in Progress Time step 83 \n",
      "1/1 [==============================] - 0s 79ms/step\n",
      "Encoding in Progress Time step 84 \n",
      "1/1 [==============================] - 0s 80ms/step\n",
      "Encoding in Progress Time step 85 \n",
      "1/1 [==============================] - 0s 80ms/step\n",
      "Encoding in Progress Time step 86 \n",
      "1/1 [==============================] - 0s 80ms/step\n",
      "Encoding in Progress Time step 87 \n",
      "1/1 [==============================] - 0s 80ms/step\n",
      "Encoding in Progress Time step 88 \n",
      "1/1 [==============================] - 0s 82ms/step\n",
      "Encoding in Progress Time step 89 \n",
      "1/1 [==============================] - 0s 80ms/step\n",
      "Encoding in Progress Time step 90 \n",
      "1/1 [==============================] - 0s 79ms/step\n",
      "Encoding in Progress Time step 91 \n",
      "1/1 [==============================] - 0s 80ms/step\n",
      "Encoding in Progress Time step 92 \n",
      "1/1 [==============================] - 0s 83ms/step\n",
      "Encoding in Progress Time step 93 \n"
     ]
    },
    {
     "name": "stdout",
     "output_type": "stream",
     "text": [
      "1/1 [==============================] - 0s 80ms/step\n",
      "Encoding in Progress Time step 94 \n",
      "1/1 [==============================] - 0s 80ms/step\n",
      "Encoding in Progress Time step 95 \n",
      "1/1 [==============================] - 0s 81ms/step\n",
      "Encoding in Progress Time step 96 \n",
      "1/1 [==============================] - 0s 79ms/step\n",
      "Encoding in Progress Time step 97 \n",
      "1/1 [==============================] - 0s 79ms/step\n",
      "Encoding in Progress Time step 98 \n",
      "1/1 [==============================] - 0s 80ms/step\n",
      "Encoding in Progress Time step 99 \n",
      "Total Time Taken : 10.281441688537598\n"
     ]
    }
   ],
   "source": [
    "start_time = time()\n",
    "encoding_anime ={}\n",
    "\n",
    "for ix,img in enumerate(all_images_anime):\n",
    "    encoding_anime[ix] = encode_image(img)\n",
    "    print(\"Encoding in Progress Time step %d \"%ix)\n",
    "\n",
    "end_time = time()\n",
    "print(\"Total Time Taken :\",end_time-start_time)"
   ]
  },
  {
   "cell_type": "code",
   "execution_count": null,
   "id": "a9d463f3",
   "metadata": {},
   "outputs": [],
   "source": []
  },
  {
   "cell_type": "code",
   "execution_count": 17,
   "id": "3d2d15a7",
   "metadata": {},
   "outputs": [],
   "source": [
    "with open(\"saved/encoded_anime_features.pkl\",\"wb\") as f:\n",
    "    pickle.dump(encoding_anime,f)"
   ]
  },
  {
   "cell_type": "code",
   "execution_count": 18,
   "id": "5179ca7e",
   "metadata": {},
   "outputs": [
    {
     "name": "stdout",
     "output_type": "stream",
     "text": [
      "[[[[ 0.        14.798872   0.        ...  0.         9.651168\n",
      "     0.       ]\n",
      "   [ 0.        27.7459     8.123304  ...  0.         7.3848796\n",
      "     0.       ]\n",
      "   [12.931753  36.33536   15.783932  ...  0.        11.888419\n",
      "     0.       ]\n",
      "   ...\n",
      "   [ 9.15686   27.560736  11.734443  ...  0.         8.319649\n",
      "     0.       ]\n",
      "   [15.905256  23.456383   0.        ...  0.         9.31785\n",
      "     0.       ]\n",
      "   [18.497946  16.825985  14.081259  ...  0.        13.493015\n",
      "     0.       ]]\n",
      "\n",
      "  [[18.306839  15.617424   0.        ...  0.        12.984396\n",
      "     0.       ]\n",
      "   [ 0.        30.249598  33.19456   ...  0.         7.791607\n",
      "     0.       ]\n",
      "   [10.446434  40.81457   44.98295   ...  0.         7.230574\n",
      "     0.       ]\n",
      "   ...\n",
      "   [ 0.        44.18025   37.061462  ...  0.        18.666754\n",
      "     0.       ]\n",
      "   [ 0.        42.65804   28.388031  ...  0.        19.120424\n",
      "     0.       ]\n",
      "   [23.66988   33.68049   40.756958  ...  0.        21.087057\n",
      "     0.       ]]\n",
      "\n",
      "  [[28.724642  16.365015   0.        ...  0.         9.182892\n",
      "     0.       ]\n",
      "   [ 0.        32.758224  12.008457  ...  0.         4.0454373\n",
      "     0.       ]\n",
      "   [ 6.165485  35.26495   23.22448   ...  0.         2.0980914\n",
      "     0.       ]\n",
      "   ...\n",
      "   [ 0.        39.411682  12.860827  ...  0.        17.111155\n",
      "     0.       ]\n",
      "   [ 0.        39.45435   16.055635  ...  0.        20.079254\n",
      "     0.       ]\n",
      "   [35.825153  30.088118  32.458965  ...  0.        23.83057\n",
      "     0.       ]]\n",
      "\n",
      "  ...\n",
      "\n",
      "  [[28.686554  15.837692   0.        ...  0.        14.581892\n",
      "     0.       ]\n",
      "   [ 1.911414  35.246956   0.        ...  0.        15.489856\n",
      "     0.       ]\n",
      "   [22.938665  23.763243   0.        ...  0.         9.49099\n",
      "     0.       ]\n",
      "   ...\n",
      "   [ 0.9078104  0.         0.        ...  0.         9.03014\n",
      "     0.       ]\n",
      "   [ 0.         0.         0.        ...  0.         5.962952\n",
      "     0.       ]\n",
      "   [ 0.         0.         0.        ...  0.        22.503424\n",
      "     0.       ]]\n",
      "\n",
      "  [[23.482067  14.393909   0.        ...  0.        13.471167\n",
      "     0.       ]\n",
      "   [ 0.        22.811604   0.        ...  0.        14.296157\n",
      "     0.       ]\n",
      "   [13.055313  19.351908   0.        ...  0.        21.011097\n",
      "     0.       ]\n",
      "   ...\n",
      "   [33.322575   0.         0.        ...  0.         0.\n",
      "     0.       ]\n",
      "   [ 0.         0.         0.        ...  0.         0.\n",
      "     0.       ]\n",
      "   [ 0.         0.         0.        ...  0.         3.9705536\n",
      "     0.       ]]\n",
      "\n",
      "  [[14.062625  33.56371    3.7634811 ...  0.2832824 18.471598\n",
      "     2.473702 ]\n",
      "   [24.618702  52.612022  10.513925  ...  0.        25.598501\n",
      "     0.       ]\n",
      "   [37.651028  50.49204    5.243984  ...  0.        26.635193\n",
      "     0.       ]\n",
      "   ...\n",
      "   [36.045525   9.464407   0.        ...  0.         7.212044\n",
      "    15.23007  ]\n",
      "   [ 5.569927  15.367837   0.        ...  0.         1.5198718\n",
      "     9.004707 ]\n",
      "   [ 0.        12.811963  16.085459  ...  0.        12.397724\n",
      "     5.4534307]]]]\n",
      "(1, 28, 28, 512)\n"
     ]
    }
   ],
   "source": [
    "print(encoding_anime[0])\n",
    "print(encoding_anime[0].shape)"
   ]
  },
  {
   "cell_type": "code",
   "execution_count": 19,
   "id": "f6c8ea1d",
   "metadata": {},
   "outputs": [],
   "source": [
    "def get_mean_std(x, epsilon=1e-5):\n",
    "\n",
    "    # Compute the mean and standard deviation of a tensor.\n",
    "    mean = np.mean(x)\n",
    "    standard_deviation = np.std(x)\n",
    "    return mean, standard_deviation"
   ]
  },
  {
   "cell_type": "code",
   "execution_count": 20,
   "id": "0f3c3d27",
   "metadata": {},
   "outputs": [],
   "source": [
    "def ada_in(style, content):\n",
    "    \"\"\"Computes the AdaIn feature map.\n",
    "\n",
    "    Args:\n",
    "        style: The style feature map.\n",
    "        content: The content feature map.\n",
    "\n",
    "    Returns:\n",
    "        The AdaIN feature map.\n",
    "    \"\"\"\n",
    "    content_mean, content_std = get_mean_std(content)\n",
    "    style_mean, style_std = get_mean_std(style)\n",
    "    t = style_std * (content - content_mean) / content_std + style_mean\n",
    "    return t"
   ]
  },
  {
   "cell_type": "code",
   "execution_count": 21,
   "id": "668ff3d6",
   "metadata": {},
   "outputs": [
    {
     "name": "stdout",
     "output_type": "stream",
     "text": [
      "(1, 28, 28, 512)\n",
      "(28, 28, 512)\n"
     ]
    }
   ],
   "source": [
    "#example\n",
    "res = ada_in(encoding_anime[0], encoding_human[0])\n",
    "# print(res)\n",
    "print(res.shape)\n",
    "print(res[0].shape)"
   ]
  },
  {
   "cell_type": "code",
   "execution_count": 22,
   "id": "83e69396",
   "metadata": {},
   "outputs": [],
   "source": [
    "#decoder part"
   ]
  },
  {
   "cell_type": "code",
   "execution_count": 23,
   "id": "7b0ed378",
   "metadata": {},
   "outputs": [],
   "source": [
    "x0 = Input(shape = (28, 28, 512))\n",
    "x1 = Conv2D(256, (3, 3), activation='relu', padding='same')(x0)\n",
    "x2 = UpSampling2D((2, 2))(x1)\n",
    "\n",
    "x3 = Conv2D(256, (3, 3), activation='relu', padding='same')(x2)\n",
    "x4 = Conv2D(256, (3, 3), activation='relu', padding='same')(x3)\n",
    "x5 = Conv2D(256, (3, 3), activation='relu', padding='same')(x4)\n",
    "x6 = Conv2D(128, (3, 3), activation='relu', padding='same')(x5)\n",
    "x7 = UpSampling2D((2, 2))(x6)\n",
    "\n",
    "x8 = Conv2D(128, (3, 3), activation='relu', padding='same')(x7)\n",
    "x9 = Conv2D(64, (3, 3), activation='relu', padding='same')(x8)\n",
    "x10 = UpSampling2D((2, 2))(x9)\n",
    "\n",
    "x11 = Conv2D(64, (3, 3), activation='relu', padding='same')(x10)\n",
    "x12 = Conv2D(3, (3, 3), activation='relu', padding='same')(x11)"
   ]
  },
  {
   "cell_type": "code",
   "execution_count": 24,
   "id": "c9eee78a",
   "metadata": {},
   "outputs": [
    {
     "data": {
      "text/plain": [
       "<keras.engine.functional.Functional at 0x234db9edba0>"
      ]
     },
     "execution_count": 24,
     "metadata": {},
     "output_type": "execute_result"
    }
   ],
   "source": [
    "decoder = Model(x0, x12)\n",
    "decoder.compile(optimizer='adam', loss='mse')\n",
    "decoder"
   ]
  },
  {
   "cell_type": "code",
   "execution_count": 25,
   "id": "05b68221",
   "metadata": {},
   "outputs": [
    {
     "name": "stdout",
     "output_type": "stream",
     "text": [
      "Model: \"model_1\"\n",
      "_________________________________________________________________\n",
      " Layer (type)                Output Shape              Param #   \n",
      "=================================================================\n",
      " input_2 (InputLayer)        [(None, 28, 28, 512)]     0         \n",
      "                                                                 \n",
      " conv2d (Conv2D)             (None, 28, 28, 256)       1179904   \n",
      "                                                                 \n",
      " up_sampling2d (UpSampling2D  (None, 56, 56, 256)      0         \n",
      " )                                                               \n",
      "                                                                 \n",
      " conv2d_1 (Conv2D)           (None, 56, 56, 256)       590080    \n",
      "                                                                 \n",
      " conv2d_2 (Conv2D)           (None, 56, 56, 256)       590080    \n",
      "                                                                 \n",
      " conv2d_3 (Conv2D)           (None, 56, 56, 256)       590080    \n",
      "                                                                 \n",
      " conv2d_4 (Conv2D)           (None, 56, 56, 128)       295040    \n",
      "                                                                 \n",
      " up_sampling2d_1 (UpSampling  (None, 112, 112, 128)    0         \n",
      " 2D)                                                             \n",
      "                                                                 \n",
      " conv2d_5 (Conv2D)           (None, 112, 112, 128)     147584    \n",
      "                                                                 \n",
      " conv2d_6 (Conv2D)           (None, 112, 112, 64)      73792     \n",
      "                                                                 \n",
      " up_sampling2d_2 (UpSampling  (None, 224, 224, 64)     0         \n",
      " 2D)                                                             \n",
      "                                                                 \n",
      " conv2d_7 (Conv2D)           (None, 224, 224, 64)      36928     \n",
      "                                                                 \n",
      " conv2d_8 (Conv2D)           (None, 224, 224, 3)       1731      \n",
      "                                                                 \n",
      "=================================================================\n",
      "Total params: 3,505,219\n",
      "Trainable params: 3,505,219\n",
      "Non-trainable params: 0\n",
      "_________________________________________________________________\n",
      "None\n"
     ]
    }
   ],
   "source": [
    "print(decoder.summary())"
   ]
  },
  {
   "cell_type": "code",
   "execution_count": 32,
   "id": "7f5187e4",
   "metadata": {},
   "outputs": [
    {
     "name": "stdout",
     "output_type": "stream",
     "text": [
      "1/1 [==============================] - 0s 144ms/step\n"
     ]
    }
   ],
   "source": [
    "predictions = decoder.predict(res)"
   ]
  },
  {
   "cell_type": "code",
   "execution_count": 27,
   "id": "0bd33c63",
   "metadata": {},
   "outputs": [
    {
     "name": "stdout",
     "output_type": "stream",
     "text": [
      "Encoding in Progress Time step 0 \n",
      "Encoding in Progress Time step 1 \n",
      "Encoding in Progress Time step 2 \n",
      "Encoding in Progress Time step 3 \n",
      "Encoding in Progress Time step 4 \n",
      "Encoding in Progress Time step 5 \n",
      "Encoding in Progress Time step 6 \n",
      "Encoding in Progress Time step 7 \n",
      "Encoding in Progress Time step 8 \n",
      "Encoding in Progress Time step 9 \n",
      "Encoding in Progress Time step 10 \n",
      "Encoding in Progress Time step 11 \n",
      "Encoding in Progress Time step 12 \n",
      "Encoding in Progress Time step 13 \n",
      "Encoding in Progress Time step 14 \n",
      "Encoding in Progress Time step 15 \n",
      "Encoding in Progress Time step 16 \n",
      "Encoding in Progress Time step 17 \n",
      "Encoding in Progress Time step 18 \n",
      "Encoding in Progress Time step 19 \n",
      "Encoding in Progress Time step 20 \n",
      "Encoding in Progress Time step 21 \n",
      "Encoding in Progress Time step 22 \n",
      "Encoding in Progress Time step 23 \n",
      "Encoding in Progress Time step 24 \n",
      "Encoding in Progress Time step 25 \n",
      "Encoding in Progress Time step 26 \n",
      "Encoding in Progress Time step 27 \n",
      "Encoding in Progress Time step 28 \n",
      "Encoding in Progress Time step 29 \n",
      "Encoding in Progress Time step 30 \n",
      "Encoding in Progress Time step 31 \n",
      "Encoding in Progress Time step 32 \n",
      "Encoding in Progress Time step 33 \n",
      "Encoding in Progress Time step 34 \n",
      "Encoding in Progress Time step 35 \n",
      "Encoding in Progress Time step 36 \n",
      "Encoding in Progress Time step 37 \n",
      "Encoding in Progress Time step 38 \n",
      "Encoding in Progress Time step 39 \n",
      "Encoding in Progress Time step 40 \n",
      "Encoding in Progress Time step 41 \n",
      "Encoding in Progress Time step 42 \n",
      "Encoding in Progress Time step 43 \n",
      "Encoding in Progress Time step 44 \n",
      "Encoding in Progress Time step 45 \n",
      "Encoding in Progress Time step 46 \n",
      "Encoding in Progress Time step 47 \n",
      "Encoding in Progress Time step 48 \n",
      "Encoding in Progress Time step 49 \n",
      "Encoding in Progress Time step 50 \n",
      "Encoding in Progress Time step 51 \n",
      "Encoding in Progress Time step 52 \n",
      "Encoding in Progress Time step 53 \n",
      "Encoding in Progress Time step 54 \n",
      "Encoding in Progress Time step 55 \n",
      "Encoding in Progress Time step 56 \n",
      "Encoding in Progress Time step 57 \n",
      "Encoding in Progress Time step 58 \n",
      "Encoding in Progress Time step 59 \n",
      "Encoding in Progress Time step 60 \n",
      "Encoding in Progress Time step 61 \n",
      "Encoding in Progress Time step 62 \n",
      "Encoding in Progress Time step 63 \n",
      "Encoding in Progress Time step 64 \n",
      "Encoding in Progress Time step 65 \n",
      "Encoding in Progress Time step 66 \n",
      "Encoding in Progress Time step 67 \n",
      "Encoding in Progress Time step 68 \n",
      "Encoding in Progress Time step 69 \n",
      "Encoding in Progress Time step 70 \n",
      "Encoding in Progress Time step 71 \n",
      "Encoding in Progress Time step 72 \n",
      "Encoding in Progress Time step 73 \n",
      "Encoding in Progress Time step 74 \n",
      "Encoding in Progress Time step 75 \n",
      "Encoding in Progress Time step 76 \n",
      "Encoding in Progress Time step 77 \n",
      "Encoding in Progress Time step 78 \n",
      "Encoding in Progress Time step 79 \n",
      "Encoding in Progress Time step 80 \n",
      "Encoding in Progress Time step 81 \n",
      "Encoding in Progress Time step 82 \n",
      "Encoding in Progress Time step 83 \n",
      "Encoding in Progress Time step 84 \n",
      "Encoding in Progress Time step 85 \n",
      "Encoding in Progress Time step 86 \n",
      "Encoding in Progress Time step 87 \n",
      "Encoding in Progress Time step 88 \n",
      "Encoding in Progress Time step 89 \n",
      "Encoding in Progress Time step 90 \n",
      "Encoding in Progress Time step 91 \n",
      "Encoding in Progress Time step 92 \n",
      "Encoding in Progress Time step 93 \n",
      "Encoding in Progress Time step 94 \n",
      "Encoding in Progress Time step 95 \n",
      "Encoding in Progress Time step 96 \n",
      "Encoding in Progress Time step 97 \n",
      "Encoding in Progress Time step 98 \n",
      "Encoding in Progress Time step 99 \n",
      "Total Time Taken : 0.48134779930114746\n"
     ]
    }
   ],
   "source": [
    "start_time = time()\n",
    "encoding_combined = {}\n",
    "\n",
    "for ix,img in enumerate(encoding_anime):\n",
    "    encoding_combined[ix] = ada_in(encoding_anime[ix], encoding_human[ix])\n",
    "    print(\"Encoding in Progress Time step %d \"%ix)\n",
    "\n",
    "end_time = time()\n",
    "print(\"Total Time Taken :\",end_time-start_time)"
   ]
  },
  {
   "cell_type": "code",
   "execution_count": 40,
   "id": "dfcb25ad",
   "metadata": {},
   "outputs": [
    {
     "name": "stderr",
     "output_type": "stream",
     "text": [
      "100%|████████████████████████████████████████████████████████████████████████████████████████| 100/100 [00:00<?, ?it/s]\n"
     ]
    },
    {
     "data": {
      "text/plain": [
       "(1, 224, 224, 3)"
      ]
     },
     "execution_count": 40,
     "metadata": {},
     "output_type": "execute_result"
    }
   ],
   "source": [
    "encoding_list = list(encoding_combined.values())\n",
    "desired_ans = []\n",
    "for i in tqdm(all_images_anime):\n",
    "    desired_ans.append(i[0])\n",
    "#     print(i.shape)\n",
    "#     print(i[0].shape)\n",
    "\n",
    "desired_ans[0].shape\n",
    "all_images_anime[0].shape"
   ]
  },
  {
   "cell_type": "code",
   "execution_count": 29,
   "id": "74ebba2f",
   "metadata": {},
   "outputs": [
    {
     "name": "stdout",
     "output_type": "stream",
     "text": [
      "100\n",
      "100\n"
     ]
    },
    {
     "data": {
      "text/plain": [
       "(1, 28, 28, 512)"
      ]
     },
     "execution_count": 29,
     "metadata": {},
     "output_type": "execute_result"
    }
   ],
   "source": [
    "print(len(encoding_list))\n",
    "print(len(desired_ans))\n",
    "encoding_list[0].shape"
   ]
  },
  {
   "cell_type": "code",
   "execution_count": 43,
   "id": "ed328ceb",
   "metadata": {},
   "outputs": [],
   "source": [
    "#Problem in this part.\n",
    "#unable to fit somehow....\n",
    "# we are directly predicting the results without fitting the data...\n",
    "# as a result the results are random images.\n",
    "\n",
    "# d_e = decoder.fit(encoding_list, all_images_anime)"
   ]
  },
  {
   "cell_type": "code",
   "execution_count": 44,
   "id": "9ebb6f17",
   "metadata": {
    "scrolled": true
   },
   "outputs": [
    {
     "name": "stderr",
     "output_type": "stream",
     "text": [
      "\r",
      "  0%|                                                                                          | 0/100 [00:00<?, ?it/s]"
     ]
    },
    {
     "name": "stdout",
     "output_type": "stream",
     "text": [
      "1/1 [==============================] - 0s 88ms/step\n"
     ]
    },
    {
     "name": "stderr",
     "output_type": "stream",
     "text": [
      "\r",
      "  1%|▊                                                                                 | 1/100 [00:00<00:11,  8.59it/s]"
     ]
    },
    {
     "name": "stdout",
     "output_type": "stream",
     "text": [
      "1/1 [==============================] - 0s 86ms/step\n"
     ]
    },
    {
     "name": "stderr",
     "output_type": "stream",
     "text": [
      "\r",
      "  2%|█▋                                                                                | 2/100 [00:00<00:11,  8.86it/s]"
     ]
    },
    {
     "name": "stdout",
     "output_type": "stream",
     "text": [
      "1/1 [==============================] - 0s 88ms/step\n"
     ]
    },
    {
     "name": "stderr",
     "output_type": "stream",
     "text": [
      "\r",
      "  3%|██▍                                                                               | 3/100 [00:00<00:10,  8.87it/s]"
     ]
    },
    {
     "name": "stdout",
     "output_type": "stream",
     "text": [
      "1/1 [==============================] - 0s 90ms/step\n"
     ]
    },
    {
     "name": "stderr",
     "output_type": "stream",
     "text": [
      "\r",
      "  4%|███▎                                                                              | 4/100 [00:00<00:10,  8.83it/s]"
     ]
    },
    {
     "name": "stdout",
     "output_type": "stream",
     "text": [
      "1/1 [==============================] - 0s 87ms/step\n"
     ]
    },
    {
     "name": "stderr",
     "output_type": "stream",
     "text": [
      "\r",
      "  5%|████                                                                              | 5/100 [00:00<00:10,  8.88it/s]"
     ]
    },
    {
     "name": "stdout",
     "output_type": "stream",
     "text": [
      "1/1 [==============================] - 0s 89ms/step\n"
     ]
    },
    {
     "name": "stderr",
     "output_type": "stream",
     "text": [
      "\r",
      "  6%|████▉                                                                             | 6/100 [00:00<00:10,  8.91it/s]"
     ]
    },
    {
     "name": "stdout",
     "output_type": "stream",
     "text": [
      "1/1 [==============================] - 0s 89ms/step\n"
     ]
    },
    {
     "name": "stderr",
     "output_type": "stream",
     "text": [
      "\r",
      "  7%|█████▋                                                                            | 7/100 [00:00<00:10,  8.88it/s]"
     ]
    },
    {
     "name": "stdout",
     "output_type": "stream",
     "text": [
      "1/1 [==============================] - 0s 85ms/step\n"
     ]
    },
    {
     "name": "stderr",
     "output_type": "stream",
     "text": [
      "\r",
      "  8%|██████▌                                                                           | 8/100 [00:00<00:10,  9.01it/s]"
     ]
    },
    {
     "name": "stdout",
     "output_type": "stream",
     "text": [
      "1/1 [==============================] - 0s 87ms/step\n"
     ]
    },
    {
     "name": "stderr",
     "output_type": "stream",
     "text": [
      "\r",
      "  9%|███████▍                                                                          | 9/100 [00:01<00:10,  8.99it/s]"
     ]
    },
    {
     "name": "stdout",
     "output_type": "stream",
     "text": [
      "1/1 [==============================] - 0s 87ms/step\n"
     ]
    },
    {
     "name": "stderr",
     "output_type": "stream",
     "text": [
      "\r",
      " 10%|████████                                                                         | 10/100 [00:01<00:10,  8.96it/s]"
     ]
    },
    {
     "name": "stdout",
     "output_type": "stream",
     "text": [
      "1/1 [==============================] - 0s 89ms/step\n"
     ]
    },
    {
     "name": "stderr",
     "output_type": "stream",
     "text": [
      "\r",
      " 11%|████████▉                                                                        | 11/100 [00:01<00:09,  8.91it/s]"
     ]
    },
    {
     "name": "stdout",
     "output_type": "stream",
     "text": [
      "1/1 [==============================] - 0s 86ms/step\n"
     ]
    },
    {
     "name": "stderr",
     "output_type": "stream",
     "text": [
      "\r",
      " 12%|█████████▋                                                                       | 12/100 [00:01<00:09,  8.90it/s]"
     ]
    },
    {
     "name": "stdout",
     "output_type": "stream",
     "text": [
      "1/1 [==============================] - 0s 88ms/step\n"
     ]
    },
    {
     "name": "stderr",
     "output_type": "stream",
     "text": [
      "\r",
      " 13%|██████████▌                                                                      | 13/100 [00:01<00:09,  8.97it/s]"
     ]
    },
    {
     "name": "stdout",
     "output_type": "stream",
     "text": [
      "1/1 [==============================] - 0s 90ms/step\n"
     ]
    },
    {
     "name": "stderr",
     "output_type": "stream",
     "text": [
      "\r",
      " 14%|███████████▎                                                                     | 14/100 [00:01<00:09,  8.97it/s]"
     ]
    },
    {
     "name": "stdout",
     "output_type": "stream",
     "text": [
      "1/1 [==============================] - 0s 88ms/step\n"
     ]
    },
    {
     "name": "stderr",
     "output_type": "stream",
     "text": [
      "\r",
      " 15%|████████████▏                                                                    | 15/100 [00:01<00:09,  9.02it/s]"
     ]
    },
    {
     "name": "stdout",
     "output_type": "stream",
     "text": [
      "1/1 [==============================] - 0s 88ms/step\n"
     ]
    },
    {
     "name": "stderr",
     "output_type": "stream",
     "text": [
      "\r",
      " 16%|████████████▉                                                                    | 16/100 [00:01<00:09,  9.05it/s]"
     ]
    },
    {
     "name": "stdout",
     "output_type": "stream",
     "text": [
      "1/1 [==============================] - 0s 87ms/step\n"
     ]
    },
    {
     "name": "stderr",
     "output_type": "stream",
     "text": [
      "\r",
      " 17%|█████████████▊                                                                   | 17/100 [00:01<00:09,  9.06it/s]"
     ]
    },
    {
     "name": "stdout",
     "output_type": "stream",
     "text": [
      "1/1 [==============================] - 0s 97ms/step\n"
     ]
    },
    {
     "name": "stderr",
     "output_type": "stream",
     "text": [
      "\r",
      " 18%|██████████████▌                                                                  | 18/100 [00:02<00:09,  8.73it/s]"
     ]
    },
    {
     "name": "stdout",
     "output_type": "stream",
     "text": [
      "1/1 [==============================] - 0s 89ms/step\n"
     ]
    },
    {
     "name": "stderr",
     "output_type": "stream",
     "text": [
      "\r",
      " 19%|███████████████▍                                                                 | 19/100 [00:02<00:09,  8.80it/s]"
     ]
    },
    {
     "name": "stdout",
     "output_type": "stream",
     "text": [
      "1/1 [==============================] - 0s 88ms/step\n"
     ]
    },
    {
     "name": "stderr",
     "output_type": "stream",
     "text": [
      "\r",
      " 20%|████████████████▏                                                                | 20/100 [00:02<00:09,  8.87it/s]"
     ]
    },
    {
     "name": "stdout",
     "output_type": "stream",
     "text": [
      "1/1 [==============================] - 0s 90ms/step\n"
     ]
    },
    {
     "name": "stderr",
     "output_type": "stream",
     "text": [
      "\r",
      " 21%|█████████████████                                                                | 21/100 [00:02<00:08,  8.87it/s]"
     ]
    },
    {
     "name": "stdout",
     "output_type": "stream",
     "text": [
      "1/1 [==============================] - 0s 86ms/step\n"
     ]
    },
    {
     "name": "stderr",
     "output_type": "stream",
     "text": [
      "\r",
      " 22%|█████████████████▊                                                               | 22/100 [00:02<00:08,  8.85it/s]"
     ]
    },
    {
     "name": "stdout",
     "output_type": "stream",
     "text": [
      "1/1 [==============================] - 0s 91ms/step\n"
     ]
    },
    {
     "name": "stderr",
     "output_type": "stream",
     "text": [
      "\r",
      " 23%|██████████████████▋                                                              | 23/100 [00:02<00:12,  6.37it/s]"
     ]
    },
    {
     "name": "stdout",
     "output_type": "stream",
     "text": [
      "1/1 [==============================] - 0s 95ms/step\n"
     ]
    },
    {
     "name": "stderr",
     "output_type": "stream",
     "text": [
      "\r",
      " 24%|███████████████████▍                                                             | 24/100 [00:02<00:11,  6.78it/s]"
     ]
    },
    {
     "name": "stdout",
     "output_type": "stream",
     "text": [
      "1/1 [==============================] - 0s 95ms/step\n"
     ]
    },
    {
     "name": "stderr",
     "output_type": "stream",
     "text": [
      "\r",
      " 25%|████████████████████▎                                                            | 25/100 [00:02<00:10,  7.16it/s]"
     ]
    },
    {
     "name": "stdout",
     "output_type": "stream",
     "text": [
      "1/1 [==============================] - 0s 100ms/step\n"
     ]
    },
    {
     "name": "stderr",
     "output_type": "stream",
     "text": [
      "\r",
      " 26%|█████████████████████                                                            | 26/100 [00:03<00:10,  7.39it/s]"
     ]
    },
    {
     "name": "stdout",
     "output_type": "stream",
     "text": [
      "1/1 [==============================] - 0s 98ms/step\n"
     ]
    },
    {
     "name": "stderr",
     "output_type": "stream",
     "text": [
      "\r",
      " 27%|█████████████████████▊                                                           | 27/100 [00:03<00:09,  7.47it/s]"
     ]
    },
    {
     "name": "stdout",
     "output_type": "stream",
     "text": [
      "1/1 [==============================] - 0s 98ms/step\n"
     ]
    },
    {
     "name": "stderr",
     "output_type": "stream",
     "text": [
      "\r",
      " 28%|██████████████████████▋                                                          | 28/100 [00:03<00:09,  7.60it/s]"
     ]
    },
    {
     "name": "stdout",
     "output_type": "stream",
     "text": [
      "1/1 [==============================] - 0s 96ms/step\n"
     ]
    },
    {
     "name": "stderr",
     "output_type": "stream",
     "text": [
      "\r",
      " 29%|███████████████████████▍                                                         | 29/100 [00:03<00:09,  7.74it/s]"
     ]
    },
    {
     "name": "stdout",
     "output_type": "stream",
     "text": [
      "1/1 [==============================] - 0s 91ms/step\n"
     ]
    },
    {
     "name": "stderr",
     "output_type": "stream",
     "text": [
      "\r",
      " 30%|████████████████████████▎                                                        | 30/100 [00:03<00:08,  8.03it/s]"
     ]
    },
    {
     "name": "stdout",
     "output_type": "stream",
     "text": [
      "1/1 [==============================] - 0s 90ms/step\n"
     ]
    },
    {
     "name": "stderr",
     "output_type": "stream",
     "text": [
      "\r",
      " 31%|█████████████████████████                                                        | 31/100 [00:03<00:08,  8.29it/s]"
     ]
    },
    {
     "name": "stdout",
     "output_type": "stream",
     "text": [
      "1/1 [==============================] - 0s 94ms/step\n"
     ]
    },
    {
     "name": "stderr",
     "output_type": "stream",
     "text": [
      "\r",
      " 32%|█████████████████████████▉                                                       | 32/100 [00:03<00:08,  8.29it/s]"
     ]
    },
    {
     "name": "stdout",
     "output_type": "stream",
     "text": [
      "1/1 [==============================] - 0s 93ms/step\n"
     ]
    },
    {
     "name": "stderr",
     "output_type": "stream",
     "text": [
      "\r",
      " 33%|██████████████████████████▋                                                      | 33/100 [00:03<00:07,  8.40it/s]"
     ]
    },
    {
     "name": "stdout",
     "output_type": "stream",
     "text": [
      "1/1 [==============================] - 0s 91ms/step\n"
     ]
    },
    {
     "name": "stderr",
     "output_type": "stream",
     "text": [
      "\r",
      " 34%|███████████████████████████▌                                                     | 34/100 [00:04<00:07,  8.52it/s]"
     ]
    },
    {
     "name": "stdout",
     "output_type": "stream",
     "text": [
      "1/1 [==============================] - 0s 88ms/step\n"
     ]
    },
    {
     "name": "stderr",
     "output_type": "stream",
     "text": [
      "\r",
      " 35%|████████████████████████████▎                                                    | 35/100 [00:04<00:07,  8.69it/s]"
     ]
    },
    {
     "name": "stdout",
     "output_type": "stream",
     "text": [
      "1/1 [==============================] - 0s 89ms/step\n"
     ]
    },
    {
     "name": "stderr",
     "output_type": "stream",
     "text": [
      "\r",
      " 36%|█████████████████████████████▏                                                   | 36/100 [00:04<00:07,  8.80it/s]"
     ]
    },
    {
     "name": "stdout",
     "output_type": "stream",
     "text": [
      "1/1 [==============================] - 0s 90ms/step\n"
     ]
    },
    {
     "name": "stderr",
     "output_type": "stream",
     "text": [
      "\r",
      " 37%|█████████████████████████████▉                                                   | 37/100 [00:04<00:07,  8.83it/s]"
     ]
    },
    {
     "name": "stdout",
     "output_type": "stream",
     "text": [
      "1/1 [==============================] - 0s 90ms/step\n"
     ]
    },
    {
     "name": "stderr",
     "output_type": "stream",
     "text": [
      "\r",
      " 38%|██████████████████████████████▊                                                  | 38/100 [00:04<00:07,  8.81it/s]"
     ]
    },
    {
     "name": "stdout",
     "output_type": "stream",
     "text": [
      "1/1 [==============================] - 0s 96ms/step\n"
     ]
    },
    {
     "name": "stderr",
     "output_type": "stream",
     "text": [
      "\r",
      " 39%|███████████████████████████████▌                                                 | 39/100 [00:04<00:06,  8.72it/s]"
     ]
    },
    {
     "name": "stdout",
     "output_type": "stream",
     "text": [
      "1/1 [==============================] - 0s 88ms/step\n"
     ]
    },
    {
     "name": "stderr",
     "output_type": "stream",
     "text": [
      "\r",
      " 40%|████████████████████████████████▍                                                | 40/100 [00:04<00:06,  8.84it/s]"
     ]
    },
    {
     "name": "stdout",
     "output_type": "stream",
     "text": [
      "1/1 [==============================] - 0s 90ms/step\n"
     ]
    },
    {
     "name": "stderr",
     "output_type": "stream",
     "text": [
      "\r",
      " 41%|█████████████████████████████████▏                                               | 41/100 [00:04<00:06,  8.83it/s]"
     ]
    },
    {
     "name": "stdout",
     "output_type": "stream",
     "text": [
      "1/1 [==============================] - 0s 97ms/step\n"
     ]
    },
    {
     "name": "stderr",
     "output_type": "stream",
     "text": [
      "\r",
      " 42%|██████████████████████████████████                                               | 42/100 [00:04<00:06,  8.55it/s]"
     ]
    },
    {
     "name": "stdout",
     "output_type": "stream",
     "text": [
      "1/1 [==============================] - 0s 102ms/step\n"
     ]
    },
    {
     "name": "stderr",
     "output_type": "stream",
     "text": [
      "\r",
      " 43%|██████████████████████████████████▊                                              | 43/100 [00:05<00:06,  8.39it/s]"
     ]
    },
    {
     "name": "stdout",
     "output_type": "stream",
     "text": [
      "1/1 [==============================] - 0s 104ms/step\n"
     ]
    },
    {
     "name": "stderr",
     "output_type": "stream",
     "text": [
      "\r",
      " 44%|███████████████████████████████████▋                                             | 44/100 [00:05<00:06,  8.25it/s]"
     ]
    },
    {
     "name": "stdout",
     "output_type": "stream",
     "text": [
      "1/1 [==============================] - 0s 104ms/step\n"
     ]
    },
    {
     "name": "stderr",
     "output_type": "stream",
     "text": [
      "\r",
      " 45%|████████████████████████████████████▍                                            | 45/100 [00:05<00:06,  8.13it/s]"
     ]
    },
    {
     "name": "stdout",
     "output_type": "stream",
     "text": [
      "1/1 [==============================] - 0s 100ms/step\n"
     ]
    },
    {
     "name": "stderr",
     "output_type": "stream",
     "text": [
      "\r",
      " 46%|█████████████████████████████████████▎                                           | 46/100 [00:05<00:06,  8.14it/s]"
     ]
    },
    {
     "name": "stdout",
     "output_type": "stream",
     "text": [
      "1/1 [==============================] - 0s 97ms/step\n"
     ]
    },
    {
     "name": "stderr",
     "output_type": "stream",
     "text": [
      "\r",
      " 47%|██████████████████████████████████████                                           | 47/100 [00:05<00:06,  8.17it/s]"
     ]
    },
    {
     "name": "stdout",
     "output_type": "stream",
     "text": [
      "1/1 [==============================] - 0s 91ms/step\n"
     ]
    },
    {
     "name": "stderr",
     "output_type": "stream",
     "text": [
      "\r",
      " 48%|██████████████████████████████████████▉                                          | 48/100 [00:05<00:06,  8.36it/s]"
     ]
    },
    {
     "name": "stdout",
     "output_type": "stream",
     "text": [
      "1/1 [==============================] - 0s 97ms/step\n"
     ]
    },
    {
     "name": "stderr",
     "output_type": "stream",
     "text": [
      "\r",
      " 49%|███████████████████████████████████████▋                                         | 49/100 [00:05<00:06,  8.35it/s]"
     ]
    },
    {
     "name": "stdout",
     "output_type": "stream",
     "text": [
      "1/1 [==============================] - 0s 92ms/step\n"
     ]
    },
    {
     "name": "stderr",
     "output_type": "stream",
     "text": [
      "\r",
      " 50%|████████████████████████████████████████▌                                        | 50/100 [00:05<00:05,  8.48it/s]"
     ]
    },
    {
     "name": "stdout",
     "output_type": "stream",
     "text": [
      "1/1 [==============================] - 0s 91ms/step\n"
     ]
    },
    {
     "name": "stderr",
     "output_type": "stream",
     "text": [
      "\r",
      " 51%|█████████████████████████████████████████▎                                       | 51/100 [00:06<00:05,  8.51it/s]"
     ]
    },
    {
     "name": "stdout",
     "output_type": "stream",
     "text": [
      "1/1 [==============================] - 0s 98ms/step\n"
     ]
    },
    {
     "name": "stderr",
     "output_type": "stream",
     "text": [
      "\r",
      " 52%|██████████████████████████████████████████                                       | 52/100 [00:06<00:05,  8.45it/s]"
     ]
    },
    {
     "name": "stdout",
     "output_type": "stream",
     "text": [
      "1/1 [==============================] - 0s 91ms/step\n"
     ]
    },
    {
     "name": "stderr",
     "output_type": "stream",
     "text": [
      "\r",
      " 53%|██████████████████████████████████████████▉                                      | 53/100 [00:06<00:05,  8.55it/s]"
     ]
    },
    {
     "name": "stdout",
     "output_type": "stream",
     "text": [
      "1/1 [==============================] - 0s 99ms/step\n"
     ]
    },
    {
     "name": "stderr",
     "output_type": "stream",
     "text": [
      "\r",
      " 54%|███████████████████████████████████████████▋                                     | 54/100 [00:06<00:05,  8.43it/s]"
     ]
    },
    {
     "name": "stdout",
     "output_type": "stream",
     "text": [
      "1/1 [==============================] - 0s 90ms/step\n"
     ]
    },
    {
     "name": "stderr",
     "output_type": "stream",
     "text": [
      "\r",
      " 55%|████████████████████████████████████████████▌                                    | 55/100 [00:06<00:05,  8.53it/s]"
     ]
    },
    {
     "name": "stdout",
     "output_type": "stream",
     "text": [
      "1/1 [==============================] - 0s 99ms/step\n"
     ]
    },
    {
     "name": "stderr",
     "output_type": "stream",
     "text": [
      "\r",
      " 56%|█████████████████████████████████████████████▎                                   | 56/100 [00:06<00:05,  8.46it/s]"
     ]
    },
    {
     "name": "stdout",
     "output_type": "stream",
     "text": [
      "1/1 [==============================] - 0s 95ms/step\n"
     ]
    },
    {
     "name": "stderr",
     "output_type": "stream",
     "text": [
      "\r",
      " 57%|██████████████████████████████████████████████▏                                  | 57/100 [00:06<00:05,  8.49it/s]"
     ]
    },
    {
     "name": "stdout",
     "output_type": "stream",
     "text": [
      "1/1 [==============================] - 0s 94ms/step\n"
     ]
    },
    {
     "name": "stderr",
     "output_type": "stream",
     "text": [
      "\r",
      " 58%|██████████████████████████████████████████████▉                                  | 58/100 [00:06<00:04,  8.49it/s]"
     ]
    },
    {
     "name": "stdout",
     "output_type": "stream",
     "text": [
      "1/1 [==============================] - 0s 93ms/step\n"
     ]
    },
    {
     "name": "stderr",
     "output_type": "stream",
     "text": [
      "\r",
      " 59%|███████████████████████████████████████████████▊                                 | 59/100 [00:06<00:04,  8.48it/s]"
     ]
    },
    {
     "name": "stdout",
     "output_type": "stream",
     "text": [
      "1/1 [==============================] - 0s 95ms/step\n"
     ]
    },
    {
     "name": "stderr",
     "output_type": "stream",
     "text": [
      "\r",
      " 60%|████████████████████████████████████████████████▌                                | 60/100 [00:07<00:04,  8.48it/s]"
     ]
    },
    {
     "name": "stdout",
     "output_type": "stream",
     "text": [
      "1/1 [==============================] - 0s 97ms/step\n"
     ]
    },
    {
     "name": "stderr",
     "output_type": "stream",
     "text": [
      "\r",
      " 61%|█████████████████████████████████████████████████▍                               | 61/100 [00:07<00:04,  8.34it/s]"
     ]
    },
    {
     "name": "stdout",
     "output_type": "stream",
     "text": [
      "1/1 [==============================] - 0s 91ms/step\n"
     ]
    },
    {
     "name": "stderr",
     "output_type": "stream",
     "text": [
      "\r",
      " 62%|██████████████████████████████████████████████████▏                              | 62/100 [00:07<00:04,  8.49it/s]"
     ]
    },
    {
     "name": "stdout",
     "output_type": "stream",
     "text": [
      "1/1 [==============================] - 0s 95ms/step\n"
     ]
    },
    {
     "name": "stderr",
     "output_type": "stream",
     "text": [
      "\r",
      " 63%|███████████████████████████████████████████████████                              | 63/100 [00:07<00:04,  8.50it/s]"
     ]
    },
    {
     "name": "stdout",
     "output_type": "stream",
     "text": [
      "1/1 [==============================] - 0s 93ms/step\n"
     ]
    },
    {
     "name": "stderr",
     "output_type": "stream",
     "text": [
      "\r",
      " 64%|███████████████████████████████████████████████████▊                             | 64/100 [00:07<00:04,  8.53it/s]"
     ]
    },
    {
     "name": "stdout",
     "output_type": "stream",
     "text": [
      "1/1 [==============================] - 0s 106ms/step\n"
     ]
    },
    {
     "name": "stderr",
     "output_type": "stream",
     "text": [
      "\r",
      " 65%|████████████████████████████████████████████████████▋                            | 65/100 [00:07<00:04,  8.22it/s]"
     ]
    },
    {
     "name": "stdout",
     "output_type": "stream",
     "text": [
      "1/1 [==============================] - 0s 94ms/step\n"
     ]
    },
    {
     "name": "stderr",
     "output_type": "stream",
     "text": [
      "\r",
      " 66%|█████████████████████████████████████████████████████▍                           | 66/100 [00:07<00:04,  8.33it/s]"
     ]
    },
    {
     "name": "stdout",
     "output_type": "stream",
     "text": [
      "1/1 [==============================] - 0s 95ms/step\n"
     ]
    },
    {
     "name": "stderr",
     "output_type": "stream",
     "text": [
      "\r",
      " 67%|██████████████████████████████████████████████████████▎                          | 67/100 [00:07<00:03,  8.38it/s]"
     ]
    },
    {
     "name": "stdout",
     "output_type": "stream",
     "text": [
      "1/1 [==============================] - 0s 100ms/step\n"
     ]
    },
    {
     "name": "stderr",
     "output_type": "stream",
     "text": [
      "\r",
      " 68%|███████████████████████████████████████████████████████                          | 68/100 [00:08<00:03,  8.31it/s]"
     ]
    },
    {
     "name": "stdout",
     "output_type": "stream",
     "text": [
      "1/1 [==============================] - 0s 104ms/step\n"
     ]
    },
    {
     "name": "stderr",
     "output_type": "stream",
     "text": [
      "\r",
      " 69%|███████████████████████████████████████████████████████▉                         | 69/100 [00:08<00:03,  8.21it/s]"
     ]
    },
    {
     "name": "stdout",
     "output_type": "stream",
     "text": [
      "1/1 [==============================] - 0s 103ms/step\n"
     ]
    },
    {
     "name": "stderr",
     "output_type": "stream",
     "text": [
      "\r",
      " 70%|████████████████████████████████████████████████████████▋                        | 70/100 [00:08<00:03,  8.03it/s]"
     ]
    },
    {
     "name": "stdout",
     "output_type": "stream",
     "text": [
      "1/1 [==============================] - 0s 93ms/step\n"
     ]
    },
    {
     "name": "stderr",
     "output_type": "stream",
     "text": [
      "\r",
      " 71%|█████████████████████████████████████████████████████████▌                       | 71/100 [00:08<00:03,  8.21it/s]"
     ]
    },
    {
     "name": "stdout",
     "output_type": "stream",
     "text": [
      "1/1 [==============================] - 0s 99ms/step\n"
     ]
    },
    {
     "name": "stderr",
     "output_type": "stream",
     "text": [
      "\r",
      " 72%|██████████████████████████████████████████████████████████▎                      | 72/100 [00:08<00:03,  8.19it/s]"
     ]
    },
    {
     "name": "stdout",
     "output_type": "stream",
     "text": [
      "1/1 [==============================] - 0s 100ms/step\n"
     ]
    },
    {
     "name": "stderr",
     "output_type": "stream",
     "text": [
      "\r",
      " 73%|███████████████████████████████████████████████████████████▏                     | 73/100 [00:08<00:03,  8.15it/s]"
     ]
    },
    {
     "name": "stdout",
     "output_type": "stream",
     "text": [
      "1/1 [==============================] - 0s 93ms/step\n"
     ]
    },
    {
     "name": "stderr",
     "output_type": "stream",
     "text": [
      "\r",
      " 74%|███████████████████████████████████████████████████████████▉                     | 74/100 [00:08<00:03,  8.28it/s]"
     ]
    },
    {
     "name": "stdout",
     "output_type": "stream",
     "text": [
      "1/1 [==============================] - 0s 98ms/step\n"
     ]
    },
    {
     "name": "stderr",
     "output_type": "stream",
     "text": [
      "\r",
      " 75%|████████████████████████████████████████████████████████████▊                    | 75/100 [00:08<00:03,  8.27it/s]"
     ]
    },
    {
     "name": "stdout",
     "output_type": "stream",
     "text": [
      "1/1 [==============================] - 0s 96ms/step\n"
     ]
    },
    {
     "name": "stderr",
     "output_type": "stream",
     "text": [
      "\r",
      " 76%|█████████████████████████████████████████████████████████████▌                   | 76/100 [00:09<00:02,  8.32it/s]"
     ]
    },
    {
     "name": "stdout",
     "output_type": "stream",
     "text": [
      "1/1 [==============================] - 0s 100ms/step\n"
     ]
    },
    {
     "name": "stderr",
     "output_type": "stream",
     "text": [
      "\r",
      " 77%|██████████████████████████████████████████████████████████████▎                  | 77/100 [00:09<00:02,  8.25it/s]"
     ]
    },
    {
     "name": "stdout",
     "output_type": "stream",
     "text": [
      "1/1 [==============================] - 0s 94ms/step\n"
     ]
    },
    {
     "name": "stderr",
     "output_type": "stream",
     "text": [
      "\r",
      " 78%|███████████████████████████████████████████████████████████████▏                 | 78/100 [00:09<00:02,  8.33it/s]"
     ]
    },
    {
     "name": "stdout",
     "output_type": "stream",
     "text": [
      "1/1 [==============================] - 0s 90ms/step\n"
     ]
    },
    {
     "name": "stderr",
     "output_type": "stream",
     "text": [
      "\r",
      " 79%|███████████████████████████████████████████████████████████████▉                 | 79/100 [00:09<00:02,  8.47it/s]"
     ]
    },
    {
     "name": "stdout",
     "output_type": "stream",
     "text": [
      "1/1 [==============================] - 0s 102ms/step\n"
     ]
    },
    {
     "name": "stderr",
     "output_type": "stream",
     "text": [
      "\r",
      " 80%|████████████████████████████████████████████████████████████████▊                | 80/100 [00:09<00:02,  8.15it/s]"
     ]
    },
    {
     "name": "stdout",
     "output_type": "stream",
     "text": [
      "1/1 [==============================] - 0s 107ms/step\n"
     ]
    },
    {
     "name": "stderr",
     "output_type": "stream",
     "text": [
      "\r",
      " 81%|█████████████████████████████████████████████████████████████████▌               | 81/100 [00:09<00:02,  7.97it/s]"
     ]
    },
    {
     "name": "stdout",
     "output_type": "stream",
     "text": [
      "1/1 [==============================] - 0s 106ms/step\n"
     ]
    },
    {
     "name": "stderr",
     "output_type": "stream",
     "text": [
      "\r",
      " 82%|██████████████████████████████████████████████████████████████████▍              | 82/100 [00:09<00:02,  7.89it/s]"
     ]
    },
    {
     "name": "stdout",
     "output_type": "stream",
     "text": [
      "1/1 [==============================] - 0s 104ms/step\n"
     ]
    },
    {
     "name": "stderr",
     "output_type": "stream",
     "text": [
      "\r",
      " 83%|███████████████████████████████████████████████████████████████████▏             | 83/100 [00:09<00:02,  7.89it/s]"
     ]
    },
    {
     "name": "stdout",
     "output_type": "stream",
     "text": [
      "1/1 [==============================] - 0s 105ms/step\n"
     ]
    },
    {
     "name": "stderr",
     "output_type": "stream",
     "text": [
      "\r",
      " 84%|████████████████████████████████████████████████████████████████████             | 84/100 [00:10<00:02,  7.84it/s]"
     ]
    },
    {
     "name": "stdout",
     "output_type": "stream",
     "text": [
      "1/1 [==============================] - 0s 100ms/step\n"
     ]
    },
    {
     "name": "stderr",
     "output_type": "stream",
     "text": [
      "\r",
      " 85%|████████████████████████████████████████████████████████████████████▊            | 85/100 [00:10<00:01,  7.90it/s]"
     ]
    },
    {
     "name": "stdout",
     "output_type": "stream",
     "text": [
      "1/1 [==============================] - 0s 103ms/step\n"
     ]
    },
    {
     "name": "stderr",
     "output_type": "stream",
     "text": [
      "\r",
      " 86%|█████████████████████████████████████████████████████████████████████▋           | 86/100 [00:10<00:01,  7.91it/s]"
     ]
    },
    {
     "name": "stdout",
     "output_type": "stream",
     "text": [
      "1/1 [==============================] - 0s 95ms/step\n"
     ]
    },
    {
     "name": "stderr",
     "output_type": "stream",
     "text": [
      "\r",
      " 87%|██████████████████████████████████████████████████████████████████████▍          | 87/100 [00:10<00:01,  8.06it/s]"
     ]
    },
    {
     "name": "stdout",
     "output_type": "stream",
     "text": [
      "1/1 [==============================] - 0s 105ms/step\n"
     ]
    },
    {
     "name": "stderr",
     "output_type": "stream",
     "text": [
      "\r",
      " 88%|███████████████████████████████████████████████████████████████████████▎         | 88/100 [00:10<00:01,  7.99it/s]"
     ]
    },
    {
     "name": "stdout",
     "output_type": "stream",
     "text": [
      "1/1 [==============================] - 0s 106ms/step\n"
     ]
    },
    {
     "name": "stderr",
     "output_type": "stream",
     "text": [
      "\r",
      " 89%|████████████████████████████████████████████████████████████████████████         | 89/100 [00:10<00:01,  7.90it/s]"
     ]
    },
    {
     "name": "stdout",
     "output_type": "stream",
     "text": [
      "1/1 [==============================] - 0s 102ms/step\n"
     ]
    },
    {
     "name": "stderr",
     "output_type": "stream",
     "text": [
      "\r",
      " 90%|████████████████████████████████████████████████████████████████████████▉        | 90/100 [00:10<00:01,  7.89it/s]"
     ]
    },
    {
     "name": "stdout",
     "output_type": "stream",
     "text": [
      "1/1 [==============================] - 0s 105ms/step\n"
     ]
    },
    {
     "name": "stderr",
     "output_type": "stream",
     "text": [
      "\r",
      " 91%|█████████████████████████████████████████████████████████████████████████▋       | 91/100 [00:10<00:01,  7.84it/s]"
     ]
    },
    {
     "name": "stdout",
     "output_type": "stream",
     "text": [
      "1/1 [==============================] - 0s 97ms/step\n"
     ]
    },
    {
     "name": "stderr",
     "output_type": "stream",
     "text": [
      "\r",
      " 92%|██████████████████████████████████████████████████████████████████████████▌      | 92/100 [00:11<00:01,  7.99it/s]"
     ]
    },
    {
     "name": "stdout",
     "output_type": "stream",
     "text": [
      "1/1 [==============================] - 0s 106ms/step\n"
     ]
    },
    {
     "name": "stderr",
     "output_type": "stream",
     "text": [
      "\r",
      " 93%|███████████████████████████████████████████████████████████████████████████▎     | 93/100 [00:11<00:00,  7.97it/s]"
     ]
    },
    {
     "name": "stdout",
     "output_type": "stream",
     "text": [
      "1/1 [==============================] - 0s 96ms/step\n"
     ]
    },
    {
     "name": "stderr",
     "output_type": "stream",
     "text": [
      "\r",
      " 94%|████████████████████████████████████████████████████████████████████████████▏    | 94/100 [00:11<00:00,  8.08it/s]"
     ]
    },
    {
     "name": "stdout",
     "output_type": "stream",
     "text": [
      "1/1 [==============================] - 0s 101ms/step\n"
     ]
    },
    {
     "name": "stderr",
     "output_type": "stream",
     "text": [
      "\r",
      " 95%|████████████████████████████████████████████████████████████████████████████▉    | 95/100 [00:11<00:00,  8.08it/s]"
     ]
    },
    {
     "name": "stdout",
     "output_type": "stream",
     "text": [
      "1/1 [==============================] - 0s 96ms/step\n"
     ]
    },
    {
     "name": "stderr",
     "output_type": "stream",
     "text": [
      "\r",
      " 96%|█████████████████████████████████████████████████████████████████████████████▊   | 96/100 [00:11<00:00,  8.18it/s]"
     ]
    },
    {
     "name": "stdout",
     "output_type": "stream",
     "text": [
      "1/1 [==============================] - 0s 107ms/step\n"
     ]
    },
    {
     "name": "stderr",
     "output_type": "stream",
     "text": [
      "\r",
      " 97%|██████████████████████████████████████████████████████████████████████████████▌  | 97/100 [00:11<00:00,  8.02it/s]"
     ]
    },
    {
     "name": "stdout",
     "output_type": "stream",
     "text": [
      "1/1 [==============================] - 0s 107ms/step\n"
     ]
    },
    {
     "name": "stderr",
     "output_type": "stream",
     "text": [
      "\r",
      " 98%|███████████████████████████████████████████████████████████████████████████████▍ | 98/100 [00:11<00:00,  7.95it/s]"
     ]
    },
    {
     "name": "stdout",
     "output_type": "stream",
     "text": [
      "1/1 [==============================] - 0s 102ms/step\n"
     ]
    },
    {
     "name": "stderr",
     "output_type": "stream",
     "text": [
      "\r",
      " 99%|████████████████████████████████████████████████████████████████████████████████▏| 99/100 [00:11<00:00,  7.87it/s]"
     ]
    },
    {
     "name": "stdout",
     "output_type": "stream",
     "text": [
      "1/1 [==============================] - 0s 103ms/step\n"
     ]
    },
    {
     "name": "stderr",
     "output_type": "stream",
     "text": [
      "100%|████████████████████████████████████████████████████████████████████████████████| 100/100 [00:12<00:00,  8.29it/s]\n"
     ]
    }
   ],
   "source": [
    "predictions = []\n",
    "for i in tqdm(encoding_list):\n",
    "    predictions.append(decoder.predict(i))"
   ]
  },
  {
   "cell_type": "code",
   "execution_count": 45,
   "id": "1220449d",
   "metadata": {},
   "outputs": [
    {
     "name": "stdout",
     "output_type": "stream",
     "text": [
      "100\n",
      "(1, 224, 224, 3)\n"
     ]
    }
   ],
   "source": [
    "print(len(predictions))\n",
    "print(predictions[0].shape)"
   ]
  },
  {
   "cell_type": "code",
   "execution_count": 46,
   "id": "5136e87f",
   "metadata": {},
   "outputs": [
    {
     "name": "stdout",
     "output_type": "stream",
     "text": [
      "100\n",
      "(1, 224, 224, 3)\n"
     ]
    }
   ],
   "source": [
    "print(len(all_images_anime))\n",
    "print(all_images_anime[0].shape)"
   ]
  },
  {
   "cell_type": "code",
   "execution_count": 58,
   "id": "80526fb1",
   "metadata": {},
   "outputs": [
    {
     "name": "stdout",
     "output_type": "stream",
     "text": [
      "(224, 224, 3)\n"
     ]
    },
    {
     "data": {
      "text/plain": [
       "<matplotlib.image.AxesImage at 0x2352bb53580>"
      ]
     },
     "execution_count": 58,
     "metadata": {},
     "output_type": "execute_result"
    },
    {
     "data": {
      "image/png": "[encoded data removed]",
      "text/plain": [
       "<Figure size 432x288 with 1 Axes>"
      ]
     },
     "metadata": {
      "needs_background": "light"
     },
     "output_type": "display_data"
    }
   ],
   "source": [
    "utils.load_img(anime_images[3])\n",
    "utils.face_image(anime_image[3])\n",
    "tmp = predictions[0][0]*255.0\n",
    "print(tmp.shape)\n",
    "img = utils.array_to_img(tmp)\n",
    "plt.imshow(img)"
   ]
  },
  {
   "cell_type": "code",
   "execution_count": null,
   "id": "6123fad6",
   "metadata": {},
   "outputs": [],
   "source": []
  }
 ],
 "metadata": {
  "kernelspec": {
   "display_name": "Python 3 (ipykernel)",
   "language": "python",
   "name": "python3"
  },
  "language_info": {
   "codemirror_mode": {
    "name": "ipython",
    "version": 3
   },
   "file_extension": ".py",
   "mimetype": "text/x-python",
   "name": "python",
   "nbconvert_exporter": "python",
   "pygments_lexer": "ipython3",
   "version": "3.10.6"
  },
  "latex_envs": {
   "LaTeX_envs_menu_present": true,
   "autoclose": false,
   "autocomplete": true,
   "bibliofile": "biblio.bib",
   "cite_by": "apalike",
   "current_citInitial": 1,
   "eqLabelWithNumbers": true,
   "eqNumInitial": 1,
   "hotkeys": {
    "equation": "Ctrl-E",
    "itemize": "Ctrl-I"
   },
   "labels_anchors": false,
   "latex_user_defs": false,
   "report_style_numbering": false,
   "user_envs_cfg": false
  }
 },
 "nbformat": 4,
 "nbformat_minor": 5
}
